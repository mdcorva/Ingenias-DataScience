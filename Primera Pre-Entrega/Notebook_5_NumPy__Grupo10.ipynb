{
  "nbformat": 4,
  "nbformat_minor": 0,
  "metadata": {
    "kernelspec": {
      "display_name": "Python 3",
      "language": "python",
      "name": "python3"
    },
    "language_info": {
      "codemirror_mode": {
        "name": "ipython",
        "version": 3
      },
      "file_extension": ".py",
      "mimetype": "text/x-python",
      "name": "python",
      "nbconvert_exporter": "python",
      "pygments_lexer": "ipython3",
      "version": "3.7.3"
    },
    "colab": {
      "provenance": [],
      "include_colab_link": true
    }
  },
  "cells": [
    {
      "cell_type": "markdown",
      "metadata": {
        "id": "view-in-github",
        "colab_type": "text"
      },
      "source": [
        "<a href=\"https://colab.research.google.com/github/mdcorva/Ingenias-DataScience/blob/main/Notebook_5_NumPy__Grupo10.ipynb\" target=\"_parent\"><img src=\"https://colab.research.google.com/assets/colab-badge.svg\" alt=\"Open In Colab\"/></a>"
      ]
    },
    {
      "cell_type": "markdown",
      "metadata": {
        "id": "Gp2WddtV9IwG"
      },
      "source": [
        "# Programa Ingenias+ Data Science"
      ]
    },
    {
      "cell_type": "markdown",
      "metadata": {
        "id": "H4M1yVbf9IwH"
      },
      "source": [
        "Como dijimos en clases anteriores, Python tiene implementadas muchas librerias para poder trabajar con datos. En la clase de hoy trabajaremos con una de ellas: `Numpy`."
      ]
    },
    {
      "cell_type": "markdown",
      "metadata": {
        "id": "GdTT8WeL9IwI"
      },
      "source": [
        "Antes de comenzar, vamos a hablar un poco de esta libreria o modulo.\n",
        "\n",
        "**Numpy** es una librería optimizada para realizar cálculos numéricos con vectores y matrices. A diferencia de otros lenguajes de programación, Python no posee en su estructura central la figura de matrices. Eso quiere decir que para poder trabajar con esta estructura de datos deberiamos trabajar con listas de listas. NumPy introduce el concepto de arrays o matrices."
      ]
    },
    {
      "cell_type": "markdown",
      "metadata": {
        "id": "qWkq3EHK9IwK"
      },
      "source": [
        "Al ser de código abierto, `numpy` posee una documentación muy amplia que es **SIEMPRE RECOMENDABLE** consultar."
      ]
    },
    {
      "cell_type": "markdown",
      "metadata": {
        "id": "nxe3KLUO9IwL"
      },
      "source": [
        "- [Documentacion NumPy](https://devdocs.io/numpy/)"
      ]
    },
    {
      "cell_type": "markdown",
      "metadata": {
        "id": "l1Ay3nSs9IwN"
      },
      "source": [
        "## Clase 4: Introduccion a NumPy"
      ]
    },
    {
      "cell_type": "markdown",
      "metadata": {
        "id": "X03mviQS9IyL"
      },
      "source": [
        "# Ejercicios\n",
        "\n",
        "1. Crear un arreglo de ceros de longitud 12\n",
        "2. Crear un arreglo de longitud 10 con ceros en todas sus posiciones y un 10 en la posición número 5\n",
        "3. Crear un arreglo que tenga los números del 10 al 49\n",
        "4. Crear una arreglo 2d de shape (3, 3) que tenga los números del 0 al 8\n",
        "5. Crear un arreglo de números aleatorios de longitud 100 y obtener su media y varianza\n",
        "6. Calcular la media de un arreglo usando np.sum\n",
        "7. Calcular la varianza de un arreglo usando np.sum y np.mean\n",
        "8. Crear un array de números aleatorios usando np.random.randn.\n"
      ]
    },
    {
      "cell_type": "code",
      "metadata": {
        "id": "G0NMKT609IyM"
      },
      "source": [
        "#Importamos primero la libreria y su alias\n",
        "import numpy as np"
      ],
      "execution_count": null,
      "outputs": []
    },
    {
      "cell_type": "code",
      "source": [
        "#1.Crear un arreglo de ceros de longitud 12\n",
        "ceros=np.zeros(12) #Creamos un array compuesto por ceros con la función np.zeros y en el argumento colocamos la longitud (12)\n",
        "ceros              #Ejecutamos"
      ],
      "metadata": {
        "colab": {
          "base_uri": "https://localhost:8080/"
        },
        "id": "8gRSunND-KZN",
        "outputId": "7dcef437-42cc-43a5-d904-0b3229d12cbe"
      },
      "execution_count": null,
      "outputs": [
        {
          "output_type": "execute_result",
          "data": {
            "text/plain": [
              "array([0., 0., 0., 0., 0., 0., 0., 0., 0., 0., 0., 0.])"
            ]
          },
          "metadata": {},
          "execution_count": 7
        }
      ]
    },
    {
      "cell_type": "code",
      "source": [
        "#2.Crear un arreglo de longitud 10 con ceros en todas sus posiciones y un 10 en la posición número 5\n",
        "ceros=np.zeros(10) #Creamos un array compuesto por ceros con la función np.zeros y en el argumento colocamos la longitud (10)\n",
        "ceros[5]=10        # Indicamos que en la posición número 5 queremos el valor 10\n",
        "ceros"
      ],
      "metadata": {
        "colab": {
          "base_uri": "https://localhost:8080/"
        },
        "id": "2F2u536u-SfJ",
        "outputId": "293f9d13-8e69-4ab8-d02e-47a49c95c5e7"
      },
      "execution_count": null,
      "outputs": [
        {
          "output_type": "execute_result",
          "data": {
            "text/plain": [
              "array([ 0.,  0.,  0.,  0.,  0., 10.,  0.,  0.,  0.,  0.])"
            ]
          },
          "metadata": {},
          "execution_count": 8
        }
      ]
    },
    {
      "cell_type": "code",
      "source": [
        "#3.Crear un arreglo que tenga los números del 10 al 49\n",
        "a=range(10,50) # Definimos una variable y usamos la función range para traer los números entre 10 y 49, tomando como máximo valor 50 para que incluya el 49\n",
        "a=np.array(a)  # Convertimos esa lista de un array\n",
        "a"
      ],
      "metadata": {
        "colab": {
          "base_uri": "https://localhost:8080/"
        },
        "id": "7Ppn7zUW-fZw",
        "outputId": "4569894a-ee9d-4df2-c4be-5451b8b3f4a4"
      },
      "execution_count": null,
      "outputs": [
        {
          "output_type": "execute_result",
          "data": {
            "text/plain": [
              "array([10, 11, 12, 13, 14, 15, 16, 17, 18, 19, 20, 21, 22, 23, 24, 25, 26,\n",
              "       27, 28, 29, 30, 31, 32, 33, 34, 35, 36, 37, 38, 39, 40, 41, 42, 43,\n",
              "       44, 45, 46, 47, 48, 49])"
            ]
          },
          "metadata": {},
          "execution_count": 9
        }
      ]
    },
    {
      "cell_type": "code",
      "source": [
        "#4.Crear una arreglo 2d de shape (3, 3) que tenga los números del 0 al 8\n",
        "b=range(0,9) # Definimos una variable y usamos la función range para traer los números entre 0 y 8 inclusive\n",
        "c= np.reshape(b,(3,3)) #Formateamos el array en para que sean 3 filas y 3 columnas (3,3) con la función np.reshape\n",
        "c"
      ],
      "metadata": {
        "colab": {
          "base_uri": "https://localhost:8080/"
        },
        "id": "curRr859-4QH",
        "outputId": "35c3ca9c-3ed4-458b-e217-e7b2a7beee27"
      },
      "execution_count": null,
      "outputs": [
        {
          "output_type": "execute_result",
          "data": {
            "text/plain": [
              "array([[0, 1, 2],\n",
              "       [3, 4, 5],\n",
              "       [6, 7, 8]])"
            ]
          },
          "metadata": {},
          "execution_count": 10
        }
      ]
    },
    {
      "cell_type": "code",
      "source": [
        "#5.Crear un arreglo de números aleatorios de longitud 100 y obtener su media y varianza\n",
        "arr = np.random.rand(100) # Creamos un arreglo de números aleatorios con 100 números\n",
        "mean = np.mean(arr)       # Obtenemos la media del arreglo con la función np.mean\n",
        "var = np.var(arr)         # Obtenemos la varianza del arreglo con la función np.var\n",
        "print(mean)               #Vemos el resultado\n",
        "print(var)                #Vemos el resultado\n",
        "\n",
        "#def aleatorio():\n",
        "#  #a es la longitud del arreglo\n",
        "# return(np.random.randn(a))\n"
      ],
      "metadata": {
        "id": "P8A58gQhGXH-",
        "colab": {
          "base_uri": "https://localhost:8080/"
        },
        "outputId": "eee133e3-f744-47de-af7c-9e82e92c3512"
      },
      "execution_count": null,
      "outputs": [
        {
          "output_type": "stream",
          "name": "stdout",
          "text": [
            "0.5224846310712395\n",
            "0.07864450804480932\n"
          ]
        }
      ]
    },
    {
      "cell_type": "code",
      "source": [
        "#6.Calcular la media de un arreglo usando np.sum\n",
        "\n",
        "#def media(arreglo):\n",
        "  #suma=np.sum(arreglo)\n",
        "  #n=len(arreglo)\n",
        "  #return(suma/n)\n",
        "\n",
        "def media(arreglo):                            #Armamos una función para calcular la media donde el parámetro sea el arreglo\n",
        "  mean = np.sum(arreglo) / len(arreglo)        #Definimos la media diviendo el total del arreglo(np.sum) por la cantidad de registros en el arreglo(len)\n",
        "\n",
        "\n",
        "\n"
      ],
      "metadata": {
        "id": "Y7o0LplmABHu"
      },
      "execution_count": null,
      "outputs": []
    },
    {
      "cell_type": "code",
      "source": [
        "#7.Calcular la varianza de un arreglo usando np.sum y np.mean\n",
        "#def varianza(arreglo):\n",
        "#  media=np.mean(arreglo)\n",
        "#  suma=sum(arreglo-media)\n",
        "#  n=len(arreglo)\n",
        "#  return(suma/n)\n",
        "\n",
        "d=np.random.randint(100,size=100)  #Generamos un arreglo aleatorio de 100 números enteros con la función np.random.randint\n",
        "media=np.mean(d)                   #Calculamos la media con np.mean\n",
        "varia=np.var(d)                    #Calculamos la varianza\n",
        "print(media)                       #Vemos el resultado\n",
        "print(varia)                       #Vemos el resultado"
      ],
      "metadata": {
        "id": "5-h1XZ69_zvn",
        "colab": {
          "base_uri": "https://localhost:8080/"
        },
        "outputId": "05ce01fa-e86b-4bd7-9f3d-24dc59cf2973"
      },
      "execution_count": null,
      "outputs": [
        {
          "output_type": "stream",
          "name": "stdout",
          "text": [
            "47.2\n",
            "805.0\n"
          ]
        }
      ]
    },
    {
      "cell_type": "code",
      "source": [
        "#8.Crear un array de números aleatorios usando np.random.randn.\n",
        "y=np.random.rand (5) #Generamos un array con valores al azar con una distribución entre 0 y 1 y segun las dimensiones pasadas como argumento(5)\n",
        "print(y)             #Vemos el resultado"
      ],
      "metadata": {
        "colab": {
          "base_uri": "https://localhost:8080/"
        },
        "id": "20P9AsOG_Qsv",
        "outputId": "d9411694-8f5a-4166-d28c-0bfadc165cf2"
      },
      "execution_count": null,
      "outputs": [
        {
          "output_type": "stream",
          "name": "stdout",
          "text": [
            "[0.21915869 0.26836537 0.82444081 0.91037685 0.68506135]\n"
          ]
        }
      ]
    }
  ]
}