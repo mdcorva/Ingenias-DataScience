{
 "cells": [
  {
   "cell_type": "markdown",
   "metadata": {
    "id": "hAipadortrs1"
   },
   "source": [
    "\n",
    "# Programa Ingenia+ Data Science"
   ]
  },
  {
   "cell_type": "markdown",
   "metadata": {
    "id": "e82i9xLWtrs8"
   },
   "source": [
    "<font size=5> 🚀 👩🏽‍💻 Machine Learning: Aprendizaje Supervisado 📣</font>\n",
    "\n",
    "## Predicción de la producción de energía por fuente\n",
    "\n",
    "\n",
    "## Introducción\n",
    "\n",
    "En este estudio, vamos a leer los datos limpios y procesados para crear un modelo de aprendizaje automático que pueda predecir la producción de energía por fuente de energía individual.\n",
    "\n",
    "## Procedimiento\n",
    "\n",
    "1. Cargaremos los datos.\n",
    "2. Seleccionaremos una de las columnas de fuente de energía.\n",
    "3. Repetiremos el modelo para cada una de las siguientes fuentes de energía:\n",
    "    * Eólico\n",
    "    * Hidroeléctrico (<50 MW)\n",
    "\n",
    "## Resultados\n",
    "\n",
    "Al repetir el modelo para cada fuente de energía, podremos obtener una mejor comprensión de la producción de energía por fuente.\n",
    "\n",
    "En este caso trabajamos con la **energía solar**."
   ]
  },
  {
   "cell_type": "code",
   "execution_count": 1,
   "metadata": {
    "executionInfo": {
     "elapsed": 1556,
     "status": "ok",
     "timestamp": 1701023443339,
     "user": {
      "displayName": "Julia Panei",
      "userId": "13714276047079325057"
     },
     "user_tz": 180
    },
    "id": "kq0OfMBEtrs8"
   },
   "outputs": [],
   "source": [
    "import pandas as pd\n",
    "import numpy as np\n",
    "import matplotlib.pyplot as plt\n",
    "import seaborn as sns\n",
    "import matplotlib.cm as cm\n",
    "import os\n",
    "from sklearn.preprocessing import MinMaxScaler\n",
    "from sklearn.preprocessing import StandardScaler"
   ]
  },
  {
   "cell_type": "code",
   "execution_count": 2,
   "metadata": {
    "colab": {
     "base_uri": "https://localhost:8080/",
     "height": 206
    },
    "executionInfo": {
     "elapsed": 338,
     "status": "ok",
     "timestamp": 1701023445947,
     "user": {
      "displayName": "Julia Panei",
      "userId": "13714276047079325057"
     },
     "user_tz": 180
    },
    "id": "5INo2AI_trs_",
    "outputId": "d65136c5-aabb-4170-944d-5fcfd9bfc1c5"
   },
   "outputs": [
    {
     "data": {
      "text/html": [
       "<div>\n",
       "<style scoped>\n",
       "    .dataframe tbody tr th:only-of-type {\n",
       "        vertical-align: middle;\n",
       "    }\n",
       "\n",
       "    .dataframe tbody tr th {\n",
       "        vertical-align: top;\n",
       "    }\n",
       "\n",
       "    .dataframe thead th {\n",
       "        text-align: right;\n",
       "    }\n",
       "</style>\n",
       "<table border=\"1\" class=\"dataframe\">\n",
       "  <thead>\n",
       "    <tr style=\"text-align: right;\">\n",
       "      <th></th>\n",
       "      <th>anio</th>\n",
       "      <th>mes</th>\n",
       "      <th>region</th>\n",
       "      <th>prov</th>\n",
       "      <th>SOLAR</th>\n",
       "      <th>energia_gen</th>\n",
       "    </tr>\n",
       "  </thead>\n",
       "  <tbody>\n",
       "    <tr>\n",
       "      <th>0</th>\n",
       "      <td>2011</td>\n",
       "      <td>1</td>\n",
       "      <td>CUYO</td>\n",
       "      <td>SAN JUAN</td>\n",
       "      <td>True</td>\n",
       "      <td>0.0</td>\n",
       "    </tr>\n",
       "    <tr>\n",
       "      <th>1</th>\n",
       "      <td>2011</td>\n",
       "      <td>2</td>\n",
       "      <td>CUYO</td>\n",
       "      <td>SAN JUAN</td>\n",
       "      <td>True</td>\n",
       "      <td>0.0</td>\n",
       "    </tr>\n",
       "    <tr>\n",
       "      <th>2</th>\n",
       "      <td>2011</td>\n",
       "      <td>3</td>\n",
       "      <td>CUYO</td>\n",
       "      <td>SAN JUAN</td>\n",
       "      <td>True</td>\n",
       "      <td>0.1</td>\n",
       "    </tr>\n",
       "    <tr>\n",
       "      <th>3</th>\n",
       "      <td>2011</td>\n",
       "      <td>4</td>\n",
       "      <td>CUYO</td>\n",
       "      <td>SAN JUAN</td>\n",
       "      <td>True</td>\n",
       "      <td>0.2</td>\n",
       "    </tr>\n",
       "    <tr>\n",
       "      <th>4</th>\n",
       "      <td>2011</td>\n",
       "      <td>5</td>\n",
       "      <td>CUYO</td>\n",
       "      <td>SAN JUAN</td>\n",
       "      <td>True</td>\n",
       "      <td>0.2</td>\n",
       "    </tr>\n",
       "  </tbody>\n",
       "</table>\n",
       "</div>"
      ],
      "text/plain": [
       "   anio  mes region      prov  SOLAR  energia_gen\n",
       "0  2011    1   CUYO  SAN JUAN   True          0.0\n",
       "1  2011    2   CUYO  SAN JUAN   True          0.0\n",
       "2  2011    3   CUYO  SAN JUAN   True          0.1\n",
       "3  2011    4   CUYO  SAN JUAN   True          0.2\n",
       "4  2011    5   CUYO  SAN JUAN   True          0.2"
      ]
     },
     "execution_count": 2,
     "metadata": {},
     "output_type": "execute_result"
    }
   ],
   "source": [
    "# Leemos los datos de energía\n",
    "er_limpio_solar = pd.read_csv('../Datos/er_SOLAR.csv')\n",
    "er_limpio_solar.head()"
   ]
  },
  {
   "cell_type": "markdown",
   "metadata": {
    "id": "GDMDD_z6trs_"
   },
   "source": [
    "Ahora tenemos que decidir qué variable o variables vamos a predecir. Esto quiere decir que tenemos que elegir cuál va a ser la variable que, al predecirla, conteste la pregunta que nos hicimos de los datos.\n",
    "\n",
    "En este caso, la pregunta es:\n",
    "\n",
    "###  ¿Cuánta energía eléctrica se generará a partir de la fuente de energía solar?"
   ]
  },
  {
   "cell_type": "markdown",
   "metadata": {
    "id": "xzuBZzsG2Zm7"
   },
   "source": [
    "**Etiquetas para variables categóricas**\n",
    "\n",
    "LinearRegression no puede trabajar con variables categóricas, como el nombre de la provincia. Para poder utilizarlo debemos convertir estas variables en variables numéricas. Podemos hacer esto utilizando el método LabelEncoder de la biblioteca scikit-learn.\n",
    "\n",
    "El método LabelEncoder asigna un entero único a cada categoría única de una variable categórica. Por ejemplo, si la variable \"provincia\" tiene las categorías \"Buenos Aires\", \"Córdoba\" y \"Santa Fe\", el método LabelEncoder asignaría los enteros 0, 1 y 2 a estas categorías, respectivamente.\n",
    "\n",
    "Una vez que hemos convertido las variables categóricas en variables numéricas, podemos utilizar LinearRegression para predecir la producción de energía eléctrica."
   ]
  },
  {
   "cell_type": "code",
   "execution_count": 3,
   "metadata": {
    "colab": {
     "base_uri": "https://localhost:8080/",
     "height": 206
    },
    "executionInfo": {
     "elapsed": 306,
     "status": "ok",
     "timestamp": 1701023484897,
     "user": {
      "displayName": "Julia Panei",
      "userId": "13714276047079325057"
     },
     "user_tz": 180
    },
    "id": "pquh2jAPaqKC",
    "outputId": "6c11c975-5b53-47f8-d0bf-052d44205a2f"
   },
   "outputs": [
    {
     "data": {
      "text/html": [
       "<div>\n",
       "<style scoped>\n",
       "    .dataframe tbody tr th:only-of-type {\n",
       "        vertical-align: middle;\n",
       "    }\n",
       "\n",
       "    .dataframe tbody tr th {\n",
       "        vertical-align: top;\n",
       "    }\n",
       "\n",
       "    .dataframe thead th {\n",
       "        text-align: right;\n",
       "    }\n",
       "</style>\n",
       "<table border=\"1\" class=\"dataframe\">\n",
       "  <thead>\n",
       "    <tr style=\"text-align: right;\">\n",
       "      <th></th>\n",
       "      <th>anio</th>\n",
       "      <th>mes</th>\n",
       "      <th>region</th>\n",
       "      <th>prov</th>\n",
       "      <th>SOLAR</th>\n",
       "      <th>energia_gen</th>\n",
       "    </tr>\n",
       "  </thead>\n",
       "  <tbody>\n",
       "    <tr>\n",
       "      <th>0</th>\n",
       "      <td>2011</td>\n",
       "      <td>1</td>\n",
       "      <td>3</td>\n",
       "      <td>14</td>\n",
       "      <td>True</td>\n",
       "      <td>0.0</td>\n",
       "    </tr>\n",
       "    <tr>\n",
       "      <th>1</th>\n",
       "      <td>2011</td>\n",
       "      <td>2</td>\n",
       "      <td>3</td>\n",
       "      <td>14</td>\n",
       "      <td>True</td>\n",
       "      <td>0.0</td>\n",
       "    </tr>\n",
       "    <tr>\n",
       "      <th>2</th>\n",
       "      <td>2011</td>\n",
       "      <td>3</td>\n",
       "      <td>3</td>\n",
       "      <td>14</td>\n",
       "      <td>True</td>\n",
       "      <td>0.1</td>\n",
       "    </tr>\n",
       "    <tr>\n",
       "      <th>3</th>\n",
       "      <td>2011</td>\n",
       "      <td>4</td>\n",
       "      <td>3</td>\n",
       "      <td>14</td>\n",
       "      <td>True</td>\n",
       "      <td>0.2</td>\n",
       "    </tr>\n",
       "    <tr>\n",
       "      <th>4</th>\n",
       "      <td>2011</td>\n",
       "      <td>5</td>\n",
       "      <td>3</td>\n",
       "      <td>14</td>\n",
       "      <td>True</td>\n",
       "      <td>0.2</td>\n",
       "    </tr>\n",
       "  </tbody>\n",
       "</table>\n",
       "</div>"
      ],
      "text/plain": [
       "   anio  mes  region  prov  SOLAR  energia_gen\n",
       "0  2011    1       3    14   True          0.0\n",
       "1  2011    2       3    14   True          0.0\n",
       "2  2011    3       3    14   True          0.1\n",
       "3  2011    4       3    14   True          0.2\n",
       "4  2011    5       3    14   True          0.2"
      ]
     },
     "execution_count": 3,
     "metadata": {},
     "output_type": "execute_result"
    }
   ],
   "source": [
    "# Leemos nuevamente los datos de energía con LabelEncoder\n",
    "er_limpio_solar = pd.read_csv('../Datos/er_le_SOLAR.csv')\n",
    "er_limpio_solar.head()"
   ]
  },
  {
   "cell_type": "markdown",
   "metadata": {
    "id": "bNW7FPZ8aqKC"
   },
   "source": [
    "### El escalado de los datos numéricos. ###\n",
    "\n",
    "La variable a predecir es numérica, es por eso que vamos a escalarla, que en este caso es la energía generada.\n",
    "\n",
    "Dos de las técanicas más populares para escalar dato numérico previo a la modelización son la normalización y la estandarización. Para la normalización utilizamos el método de **MinMax** que escala a la variable a un rango entre 0 y 1. Y para la estandarización utilizamos el método **StandardScaler** haciendo que la media de los datos sea 0 y su desviación estandar. \n"
   ]
  },
  {
   "cell_type": "markdown",
   "metadata": {},
   "source": [
    "**Método MinMax**"
   ]
  },
  {
   "cell_type": "code",
   "execution_count": 4,
   "metadata": {
    "colab": {
     "base_uri": "https://localhost:8080/",
     "height": 206
    },
    "executionInfo": {
     "elapsed": 438,
     "status": "ok",
     "timestamp": 1701023487692,
     "user": {
      "displayName": "Julia Panei",
      "userId": "13714276047079325057"
     },
     "user_tz": 180
    },
    "id": "axgJC6b5aqKD",
    "outputId": "dbbdd9d7-30ae-4538-bcd0-dce0a3ef99d2"
   },
   "outputs": [
    {
     "data": {
      "text/html": [
       "<div>\n",
       "<style scoped>\n",
       "    .dataframe tbody tr th:only-of-type {\n",
       "        vertical-align: middle;\n",
       "    }\n",
       "\n",
       "    .dataframe tbody tr th {\n",
       "        vertical-align: top;\n",
       "    }\n",
       "\n",
       "    .dataframe thead th {\n",
       "        text-align: right;\n",
       "    }\n",
       "</style>\n",
       "<table border=\"1\" class=\"dataframe\">\n",
       "  <thead>\n",
       "    <tr style=\"text-align: right;\">\n",
       "      <th></th>\n",
       "      <th>anio</th>\n",
       "      <th>mes</th>\n",
       "      <th>region</th>\n",
       "      <th>prov</th>\n",
       "      <th>SOLAR</th>\n",
       "      <th>energia_gen</th>\n",
       "      <th>energia_estimator</th>\n",
       "    </tr>\n",
       "  </thead>\n",
       "  <tbody>\n",
       "    <tr>\n",
       "      <th>0</th>\n",
       "      <td>2011</td>\n",
       "      <td>1</td>\n",
       "      <td>3</td>\n",
       "      <td>14</td>\n",
       "      <td>True</td>\n",
       "      <td>0.0</td>\n",
       "      <td>0.000000</td>\n",
       "    </tr>\n",
       "    <tr>\n",
       "      <th>1</th>\n",
       "      <td>2011</td>\n",
       "      <td>2</td>\n",
       "      <td>3</td>\n",
       "      <td>14</td>\n",
       "      <td>True</td>\n",
       "      <td>0.0</td>\n",
       "      <td>0.000000</td>\n",
       "    </tr>\n",
       "    <tr>\n",
       "      <th>2</th>\n",
       "      <td>2011</td>\n",
       "      <td>3</td>\n",
       "      <td>3</td>\n",
       "      <td>14</td>\n",
       "      <td>True</td>\n",
       "      <td>0.1</td>\n",
       "      <td>0.003067</td>\n",
       "    </tr>\n",
       "    <tr>\n",
       "      <th>3</th>\n",
       "      <td>2011</td>\n",
       "      <td>4</td>\n",
       "      <td>3</td>\n",
       "      <td>14</td>\n",
       "      <td>True</td>\n",
       "      <td>0.2</td>\n",
       "      <td>0.006135</td>\n",
       "    </tr>\n",
       "    <tr>\n",
       "      <th>4</th>\n",
       "      <td>2011</td>\n",
       "      <td>5</td>\n",
       "      <td>3</td>\n",
       "      <td>14</td>\n",
       "      <td>True</td>\n",
       "      <td>0.2</td>\n",
       "      <td>0.006135</td>\n",
       "    </tr>\n",
       "  </tbody>\n",
       "</table>\n",
       "</div>"
      ],
      "text/plain": [
       "   anio  mes  region  prov  SOLAR  energia_gen  energia_estimator\n",
       "0  2011    1       3    14   True          0.0           0.000000\n",
       "1  2011    2       3    14   True          0.0           0.000000\n",
       "2  2011    3       3    14   True          0.1           0.003067\n",
       "3  2011    4       3    14   True          0.2           0.006135\n",
       "4  2011    5       3    14   True          0.2           0.006135"
      ]
     },
     "execution_count": 4,
     "metadata": {},
     "output_type": "execute_result"
    }
   ],
   "source": [
    "# _min_max_scaler\n",
    "er_limpio_solar_min_max_scaler = er_limpio_solar.copy()\n",
    "\n",
    "# Seleccionamos la columna 'energia_gen' para normalizar\n",
    "energia_min_max_scaler = er_limpio_solar_min_max_scaler[['energia_gen']]\n",
    "\n",
    "# Creamos el objeto MinMaxScaler\n",
    "scaler_min_max_scaler = MinMaxScaler()\n",
    "\n",
    "# Normalizamos los datos y se agrega como nueva columna\n",
    "er_limpio_solar_min_max_scaler['energia_estimator'] = scaler_min_max_scaler.fit_transform(energia_min_max_scaler)\n",
    "\n",
    "# Visualizamos\n",
    "er_limpio_solar_min_max_scaler.head()"
   ]
  },
  {
   "cell_type": "markdown",
   "metadata": {
    "id": "YC-TwFslaqKD"
   },
   "source": [
    "**Método StandardScale**"
   ]
  },
  {
   "cell_type": "code",
   "execution_count": 5,
   "metadata": {
    "colab": {
     "base_uri": "https://localhost:8080/",
     "height": 206
    },
    "executionInfo": {
     "elapsed": 302,
     "status": "ok",
     "timestamp": 1701023492296,
     "user": {
      "displayName": "Julia Panei",
      "userId": "13714276047079325057"
     },
     "user_tz": 180
    },
    "id": "kRXoHm2YaqKD",
    "outputId": "fe83bb8e-33dd-44a9-c7f5-45d9540af8ef"
   },
   "outputs": [
    {
     "data": {
      "text/html": [
       "<div>\n",
       "<style scoped>\n",
       "    .dataframe tbody tr th:only-of-type {\n",
       "        vertical-align: middle;\n",
       "    }\n",
       "\n",
       "    .dataframe tbody tr th {\n",
       "        vertical-align: top;\n",
       "    }\n",
       "\n",
       "    .dataframe thead th {\n",
       "        text-align: right;\n",
       "    }\n",
       "</style>\n",
       "<table border=\"1\" class=\"dataframe\">\n",
       "  <thead>\n",
       "    <tr style=\"text-align: right;\">\n",
       "      <th></th>\n",
       "      <th>anio</th>\n",
       "      <th>mes</th>\n",
       "      <th>region</th>\n",
       "      <th>prov</th>\n",
       "      <th>SOLAR</th>\n",
       "      <th>energia_gen</th>\n",
       "      <th>energia_estimator</th>\n",
       "    </tr>\n",
       "  </thead>\n",
       "  <tbody>\n",
       "    <tr>\n",
       "      <th>0</th>\n",
       "      <td>2011</td>\n",
       "      <td>1</td>\n",
       "      <td>3</td>\n",
       "      <td>14</td>\n",
       "      <td>True</td>\n",
       "      <td>0.0</td>\n",
       "      <td>-0.578637</td>\n",
       "    </tr>\n",
       "    <tr>\n",
       "      <th>1</th>\n",
       "      <td>2011</td>\n",
       "      <td>2</td>\n",
       "      <td>3</td>\n",
       "      <td>14</td>\n",
       "      <td>True</td>\n",
       "      <td>0.0</td>\n",
       "      <td>-0.578637</td>\n",
       "    </tr>\n",
       "    <tr>\n",
       "      <th>2</th>\n",
       "      <td>2011</td>\n",
       "      <td>3</td>\n",
       "      <td>3</td>\n",
       "      <td>14</td>\n",
       "      <td>True</td>\n",
       "      <td>0.1</td>\n",
       "      <td>-0.563530</td>\n",
       "    </tr>\n",
       "    <tr>\n",
       "      <th>3</th>\n",
       "      <td>2011</td>\n",
       "      <td>4</td>\n",
       "      <td>3</td>\n",
       "      <td>14</td>\n",
       "      <td>True</td>\n",
       "      <td>0.2</td>\n",
       "      <td>-0.548423</td>\n",
       "    </tr>\n",
       "    <tr>\n",
       "      <th>4</th>\n",
       "      <td>2011</td>\n",
       "      <td>5</td>\n",
       "      <td>3</td>\n",
       "      <td>14</td>\n",
       "      <td>True</td>\n",
       "      <td>0.2</td>\n",
       "      <td>-0.548423</td>\n",
       "    </tr>\n",
       "  </tbody>\n",
       "</table>\n",
       "</div>"
      ],
      "text/plain": [
       "   anio  mes  region  prov  SOLAR  energia_gen  energia_estimator\n",
       "0  2011    1       3    14   True          0.0          -0.578637\n",
       "1  2011    2       3    14   True          0.0          -0.578637\n",
       "2  2011    3       3    14   True          0.1          -0.563530\n",
       "3  2011    4       3    14   True          0.2          -0.548423\n",
       "4  2011    5       3    14   True          0.2          -0.548423"
      ]
     },
     "execution_count": 5,
     "metadata": {},
     "output_type": "execute_result"
    }
   ],
   "source": [
    "# _standar_scaler\n",
    "er_limpio_solar_standar_scaler = er_limpio_solar.copy()\n",
    "\n",
    "# Seleccionamos la columna 'energia_gen' para normalizar\n",
    "energia_standar_scaler = er_limpio_solar_standar_scaler[['energia_gen']]\n",
    "\n",
    "# Creamos el objeto StandardScaler\n",
    "scaler_standar_scaler = StandardScaler()\n",
    "\n",
    "# Estandarizamos los datos y reemplazamos la columna original con los datos estandarizados\n",
    "er_limpio_solar_standar_scaler['energia_estimator'] = scaler_standar_scaler.fit_transform(energia_standar_scaler)\n",
    "\n",
    "# Visualizamos\n",
    "er_limpio_solar_standar_scaler.head()"
   ]
  },
  {
   "cell_type": "markdown",
   "metadata": {
    "id": "mNmQ1a0mtrtC"
   },
   "source": [
    "## 📈 Preparación de Modelos"
   ]
  },
  {
   "cell_type": "markdown",
   "metadata": {
    "id": "SQxaFrLntrtC"
   },
   "source": [
    "La regresión es un tipo de aprendizaje automático que se utiliza para predecir una variable numérica continua. En este caso, queremos predecir la cantidad de energía generada. La regresión es una buena opción para este problema porque permite capturar la relación entre las variables explicativas y la variable a predecir."
   ]
  },
  {
   "cell_type": "markdown",
   "metadata": {
    "id": "IKd-7yjftrtC"
   },
   "source": [
    "## Seleccion de target (y) y variables (X)"
   ]
  },
  {
   "cell_type": "markdown",
   "metadata": {
    "id": "O3qhozKVtrtD"
   },
   "source": [
    "Lo primero que haremos, es seleccionar las variables o features que deseemos usar como variables independientes (aquellas que van a explicar mi predicción) y la variable a predecir.\n",
    "\n",
    "Usaremos todas las variables menos aquellas que fueron usadas para calcular el puntaje final. Debemos también asegurarnos de no incluir la variable a predecir. Como variable a predecir usaremos el puntaje final."
   ]
  },
  {
   "cell_type": "code",
   "execution_count": 6,
   "metadata": {
    "executionInfo": {
     "elapsed": 370,
     "status": "ok",
     "timestamp": 1701023497832,
     "user": {
      "displayName": "Julia Panei",
      "userId": "13714276047079325057"
     },
     "user_tz": 180
    },
    "id": "n26RPfDktrtD"
   },
   "outputs": [],
   "source": [
    "# Eliminamos aquellas variables que no quiero incluir en el modelo y las guardamos en x.\n",
    "x = er_limpio_solar.drop(['energia_gen'],axis=1)"
   ]
  },
  {
   "cell_type": "code",
   "execution_count": 7,
   "metadata": {
    "colab": {
     "base_uri": "https://localhost:8080/",
     "height": 206
    },
    "executionInfo": {
     "elapsed": 279,
     "status": "ok",
     "timestamp": 1701023499566,
     "user": {
      "displayName": "Julia Panei",
      "userId": "13714276047079325057"
     },
     "user_tz": 180
    },
    "id": "WDwc7795trtD",
    "outputId": "8da45085-7d8c-4e76-e80f-377b6c4845b8"
   },
   "outputs": [
    {
     "data": {
      "text/html": [
       "<div>\n",
       "<style scoped>\n",
       "    .dataframe tbody tr th:only-of-type {\n",
       "        vertical-align: middle;\n",
       "    }\n",
       "\n",
       "    .dataframe tbody tr th {\n",
       "        vertical-align: top;\n",
       "    }\n",
       "\n",
       "    .dataframe thead th {\n",
       "        text-align: right;\n",
       "    }\n",
       "</style>\n",
       "<table border=\"1\" class=\"dataframe\">\n",
       "  <thead>\n",
       "    <tr style=\"text-align: right;\">\n",
       "      <th></th>\n",
       "      <th>anio</th>\n",
       "      <th>mes</th>\n",
       "      <th>region</th>\n",
       "      <th>prov</th>\n",
       "      <th>SOLAR</th>\n",
       "    </tr>\n",
       "  </thead>\n",
       "  <tbody>\n",
       "    <tr>\n",
       "      <th>0</th>\n",
       "      <td>2011</td>\n",
       "      <td>1</td>\n",
       "      <td>3</td>\n",
       "      <td>14</td>\n",
       "      <td>True</td>\n",
       "    </tr>\n",
       "    <tr>\n",
       "      <th>1</th>\n",
       "      <td>2011</td>\n",
       "      <td>2</td>\n",
       "      <td>3</td>\n",
       "      <td>14</td>\n",
       "      <td>True</td>\n",
       "    </tr>\n",
       "    <tr>\n",
       "      <th>2</th>\n",
       "      <td>2011</td>\n",
       "      <td>3</td>\n",
       "      <td>3</td>\n",
       "      <td>14</td>\n",
       "      <td>True</td>\n",
       "    </tr>\n",
       "    <tr>\n",
       "      <th>3</th>\n",
       "      <td>2011</td>\n",
       "      <td>4</td>\n",
       "      <td>3</td>\n",
       "      <td>14</td>\n",
       "      <td>True</td>\n",
       "    </tr>\n",
       "    <tr>\n",
       "      <th>4</th>\n",
       "      <td>2011</td>\n",
       "      <td>5</td>\n",
       "      <td>3</td>\n",
       "      <td>14</td>\n",
       "      <td>True</td>\n",
       "    </tr>\n",
       "  </tbody>\n",
       "</table>\n",
       "</div>"
      ],
      "text/plain": [
       "   anio  mes  region  prov  SOLAR\n",
       "0  2011    1       3    14   True\n",
       "1  2011    2       3    14   True\n",
       "2  2011    3       3    14   True\n",
       "3  2011    4       3    14   True\n",
       "4  2011    5       3    14   True"
      ]
     },
     "execution_count": 7,
     "metadata": {},
     "output_type": "execute_result"
    }
   ],
   "source": [
    "x.head()"
   ]
  },
  {
   "cell_type": "code",
   "execution_count": 8,
   "metadata": {
    "colab": {
     "base_uri": "https://localhost:8080/"
    },
    "executionInfo": {
     "elapsed": 312,
     "status": "ok",
     "timestamp": 1701023501799,
     "user": {
      "displayName": "Julia Panei",
      "userId": "13714276047079325057"
     },
     "user_tz": 180
    },
    "id": "lBf0JdxUtrtE",
    "outputId": "3d35d7fe-86dc-4518-a39b-4058d1ce2228"
   },
   "outputs": [
    {
     "data": {
      "text/plain": [
       "0    0.000000\n",
       "1    0.000000\n",
       "2    0.003067\n",
       "3    0.006135\n",
       "4    0.006135\n",
       "Name: energia_estimator, dtype: float64"
      ]
     },
     "execution_count": 8,
     "metadata": {},
     "output_type": "execute_result"
    }
   ],
   "source": [
    "# Ahora seleccionamos la variable a predecir y la guardamos en y_min_max_scaler para el metodo MinMax\n",
    "y_min_max_scaler = er_limpio_solar_min_max_scaler['energia_estimator']\n",
    "\n",
    "# Visualizamos\n",
    "y_min_max_scaler.head()"
   ]
  },
  {
   "cell_type": "code",
   "execution_count": 9,
   "metadata": {
    "colab": {
     "base_uri": "https://localhost:8080/"
    },
    "executionInfo": {
     "elapsed": 3,
     "status": "ok",
     "timestamp": 1701023503785,
     "user": {
      "displayName": "Julia Panei",
      "userId": "13714276047079325057"
     },
     "user_tz": 180
    },
    "id": "bhb6Fw7I3AO4",
    "outputId": "0d59dd8a-8afa-44a1-eab7-2ec5d90a6977"
   },
   "outputs": [
    {
     "data": {
      "text/plain": [
       "0   -0.578637\n",
       "1   -0.578637\n",
       "2   -0.563530\n",
       "3   -0.548423\n",
       "4   -0.548423\n",
       "Name: energia_estimator, dtype: float64"
      ]
     },
     "execution_count": 9,
     "metadata": {},
     "output_type": "execute_result"
    }
   ],
   "source": [
    "# Seleccionamos la variable a predecir y la guardamos en y_standar_scaler para el metodo Standar Scaler\n",
    "y_standar_scaler = er_limpio_solar_standar_scaler['energia_estimator']\n",
    "\n",
    "# Visualizamos\n",
    "y_standar_scaler.head()"
   ]
  },
  {
   "cell_type": "code",
   "execution_count": 10,
   "metadata": {
    "executionInfo": {
     "elapsed": 298,
     "status": "ok",
     "timestamp": 1701023506411,
     "user": {
      "displayName": "Julia Panei",
      "userId": "13714276047079325057"
     },
     "user_tz": 180
    },
    "id": "3Ewo1kUBtrtE"
   },
   "outputs": [],
   "source": [
    "x, y_min_max_scaler, y_standar_scaler = np.array(x), np.array(y_min_max_scaler) , np.array(y_standar_scaler)"
   ]
  },
  {
   "cell_type": "markdown",
   "metadata": {
    "id": "uN8FW_n8trtE"
   },
   "source": [
    "### Separación Train / Test"
   ]
  },
  {
   "cell_type": "markdown",
   "metadata": {
    "id": "_X-1g3OjtrtE"
   },
   "source": [
    "**Separación de los datos en conjuntos de entrenamiento y testeo**\n",
    "\n",
    "Para poder evaluar el rendimiento del modelo, necesitamos separar los datos en dos conjuntos: un conjunto de entrenamiento y un conjunto de testeo.\n",
    "\n",
    "El conjunto de entrenamiento se utilizará para entrenar el modelo. El modelo no verá los datos del conjunto de testeo hasta que esté completamente entrenado.\n",
    "\n",
    "La función `train_test_split` de scikit-learn nos permite separar los datos en dos conjuntos. Por defecto, la función divide los datos en un 80% de entrenamiento y un 20% de testeo."
   ]
  },
  {
   "cell_type": "code",
   "execution_count": 11,
   "metadata": {
    "executionInfo": {
     "elapsed": 275,
     "status": "ok",
     "timestamp": 1701023509480,
     "user": {
      "displayName": "Julia Panei",
      "userId": "13714276047079325057"
     },
     "user_tz": 180
    },
    "id": "yIm3SGfUtrtF"
   },
   "outputs": [],
   "source": [
    "# Importamos la librearia para separar el dataset.\n",
    "from sklearn.model_selection import train_test_split"
   ]
  },
  {
   "cell_type": "code",
   "execution_count": 12,
   "metadata": {
    "executionInfo": {
     "elapsed": 2,
     "status": "ok",
     "timestamp": 1701023511336,
     "user": {
      "displayName": "Julia Panei",
      "userId": "13714276047079325057"
     },
     "user_tz": 180
    },
    "id": "AdXer8lCtrtF"
   },
   "outputs": [],
   "source": [
    "x_min_max_scaler_train, x_min_max_scaler_test, y_min_max_scaler_train, y_min_max_scaler_test = train_test_split(x, y_min_max_scaler, test_size=0.2,random_state=42)\n",
    "x_standar_scaler_train, x_standar_scaler_test, y_standar_scaler_train, y_standar_scaler_test = train_test_split(x, y_standar_scaler, test_size=0.2,random_state=42)"
   ]
  },
  {
   "cell_type": "code",
   "execution_count": 13,
   "metadata": {
    "colab": {
     "base_uri": "https://localhost:8080/"
    },
    "executionInfo": {
     "elapsed": 6,
     "status": "ok",
     "timestamp": 1701023513141,
     "user": {
      "displayName": "Julia Panei",
      "userId": "13714276047079325057"
     },
     "user_tz": 180
    },
    "id": "zvd9aLrtaqKH",
    "outputId": "2a99765b-0b5f-4cf9-8280-12ad02922907"
   },
   "outputs": [
    {
     "name": "stdout",
     "output_type": "stream",
     "text": [
      "Tamaño de x_min_max_scaler_train: (1860, 5), Tamaño de x_min_max_scaler_test: (466, 5)\n",
      "Tamaño de x_standar_scaler_train: (1860, 5), Tamaño de x_standar_scaler_test: (466, 5)\n"
     ]
    }
   ],
   "source": [
    "print(f\"Tamaño de x_min_max_scaler_train: {x_min_max_scaler_train.shape}, Tamaño de x_min_max_scaler_test: {x_min_max_scaler_test.shape}\")\n",
    "print(f\"Tamaño de x_standar_scaler_train: {x_standar_scaler_train.shape}, Tamaño de x_standar_scaler_test: {x_standar_scaler_test.shape}\")"
   ]
  },
  {
   "cell_type": "markdown",
   "metadata": {
    "id": "tfFSY4WP3AO8"
   },
   "source": [
    "## 👩🏼‍💻 Desarrollo de Modelos"
   ]
  },
  {
   "cell_type": "markdown",
   "metadata": {
    "id": "grZWfca032ix"
   },
   "source": [
    "### Regresión Lineal\n",
    "El modelo que vamos a utilizar es una regresión lineal. Es un tipo de modelo de aprendizaje automático que intenta encontrar una relación lineal entre las variables independientes y la variable dependiente."
   ]
  },
  {
   "cell_type": "code",
   "execution_count": 14,
   "metadata": {
    "executionInfo": {
     "elapsed": 278,
     "status": "ok",
     "timestamp": 1701023520936,
     "user": {
      "displayName": "Julia Panei",
      "userId": "13714276047079325057"
     },
     "user_tz": 180
    },
    "id": "ifTz89zl32iy"
   },
   "outputs": [],
   "source": [
    "from sklearn.model_selection import train_test_split\n",
    "from sklearn.linear_model import LinearRegression"
   ]
  },
  {
   "cell_type": "code",
   "execution_count": 15,
   "metadata": {
    "executionInfo": {
     "elapsed": 4,
     "status": "ok",
     "timestamp": 1701023522880,
     "user": {
      "displayName": "Julia Panei",
      "userId": "13714276047079325057"
     },
     "user_tz": 180
    },
    "id": "QcczX28M32iz"
   },
   "outputs": [],
   "source": [
    "# Iniciamos el modelo para MinMax\n",
    "regresor_linear_regression_y_min_max_scaler = LinearRegression()\n",
    "# Entrenamos el modelo para MinMax\n",
    "regresor_linear_regression_y_min_max_scaler.fit(x_min_max_scaler_train, y_min_max_scaler_train)\n",
    "# Realizamos predicciones para MinMax\n",
    "y_pred_linear_regression_y_min_max_scaler = regresor_linear_regression_y_min_max_scaler.predict(x)"
   ]
  },
  {
   "cell_type": "code",
   "execution_count": 16,
   "metadata": {
    "executionInfo": {
     "elapsed": 4,
     "status": "ok",
     "timestamp": 1701023524869,
     "user": {
      "displayName": "Julia Panei",
      "userId": "13714276047079325057"
     },
     "user_tz": 180
    },
    "id": "Bk7d6KMV3AO9"
   },
   "outputs": [],
   "source": [
    "# Iniciamos el modelo para Standar Scaler\n",
    "regresor_linear_regression_y_standar_scaler = LinearRegression()\n",
    "# Entrenamos el modelo para Standar Scaler\n",
    "regresor_linear_regression_y_standar_scaler.fit(x_standar_scaler_train, y_standar_scaler_train)\n",
    "# Realizamos predicciones para Standar Scaler\n",
    "y_pred_linear_regression_y_standar_scaler = regresor_linear_regression_y_standar_scaler.predict(x)"
   ]
  },
  {
   "cell_type": "markdown",
   "metadata": {
    "id": "Oz9faDEwtrtG"
   },
   "source": [
    "### Random Forest"
   ]
  },
  {
   "cell_type": "markdown",
   "metadata": {
    "id": "ZOdb9s8vtrtG"
   },
   "source": [
    "Random Forest es un algoritmo de ensamble. Hay dos tecnicas para esto: Bagging y Boosting.\n",
    "El objetivo de bagging es entrenar distintos modelos, donde cada uno vea distintas porciones del set de entrenamiento. Random Forest, además de aplicar Bagging, también selecciona features al azar, de esa manera descorrelaciona aún más los distintos modelos de árbol creados."
   ]
  },
  {
   "cell_type": "code",
   "execution_count": 17,
   "metadata": {
    "executionInfo": {
     "elapsed": 302,
     "status": "ok",
     "timestamp": 1701023527441,
     "user": {
      "displayName": "Julia Panei",
      "userId": "13714276047079325057"
     },
     "user_tz": 180
    },
    "id": "9oSXXy4strtG"
   },
   "outputs": [],
   "source": [
    "from sklearn.ensemble import RandomForestRegressor\n",
    "from sklearn.metrics import mean_squared_error, mean_absolute_error, r2_score"
   ]
  },
  {
   "cell_type": "code",
   "execution_count": 18,
   "metadata": {
    "colab": {
     "base_uri": "https://localhost:8080/",
     "height": 74
    },
    "executionInfo": {
     "elapsed": 2847,
     "status": "ok",
     "timestamp": 1701023531601,
     "user": {
      "displayName": "Julia Panei",
      "userId": "13714276047079325057"
     },
     "user_tz": 180
    },
    "id": "5L1GE5zDtrtH",
    "outputId": "223e7244-f6fa-46cd-f422-cd275f1e3e43"
   },
   "outputs": [
    {
     "data": {
      "text/html": [
       "<style>#sk-container-id-1 {color: black;}#sk-container-id-1 pre{padding: 0;}#sk-container-id-1 div.sk-toggleable {background-color: white;}#sk-container-id-1 label.sk-toggleable__label {cursor: pointer;display: block;width: 100%;margin-bottom: 0;padding: 0.3em;box-sizing: border-box;text-align: center;}#sk-container-id-1 label.sk-toggleable__label-arrow:before {content: \"▸\";float: left;margin-right: 0.25em;color: #696969;}#sk-container-id-1 label.sk-toggleable__label-arrow:hover:before {color: black;}#sk-container-id-1 div.sk-estimator:hover label.sk-toggleable__label-arrow:before {color: black;}#sk-container-id-1 div.sk-toggleable__content {max-height: 0;max-width: 0;overflow: hidden;text-align: left;background-color: #f0f8ff;}#sk-container-id-1 div.sk-toggleable__content pre {margin: 0.2em;color: black;border-radius: 0.25em;background-color: #f0f8ff;}#sk-container-id-1 input.sk-toggleable__control:checked~div.sk-toggleable__content {max-height: 200px;max-width: 100%;overflow: auto;}#sk-container-id-1 input.sk-toggleable__control:checked~label.sk-toggleable__label-arrow:before {content: \"▾\";}#sk-container-id-1 div.sk-estimator input.sk-toggleable__control:checked~label.sk-toggleable__label {background-color: #d4ebff;}#sk-container-id-1 div.sk-label input.sk-toggleable__control:checked~label.sk-toggleable__label {background-color: #d4ebff;}#sk-container-id-1 input.sk-hidden--visually {border: 0;clip: rect(1px 1px 1px 1px);clip: rect(1px, 1px, 1px, 1px);height: 1px;margin: -1px;overflow: hidden;padding: 0;position: absolute;width: 1px;}#sk-container-id-1 div.sk-estimator {font-family: monospace;background-color: #f0f8ff;border: 1px dotted black;border-radius: 0.25em;box-sizing: border-box;margin-bottom: 0.5em;}#sk-container-id-1 div.sk-estimator:hover {background-color: #d4ebff;}#sk-container-id-1 div.sk-parallel-item::after {content: \"\";width: 100%;border-bottom: 1px solid gray;flex-grow: 1;}#sk-container-id-1 div.sk-label:hover label.sk-toggleable__label {background-color: #d4ebff;}#sk-container-id-1 div.sk-serial::before {content: \"\";position: absolute;border-left: 1px solid gray;box-sizing: border-box;top: 0;bottom: 0;left: 50%;z-index: 0;}#sk-container-id-1 div.sk-serial {display: flex;flex-direction: column;align-items: center;background-color: white;padding-right: 0.2em;padding-left: 0.2em;position: relative;}#sk-container-id-1 div.sk-item {position: relative;z-index: 1;}#sk-container-id-1 div.sk-parallel {display: flex;align-items: stretch;justify-content: center;background-color: white;position: relative;}#sk-container-id-1 div.sk-item::before, #sk-container-id-1 div.sk-parallel-item::before {content: \"\";position: absolute;border-left: 1px solid gray;box-sizing: border-box;top: 0;bottom: 0;left: 50%;z-index: -1;}#sk-container-id-1 div.sk-parallel-item {display: flex;flex-direction: column;z-index: 1;position: relative;background-color: white;}#sk-container-id-1 div.sk-parallel-item:first-child::after {align-self: flex-end;width: 50%;}#sk-container-id-1 div.sk-parallel-item:last-child::after {align-self: flex-start;width: 50%;}#sk-container-id-1 div.sk-parallel-item:only-child::after {width: 0;}#sk-container-id-1 div.sk-dashed-wrapped {border: 1px dashed gray;margin: 0 0.4em 0.5em 0.4em;box-sizing: border-box;padding-bottom: 0.4em;background-color: white;}#sk-container-id-1 div.sk-label label {font-family: monospace;font-weight: bold;display: inline-block;line-height: 1.2em;}#sk-container-id-1 div.sk-label-container {text-align: center;}#sk-container-id-1 div.sk-container {/* jupyter's `normalize.less` sets `[hidden] { display: none; }` but bootstrap.min.css set `[hidden] { display: none !important; }` so we also need the `!important` here to be able to override the default hidden behavior on the sphinx rendered scikit-learn.org. See: https://github.com/scikit-learn/scikit-learn/issues/21755 */display: inline-block !important;position: relative;}#sk-container-id-1 div.sk-text-repr-fallback {display: none;}</style><div id=\"sk-container-id-1\" class=\"sk-top-container\"><div class=\"sk-text-repr-fallback\"><pre>RandomForestRegressor(criterion=&#x27;absolute_error&#x27;, random_state=42)</pre><b>In a Jupyter environment, please rerun this cell to show the HTML representation or trust the notebook. <br />On GitHub, the HTML representation is unable to render, please try loading this page with nbviewer.org.</b></div><div class=\"sk-container\" hidden><div class=\"sk-item\"><div class=\"sk-estimator sk-toggleable\"><input class=\"sk-toggleable__control sk-hidden--visually\" id=\"sk-estimator-id-1\" type=\"checkbox\" checked><label for=\"sk-estimator-id-1\" class=\"sk-toggleable__label sk-toggleable__label-arrow\">RandomForestRegressor</label><div class=\"sk-toggleable__content\"><pre>RandomForestRegressor(criterion=&#x27;absolute_error&#x27;, random_state=42)</pre></div></div></div></div></div>"
      ],
      "text/plain": [
       "RandomForestRegressor(criterion='absolute_error', random_state=42)"
      ]
     },
     "execution_count": 18,
     "metadata": {},
     "output_type": "execute_result"
    }
   ],
   "source": [
    "# Iniciamos el modelo para MinMax\n",
    "regresor_random_forest_y_min_max_scaler = RandomForestRegressor(criterion='absolute_error', random_state=42)\n",
    "# Entrenamos el modelo para MinMax\n",
    "regresor_random_forest_y_min_max_scaler.fit(x_min_max_scaler_train, y_min_max_scaler_train)"
   ]
  },
  {
   "cell_type": "code",
   "execution_count": 19,
   "metadata": {
    "executionInfo": {
     "elapsed": 276,
     "status": "ok",
     "timestamp": 1701023534285,
     "user": {
      "displayName": "Julia Panei",
      "userId": "13714276047079325057"
     },
     "user_tz": 180
    },
    "id": "9RPq09q73AO_"
   },
   "outputs": [],
   "source": [
    "# Realizamos predicciones para MinMax\n",
    "y_pred_random_forest_y_min_max_scaler = regresor_random_forest_y_min_max_scaler.predict(x)"
   ]
  },
  {
   "cell_type": "code",
   "execution_count": 20,
   "metadata": {
    "colab": {
     "base_uri": "https://localhost:8080/",
     "height": 74
    },
    "executionInfo": {
     "elapsed": 2569,
     "status": "ok",
     "timestamp": 1701023538751,
     "user": {
      "displayName": "Julia Panei",
      "userId": "13714276047079325057"
     },
     "user_tz": 180
    },
    "id": "VzL-H6je3AO_",
    "outputId": "79744882-4bee-4ab9-9104-bd7ac6e954bc"
   },
   "outputs": [
    {
     "data": {
      "text/html": [
       "<style>#sk-container-id-2 {color: black;}#sk-container-id-2 pre{padding: 0;}#sk-container-id-2 div.sk-toggleable {background-color: white;}#sk-container-id-2 label.sk-toggleable__label {cursor: pointer;display: block;width: 100%;margin-bottom: 0;padding: 0.3em;box-sizing: border-box;text-align: center;}#sk-container-id-2 label.sk-toggleable__label-arrow:before {content: \"▸\";float: left;margin-right: 0.25em;color: #696969;}#sk-container-id-2 label.sk-toggleable__label-arrow:hover:before {color: black;}#sk-container-id-2 div.sk-estimator:hover label.sk-toggleable__label-arrow:before {color: black;}#sk-container-id-2 div.sk-toggleable__content {max-height: 0;max-width: 0;overflow: hidden;text-align: left;background-color: #f0f8ff;}#sk-container-id-2 div.sk-toggleable__content pre {margin: 0.2em;color: black;border-radius: 0.25em;background-color: #f0f8ff;}#sk-container-id-2 input.sk-toggleable__control:checked~div.sk-toggleable__content {max-height: 200px;max-width: 100%;overflow: auto;}#sk-container-id-2 input.sk-toggleable__control:checked~label.sk-toggleable__label-arrow:before {content: \"▾\";}#sk-container-id-2 div.sk-estimator input.sk-toggleable__control:checked~label.sk-toggleable__label {background-color: #d4ebff;}#sk-container-id-2 div.sk-label input.sk-toggleable__control:checked~label.sk-toggleable__label {background-color: #d4ebff;}#sk-container-id-2 input.sk-hidden--visually {border: 0;clip: rect(1px 1px 1px 1px);clip: rect(1px, 1px, 1px, 1px);height: 1px;margin: -1px;overflow: hidden;padding: 0;position: absolute;width: 1px;}#sk-container-id-2 div.sk-estimator {font-family: monospace;background-color: #f0f8ff;border: 1px dotted black;border-radius: 0.25em;box-sizing: border-box;margin-bottom: 0.5em;}#sk-container-id-2 div.sk-estimator:hover {background-color: #d4ebff;}#sk-container-id-2 div.sk-parallel-item::after {content: \"\";width: 100%;border-bottom: 1px solid gray;flex-grow: 1;}#sk-container-id-2 div.sk-label:hover label.sk-toggleable__label {background-color: #d4ebff;}#sk-container-id-2 div.sk-serial::before {content: \"\";position: absolute;border-left: 1px solid gray;box-sizing: border-box;top: 0;bottom: 0;left: 50%;z-index: 0;}#sk-container-id-2 div.sk-serial {display: flex;flex-direction: column;align-items: center;background-color: white;padding-right: 0.2em;padding-left: 0.2em;position: relative;}#sk-container-id-2 div.sk-item {position: relative;z-index: 1;}#sk-container-id-2 div.sk-parallel {display: flex;align-items: stretch;justify-content: center;background-color: white;position: relative;}#sk-container-id-2 div.sk-item::before, #sk-container-id-2 div.sk-parallel-item::before {content: \"\";position: absolute;border-left: 1px solid gray;box-sizing: border-box;top: 0;bottom: 0;left: 50%;z-index: -1;}#sk-container-id-2 div.sk-parallel-item {display: flex;flex-direction: column;z-index: 1;position: relative;background-color: white;}#sk-container-id-2 div.sk-parallel-item:first-child::after {align-self: flex-end;width: 50%;}#sk-container-id-2 div.sk-parallel-item:last-child::after {align-self: flex-start;width: 50%;}#sk-container-id-2 div.sk-parallel-item:only-child::after {width: 0;}#sk-container-id-2 div.sk-dashed-wrapped {border: 1px dashed gray;margin: 0 0.4em 0.5em 0.4em;box-sizing: border-box;padding-bottom: 0.4em;background-color: white;}#sk-container-id-2 div.sk-label label {font-family: monospace;font-weight: bold;display: inline-block;line-height: 1.2em;}#sk-container-id-2 div.sk-label-container {text-align: center;}#sk-container-id-2 div.sk-container {/* jupyter's `normalize.less` sets `[hidden] { display: none; }` but bootstrap.min.css set `[hidden] { display: none !important; }` so we also need the `!important` here to be able to override the default hidden behavior on the sphinx rendered scikit-learn.org. See: https://github.com/scikit-learn/scikit-learn/issues/21755 */display: inline-block !important;position: relative;}#sk-container-id-2 div.sk-text-repr-fallback {display: none;}</style><div id=\"sk-container-id-2\" class=\"sk-top-container\"><div class=\"sk-text-repr-fallback\"><pre>RandomForestRegressor(criterion=&#x27;absolute_error&#x27;, random_state=42)</pre><b>In a Jupyter environment, please rerun this cell to show the HTML representation or trust the notebook. <br />On GitHub, the HTML representation is unable to render, please try loading this page with nbviewer.org.</b></div><div class=\"sk-container\" hidden><div class=\"sk-item\"><div class=\"sk-estimator sk-toggleable\"><input class=\"sk-toggleable__control sk-hidden--visually\" id=\"sk-estimator-id-2\" type=\"checkbox\" checked><label for=\"sk-estimator-id-2\" class=\"sk-toggleable__label sk-toggleable__label-arrow\">RandomForestRegressor</label><div class=\"sk-toggleable__content\"><pre>RandomForestRegressor(criterion=&#x27;absolute_error&#x27;, random_state=42)</pre></div></div></div></div></div>"
      ],
      "text/plain": [
       "RandomForestRegressor(criterion='absolute_error', random_state=42)"
      ]
     },
     "execution_count": 20,
     "metadata": {},
     "output_type": "execute_result"
    }
   ],
   "source": [
    "# Iniciamos el modelo para Standar Scaler\n",
    "regresor_random_forest_y_standar_scaler = RandomForestRegressor(criterion='absolute_error', random_state=42)\n",
    "# Entrenamos el modelo para Standar Scaler\n",
    "regresor_random_forest_y_standar_scaler.fit(x_standar_scaler_train, y_standar_scaler_train)"
   ]
  },
  {
   "cell_type": "code",
   "execution_count": 21,
   "metadata": {
    "id": "Xnvyptqj3API"
   },
   "outputs": [],
   "source": [
    "# Realizamos predicciones para Standar Scaler\n",
    "y_pred_random_forest_y_standar_scaler = regresor_random_forest_y_standar_scaler.predict(x)"
   ]
  },
  {
   "cell_type": "code",
   "execution_count": 22,
   "metadata": {
    "colab": {
     "base_uri": "https://localhost:8080/"
    },
    "executionInfo": {
     "elapsed": 4,
     "status": "ok",
     "timestamp": 1701012030126,
     "user": {
      "displayName": "Julia Panei",
      "userId": "13714276047079325057"
     },
     "user_tz": 180
    },
    "id": "8pQdilCwtrtH",
    "outputId": "b33d8a15-6490-48bc-8745-425111c4b885"
   },
   "outputs": [
    {
     "data": {
      "text/plain": [
       "{'bootstrap': True,\n",
       " 'ccp_alpha': 0.0,\n",
       " 'criterion': 'absolute_error',\n",
       " 'max_depth': None,\n",
       " 'max_features': 1.0,\n",
       " 'max_leaf_nodes': None,\n",
       " 'max_samples': None,\n",
       " 'min_impurity_decrease': 0.0,\n",
       " 'min_samples_leaf': 1,\n",
       " 'min_samples_split': 2,\n",
       " 'min_weight_fraction_leaf': 0.0,\n",
       " 'n_estimators': 100,\n",
       " 'n_jobs': None,\n",
       " 'oob_score': False,\n",
       " 'random_state': 42,\n",
       " 'verbose': 0,\n",
       " 'warm_start': False}"
      ]
     },
     "execution_count": 22,
     "metadata": {},
     "output_type": "execute_result"
    }
   ],
   "source": [
    "# Determinamos parámetros del regresor MinMax\n",
    "regresor_random_forest_y_min_max_scaler.get_params()"
   ]
  },
  {
   "cell_type": "code",
   "execution_count": 23,
   "metadata": {
    "colab": {
     "base_uri": "https://localhost:8080/"
    },
    "executionInfo": {
     "elapsed": 276,
     "status": "ok",
     "timestamp": 1701012033168,
     "user": {
      "displayName": "Julia Panei",
      "userId": "13714276047079325057"
     },
     "user_tz": 180
    },
    "id": "VDkrK_IS3APJ",
    "outputId": "d0496182-8c03-49e5-9c39-ac3a82b307b1"
   },
   "outputs": [
    {
     "data": {
      "text/plain": [
       "{'bootstrap': True,\n",
       " 'ccp_alpha': 0.0,\n",
       " 'criterion': 'absolute_error',\n",
       " 'max_depth': None,\n",
       " 'max_features': 1.0,\n",
       " 'max_leaf_nodes': None,\n",
       " 'max_samples': None,\n",
       " 'min_impurity_decrease': 0.0,\n",
       " 'min_samples_leaf': 1,\n",
       " 'min_samples_split': 2,\n",
       " 'min_weight_fraction_leaf': 0.0,\n",
       " 'n_estimators': 100,\n",
       " 'n_jobs': None,\n",
       " 'oob_score': False,\n",
       " 'random_state': 42,\n",
       " 'verbose': 0,\n",
       " 'warm_start': False}"
      ]
     },
     "execution_count": 23,
     "metadata": {},
     "output_type": "execute_result"
    }
   ],
   "source": [
    "# Determinamos parámetros del regresor Standar Scaler\n",
    "regresor_random_forest_y_standar_scaler.get_params()"
   ]
  },
  {
   "cell_type": "markdown",
   "metadata": {
    "id": "qYAlpjhe6Xxf"
   },
   "source": [
    "### Support Vector Machine"
   ]
  },
  {
   "cell_type": "markdown",
   "metadata": {
    "id": "DHg72K8n6Xxf"
   },
   "source": [
    "El SVM es un algoritmo que establece un hiperplano que separa los puntos maximizando el margen. Una de sus ventajas es la aplicación de kernels, que permite ajustar mejor el modelo.\n"
   ]
  },
  {
   "cell_type": "code",
   "execution_count": 24,
   "metadata": {
    "id": "cXb6rs9Z6Xxg"
   },
   "outputs": [],
   "source": [
    "from sklearn.svm import SVR"
   ]
  },
  {
   "cell_type": "code",
   "execution_count": 25,
   "metadata": {
    "id": "xAI3Ci-k6Xxg"
   },
   "outputs": [],
   "source": [
    "# Iniciamos el modelo para MinMax\n",
    "regresor_svr_y_min_max_scaler = SVR(C=1.0, epsilon=0.2)\n",
    "# Entrenamos el modelo para MinMax\n",
    "regresor_svr_y_min_max_scaler.fit(x_min_max_scaler_train, y_min_max_scaler_train);\n",
    "# Realizamos predicciones para MinMax\n",
    "y_pred_svr_y_min_max_scaler = regresor_svr_y_min_max_scaler.predict(x)"
   ]
  },
  {
   "cell_type": "code",
   "execution_count": 26,
   "metadata": {
    "id": "s6B741BI3APL"
   },
   "outputs": [],
   "source": [
    "# Iniciamos el modelo para Standar Scaler\n",
    "regresor_svr_y_standar_scaler = SVR(C=1.0, epsilon=0.2)\n",
    "# Entrenamos el modelo para Standar Scaler\n",
    "regresor_svr_y_standar_scaler.fit(x_standar_scaler_train, y_standar_scaler_train);\n",
    "# Realizamos predicciones para Standar Scaler\n",
    "y_pred_svr_y_standar_scaler = regresor_svr_y_standar_scaler.predict(x)"
   ]
  },
  {
   "cell_type": "code",
   "execution_count": 27,
   "metadata": {
    "colab": {
     "base_uri": "https://localhost:8080/"
    },
    "executionInfo": {
     "elapsed": 267,
     "status": "ok",
     "timestamp": 1701012043558,
     "user": {
      "displayName": "Julia Panei",
      "userId": "13714276047079325057"
     },
     "user_tz": 180
    },
    "id": "fXv7scfD6Xxg",
    "outputId": "f9075136-7395-494a-ad71-4c25822bcf3f"
   },
   "outputs": [
    {
     "data": {
      "text/plain": [
       "{'C': 1.0,\n",
       " 'cache_size': 200,\n",
       " 'coef0': 0.0,\n",
       " 'degree': 3,\n",
       " 'epsilon': 0.2,\n",
       " 'gamma': 'scale',\n",
       " 'kernel': 'rbf',\n",
       " 'max_iter': -1,\n",
       " 'shrinking': True,\n",
       " 'tol': 0.001,\n",
       " 'verbose': False}"
      ]
     },
     "execution_count": 27,
     "metadata": {},
     "output_type": "execute_result"
    }
   ],
   "source": [
    "# Determinamos parámetros del regresor svr para MinMax\n",
    "regresor_svr_y_min_max_scaler.get_params()"
   ]
  },
  {
   "cell_type": "code",
   "execution_count": 28,
   "metadata": {
    "colab": {
     "base_uri": "https://localhost:8080/"
    },
    "executionInfo": {
     "elapsed": 273,
     "status": "ok",
     "timestamp": 1701012046279,
     "user": {
      "displayName": "Julia Panei",
      "userId": "13714276047079325057"
     },
     "user_tz": 180
    },
    "id": "q34egcZC3APM",
    "outputId": "c032c768-e402-4e47-e79d-efa289a33e4c"
   },
   "outputs": [
    {
     "data": {
      "text/plain": [
       "{'C': 1.0,\n",
       " 'cache_size': 200,\n",
       " 'coef0': 0.0,\n",
       " 'degree': 3,\n",
       " 'epsilon': 0.2,\n",
       " 'gamma': 'scale',\n",
       " 'kernel': 'rbf',\n",
       " 'max_iter': -1,\n",
       " 'shrinking': True,\n",
       " 'tol': 0.001,\n",
       " 'verbose': False}"
      ]
     },
     "execution_count": 28,
     "metadata": {},
     "output_type": "execute_result"
    }
   ],
   "source": [
    "# Determinamos parámetros del regresor svr para Standar Scaler\n",
    "regresor_svr_y_standar_scaler.get_params()"
   ]
  },
  {
   "cell_type": "markdown",
   "metadata": {
    "id": "6hO15k7f3APM"
   },
   "source": [
    "## 📊 Evaluación de los modelos según distintas métricas"
   ]
  },
  {
   "cell_type": "markdown",
   "metadata": {
    "id": "cC2ZH2qk3APM"
   },
   "source": [
    "### Predicción en el conjunto de prueba\n",
    "\n",
    "Para evaluar el desempeño de nuestros modelos, necesitamos calcular los errores. Para ello, podemos crear unas funciones que nos permitan obtener los errores fácilmente y graficar los resultados."
   ]
  },
  {
   "cell_type": "code",
   "execution_count": 29,
   "metadata": {
    "id": "od_0uGDKtrtH"
   },
   "outputs": [],
   "source": [
    "# Predecimos los valores del set de testeo para Regresion Lineal MinMas\n",
    "y_pred_linear_regression_y_min_max_scaler = regresor_linear_regression_y_min_max_scaler.predict(x_min_max_scaler_test)\n",
    "# Predecimos los valores del set de testeo para Regresion Lineal Standar Scaler\n",
    "y_pred_linear_regression_y_standar_scaler = regresor_linear_regression_y_standar_scaler.predict(x_standar_scaler_test)\n",
    "# Predecimos los valores del set de testeo para Random Forest MinMas\n",
    "y_pred_random_forest_y_min_max_scaler = regresor_random_forest_y_min_max_scaler.predict(x_min_max_scaler_test)\n",
    "# Predecimos los valores del set de testeo para Random Forest Standar Scaler\n",
    "y_pred_random_forest_y_standar_scaler = regresor_random_forest_y_standar_scaler.predict(x_standar_scaler_test)\n",
    "# Predecimos los valores del set de testeo para SVR MinMas\n",
    "y_pred_svr_y_min_max_scaler = regresor_svr_y_min_max_scaler.predict(x_min_max_scaler_test)\n",
    "# Predecimos los valores del set de testeo para SVR Standar Scaler\n",
    "y_pred_svr_y_standar_scaler = regresor_svr_y_standar_scaler.predict(x_standar_scaler_test)"
   ]
  },
  {
   "cell_type": "markdown",
   "metadata": {
    "id": "8mh9xKbF3APP"
   },
   "source": [
    "### Error medio absoluto"
   ]
  },
  {
   "cell_type": "code",
   "execution_count": 30,
   "metadata": {
    "id": "HBJlPxRctrtH"
   },
   "outputs": [],
   "source": [
    "# Calculamos el error medio absoluto para Regresion Lineal MinMax\n",
    "mae_linear_regression_y_min_max_scaler = mean_absolute_error(y_min_max_scaler_test, y_pred_linear_regression_y_min_max_scaler)\n",
    "# Calculamos el error medio absoluto para Regresion Lineal Standar Scaler\n",
    "mae_linear_regression_y_standar_scaler = mean_absolute_error(y_standar_scaler_test, y_pred_linear_regression_y_standar_scaler)\n",
    "# Calculamos el error medio absoluto para Random Forest MinMax\n",
    "mae_random_forest_y_min_max_scaler = mean_absolute_error(y_min_max_scaler_test, y_pred_random_forest_y_min_max_scaler)\n",
    "# Calculamos el error medio absoluto para Random Forest Standar Scaler\n",
    "mae_random_forest_y_standar_scaler = mean_absolute_error(y_standar_scaler_test, y_pred_random_forest_y_standar_scaler)\n",
    "# Calculamos el error medio absoluto para SVR MinMax\n",
    "mae_svr_y_min_max_scaler = mean_absolute_error(y_min_max_scaler_test, y_pred_svr_y_min_max_scaler)\n",
    "# Calculamos el error medio absoluto para SVR Standar Scaler\n",
    "mae_svr_y_standar_scaler = mean_absolute_error(y_standar_scaler_test, y_pred_svr_y_standar_scaler)"
   ]
  },
  {
   "cell_type": "markdown",
   "metadata": {
    "id": "Og1PDewR3APS"
   },
   "source": [
    "### Error Medio Cuadrado"
   ]
  },
  {
   "cell_type": "code",
   "execution_count": 31,
   "metadata": {
    "id": "lOZ4MQtT32jT"
   },
   "outputs": [],
   "source": [
    "# Calculamos el error medio cuadrado para Regresion Lineal MinMax\n",
    "mse_linear_regression_y_min_max_scaler = mean_squared_error(y_min_max_scaler_test, y_pred_linear_regression_y_min_max_scaler)\n",
    "# Calculamos el error medio cuadrado para Regresion Lineal Standar Scaler\n",
    "mse_linear_regression_y_standar_scaler = mean_squared_error(y_standar_scaler_test, y_pred_linear_regression_y_standar_scaler)\n",
    "# Calculamos el error medio cuadrado para Random Forest MinMax\n",
    "mse_random_forest_y_min_max_scaler = mean_squared_error(y_min_max_scaler_test, y_pred_random_forest_y_min_max_scaler)\n",
    "# Calculamos el error medio cuadrado para Random Forest Standar Scaler\n",
    "mse_random_forest_y_standar_scaler = mean_squared_error(y_standar_scaler_test, y_pred_random_forest_y_standar_scaler)\n",
    "# Calculamos el error medio cuadrado para SVR MinMax\n",
    "mse_svr_y_min_max_scale = mean_squared_error(y_min_max_scaler_test, y_pred_svr_y_min_max_scaler)\n",
    "# Calculamos el error medio cuadrado para SVR Standar Scaler\n",
    "mse_svr_y_standar_scaler = mean_squared_error(y_standar_scaler_test, y_pred_svr_y_standar_scaler)"
   ]
  },
  {
   "cell_type": "markdown",
   "metadata": {
    "id": "T5sgrFYk3APU"
   },
   "source": [
    "### Coeficiente de determinacion"
   ]
  },
  {
   "cell_type": "code",
   "execution_count": 32,
   "metadata": {
    "id": "Hli2kN1j32jT"
   },
   "outputs": [],
   "source": [
    "#Calculamos el coeficiente de determinación para Regresion Lineal MinMax\n",
    "r2_linear_regression_y_min_max_scaler = r2_score(y_min_max_scaler_test, y_pred_linear_regression_y_min_max_scaler)\n",
    "#Calculamos el coeficiente de determinación para Regresion Lineal Standar Scaler\n",
    "r2_linear_regression_y_standar_scaler = r2_score(y_standar_scaler_test, y_pred_linear_regression_y_standar_scaler)\n",
    "#Calculamos el coeficiente de determinación para Random Forest MinMax\n",
    "r2_random_forest_y_standar_scaler = r2_score(y_standar_scaler_test, y_pred_random_forest_y_standar_scaler)\n",
    "#Calculamos el coeficiente de determinación para Random Forest Standar Scaler\n",
    "r2_random_forest_y_min_max_scaler = r2_score(y_standar_scaler_test, y_pred_random_forest_y_standar_scaler)\n",
    "#Calculamos el coeficiente de determinación para SVR MinMax\n",
    "r2_svr_y_min_max_scale = r2_score(y_min_max_scaler_test, y_pred_svr_y_min_max_scaler)\n",
    "#Calculamos el coeficiente de determinación para SVR Standar Scaler\n",
    "r2_svr_y_standar_scaler = r2_score(y_standar_scaler_test, y_pred_svr_y_standar_scaler)"
   ]
  },
  {
   "cell_type": "markdown",
   "metadata": {
    "id": "-d6E9UQX3APX"
   },
   "source": [
    "### Comparación de metricas"
   ]
  },
  {
   "cell_type": "code",
   "execution_count": 33,
   "metadata": {
    "colab": {
     "base_uri": "https://localhost:8080/"
    },
    "executionInfo": {
     "elapsed": 276,
     "status": "ok",
     "timestamp": 1701012106216,
     "user": {
      "displayName": "Julia Panei",
      "userId": "13714276047079325057"
     },
     "user_tz": 180
    },
    "id": "JJBRE6O832jU",
    "outputId": "1024c9aa-e2e4-4cb7-d615-b61c8a8769e7"
   },
   "outputs": [
    {
     "name": "stdout",
     "output_type": "stream",
     "text": [
      "MAE linear regression y MinMax scaler: 0.11542078316432224\n",
      "MAE linear regression y StandardScaler: 0.568445596195554\n",
      "MAE random forest y MinMax scaler: 0.06815434187314041\n",
      "MAE random forest y StandardScaler: 0.33509516315711857\n",
      "MAE svr y MinMax scaler: 0.1786426704347987\n",
      "MAE svr y StandardScaler: 0.5235273108160509\n"
     ]
    }
   ],
   "source": [
    "#Comparamos las métricas mae\n",
    "print(f\"MAE linear regression y MinMax scaler: {mae_linear_regression_y_min_max_scaler}\")\n",
    "print(f\"MAE linear regression y StandardScaler: {mae_linear_regression_y_standar_scaler}\")\n",
    "print(f\"MAE random forest y MinMax scaler: {mae_random_forest_y_min_max_scaler}\")\n",
    "print(f\"MAE random forest y StandardScaler: {mae_random_forest_y_standar_scaler}\")\n",
    "print(f\"MAE svr y MinMax scaler: {mae_svr_y_min_max_scaler}\")\n",
    "print(f\"MAE svr y StandardScaler: {mae_svr_y_standar_scaler}\")"
   ]
  },
  {
   "cell_type": "code",
   "execution_count": 34,
   "metadata": {
    "colab": {
     "base_uri": "https://localhost:8080/"
    },
    "executionInfo": {
     "elapsed": 269,
     "status": "ok",
     "timestamp": 1701012123641,
     "user": {
      "displayName": "Julia Panei",
      "userId": "13714276047079325057"
     },
     "user_tz": 180
    },
    "id": "SJIVSP6K3APY",
    "outputId": "9b4bf76c-3b3e-48bf-cf1d-5e3d168147ba"
   },
   "outputs": [
    {
     "name": "stdout",
     "output_type": "stream",
     "text": [
      "MSE linear regression y MinMax scaler: 0.027293162500233878\n",
      "MSE linear regression y StandarScaler: 0.6620086132207404\n",
      "MSE random forest y MinMax scaler: 0.018279365076248145\n",
      "MSE random forest y StandardScaler: 0.4428835352797319\n",
      "MSE svr y MinMax scaler: 0.042481787510920896\n",
      "MSE svr y StandardScaler: 0.915913267132385\n"
     ]
    }
   ],
   "source": [
    "#Comparamos las métricas mse\n",
    "print(f\"MSE linear regression y MinMax scaler: {mse_linear_regression_y_min_max_scaler}\")\n",
    "print(f\"MSE linear regression y StandarScaler: {mse_linear_regression_y_standar_scaler}\")\n",
    "print(f\"MSE random forest y MinMax scaler: {mse_random_forest_y_min_max_scaler}\")\n",
    "print(f\"MSE random forest y StandardScaler: {mse_random_forest_y_standar_scaler}\")\n",
    "print(f\"MSE svr y MinMax scaler: {mse_svr_y_min_max_scale}\")\n",
    "print(f\"MSE svr y StandardScaler: {mse_svr_y_standar_scaler}\")"
   ]
  },
  {
   "cell_type": "code",
   "execution_count": 35,
   "metadata": {
    "colab": {
     "base_uri": "https://localhost:8080/"
    },
    "executionInfo": {
     "elapsed": 274,
     "status": "ok",
     "timestamp": 1701012129198,
     "user": {
      "displayName": "Julia Panei",
      "userId": "13714276047079325057"
     },
     "user_tz": 180
    },
    "id": "FD8mQdpF3APY",
    "outputId": "f34683a2-3cf8-4d6f-9e99-7927d1cc4d79"
   },
   "outputs": [
    {
     "name": "stdout",
     "output_type": "stream",
     "text": [
      "R2 linear regression y MinMax scaler: 0.20339455323864797\n",
      "R2 linear regression y StandardScaler: 0.20339455323865063\n",
      "R2 random forest y StandardScaler: 0.4670712292271675\n",
      "R2 random forest y MinMax scaler: 0.4670712292271675\n",
      "R2 svr y MinMax scaler: -0.23991579645883743\n",
      "R2 svr y StandardScaler: -0.10213293722714067\n"
     ]
    }
   ],
   "source": [
    "#Comparamos las métricas r2\n",
    "print(f\"R2 linear regression y MinMax scaler: {r2_linear_regression_y_min_max_scaler}\")\n",
    "print(f\"R2 linear regression y StandardScaler: {r2_linear_regression_y_standar_scaler}\")\n",
    "print(f\"R2 random forest y StandardScaler: {r2_random_forest_y_standar_scaler}\")\n",
    "print(f\"R2 random forest y MinMax scaler: {r2_random_forest_y_min_max_scaler}\")\n",
    "print(f\"R2 svr y MinMax scaler: {r2_svr_y_min_max_scale}\")\n",
    "print(f\"R2 svr y StandardScaler: {r2_svr_y_standar_scaler}\")"
   ]
  },
  {
   "cell_type": "markdown",
   "metadata": {
    "id": "KatTbjfh3APZ"
   },
   "source": [
    "Un r2 negativo significa que el modelo es realmente inapropiado para los datos y que las predicciones son peores que simplemente usar la media de los valores observados como predicción. Esto puede ocurrir cuando el modelo tiene un rendimiento muy deficiente y está realizando predicciones extremadamente alejadas de los valores reales."
   ]
  },
  {
   "cell_type": "markdown",
   "metadata": {
    "id": "uESaYY2732jg"
   },
   "source": [
    "## 💻 Gráfico de resultados\n",
    "\n",
    "Graficamos un Scatterplot mostrando la relación entre el valor real y el predicho"
   ]
  },
  {
   "cell_type": "code",
   "execution_count": 36,
   "metadata": {},
   "outputs": [
    {
     "data": {
      "image/png": "[encoded data removed]",
      "text/plain": [
       "<Figure size 1000x800 with 6 Axes>"
      ]
     },
     "metadata": {},
     "output_type": "display_data"
    }
   ],
   "source": [
    "def graph_real_pred(y_test, y_pred_train, color, title, ax=None):\n",
    "    \"\"\"\n",
    "    Funcion que grafica los valores reales vs. predichos\n",
    "    :param y_test: valores reales\n",
    "    :param y_pred_train: valores predichos\n",
    "    :param color: color para el plot.\n",
    "    :param title: título del gráfico\n",
    "    :param ax: objeto de ejes de Matplotlib para dibujar el gráfico (opcional)\n",
    "    :return: Scatterplot mostrando la relación entre el valor real y el predicho\n",
    "    \"\"\"\n",
    "    if ax is None:\n",
    "        ax = plt.gca()\n",
    "    \n",
    "    ax.scatter(y_test, y_pred_train, c=color, s=10)\n",
    "    ax.spines['top'].set_visible(False)\n",
    "    ax.spines['bottom'].set_visible(False)\n",
    "    ax.spines['left'].set_visible(False)\n",
    "    ax.spines['right'].set_visible(False)\n",
    "    ax.set_xlabel('Real', size=10, labelpad=1)\n",
    "    ax.set_ylabel('Predicted', size=10, labelpad=1)\n",
    "    ax.set_title(title, size=18)  # Agregamos título al gráfico\n",
    "\n",
    "#Generamos la figura. \n",
    "fig, axs = plt.subplots(3, 2, figsize=(10, 8))\n",
    "\n",
    "\n",
    "graph_real_pred(y_min_max_scaler_test, y_pred_linear_regression_y_min_max_scaler,\"blue\",\"Linear Regression MinMax\",ax=axs[0, 0] )\n",
    "graph_real_pred(y_standar_scaler_test, y_pred_linear_regression_y_standar_scaler,\"black\",\"Linear Regression Standar Scaler\", ax=axs[0, 1])\n",
    "graph_real_pred(y_min_max_scaler_test, y_pred_random_forest_y_min_max_scaler,\"green\",\"Random Forest MinMax\", ax=axs[1, 0])\n",
    "graph_real_pred(y_standar_scaler_test, y_pred_random_forest_y_standar_scaler,\"red\",\"Random Forest Standar Scaler\", ax=axs[1, 1])\n",
    "graph_real_pred(y_min_max_scaler_test, y_pred_svr_y_min_max_scaler,\"yellow\",\"SVR MinMax\", ax=axs[2, 0])\n",
    "graph_real_pred(y_standar_scaler_test, y_pred_svr_y_standar_scaler,\"pink\",\"SVR Standar Scaler\", ax=axs[2, 1])\n",
    "\n",
    "\n",
    "plt.tight_layout()\n",
    "plt.show()\n"
   ]
  },
  {
   "cell_type": "markdown",
   "metadata": {
    "id": "yWZ--8vp3APa"
   },
   "source": [
    "Ambos modelos de **Random Forest** han mostrado los mejores comportamientos, por lo que a continuación serán los casos únicos casos a estudiar."
   ]
  },
  {
   "cell_type": "markdown",
   "metadata": {
    "id": "sZuRfieh32jk"
   },
   "source": [
    "## 💪🏼 Determinación de los mejores hiperparámetros de Random Forest utilizando GridSearchCV\n",
    "\n",
    "Para encontrar los mejores hiperparámetros de un modelo, podemos utilizar la herramienta GridSearchCV. GridSearchCV nos permite probar diferentes combinaciones de hiperparámetros y seleccionar la que proporciona el mejor rendimiento."
   ]
  },
  {
   "cell_type": "code",
   "execution_count": 37,
   "metadata": {
    "id": "nDM129Uc32jl"
   },
   "outputs": [],
   "source": [
    "from sklearn.model_selection import GridSearchCV"
   ]
  },
  {
   "cell_type": "code",
   "execution_count": 38,
   "metadata": {
    "id": "iHB_kskR32jm"
   },
   "outputs": [],
   "source": [
    "# Determinamos los valores para los parámetros a optimizar\n",
    "param_grid_rf = {\n",
    "    'criterion': ['absolute_error'],\n",
    "    'n_estimators': [70, 80, 90, 100, 120],\n",
    "    'max_features': ['log2','sqrt'],\n",
    "    'max_depth': [None, 1, 3, 5, 10, 20, 50],\n",
    "    'min_samples_leaf': [1, 2, 3, 4, 5, 10, 20, 50]\n",
    "}"
   ]
  },
  {
   "cell_type": "code",
   "execution_count": 39,
   "metadata": {
    "id": "9AMfkdU232jm"
   },
   "outputs": [],
   "source": [
    "# Inicializamos un modelo\n",
    "grid_regresor_min_max = RandomForestRegressor(random_state=42)\n",
    "grid_regresor_standar_scaler = RandomForestRegressor(random_state=42)"
   ]
  },
  {
   "cell_type": "code",
   "execution_count": 40,
   "metadata": {
    "id": "aVcUKdzW32jn"
   },
   "outputs": [],
   "source": [
    "# Creamos la búsqueda para MinMax\n",
    "rf_search_min_max = GridSearchCV(estimator=grid_regresor_min_max, param_grid=param_grid_rf,\n",
    "                         cv=5, scoring='neg_mean_absolute_error', verbose=2, n_jobs=-1)"
   ]
  },
  {
   "cell_type": "code",
   "execution_count": 41,
   "metadata": {
    "colab": {
     "base_uri": "https://localhost:8080/",
     "height": 117
    },
    "executionInfo": {
     "elapsed": 285,
     "status": "ok",
     "timestamp": 1701012172906,
     "user": {
      "displayName": "Julia Panei",
      "userId": "13714276047079325057"
     },
     "user_tz": 180
    },
    "id": "jVfEgPYo3APc",
    "outputId": "6cc3a1c5-3a95-40df-d028-18f3f76b722a"
   },
   "outputs": [
    {
     "data": {
      "text/html": [
       "<style>#sk-container-id-3 {color: black;}#sk-container-id-3 pre{padding: 0;}#sk-container-id-3 div.sk-toggleable {background-color: white;}#sk-container-id-3 label.sk-toggleable__label {cursor: pointer;display: block;width: 100%;margin-bottom: 0;padding: 0.3em;box-sizing: border-box;text-align: center;}#sk-container-id-3 label.sk-toggleable__label-arrow:before {content: \"▸\";float: left;margin-right: 0.25em;color: #696969;}#sk-container-id-3 label.sk-toggleable__label-arrow:hover:before {color: black;}#sk-container-id-3 div.sk-estimator:hover label.sk-toggleable__label-arrow:before {color: black;}#sk-container-id-3 div.sk-toggleable__content {max-height: 0;max-width: 0;overflow: hidden;text-align: left;background-color: #f0f8ff;}#sk-container-id-3 div.sk-toggleable__content pre {margin: 0.2em;color: black;border-radius: 0.25em;background-color: #f0f8ff;}#sk-container-id-3 input.sk-toggleable__control:checked~div.sk-toggleable__content {max-height: 200px;max-width: 100%;overflow: auto;}#sk-container-id-3 input.sk-toggleable__control:checked~label.sk-toggleable__label-arrow:before {content: \"▾\";}#sk-container-id-3 div.sk-estimator input.sk-toggleable__control:checked~label.sk-toggleable__label {background-color: #d4ebff;}#sk-container-id-3 div.sk-label input.sk-toggleable__control:checked~label.sk-toggleable__label {background-color: #d4ebff;}#sk-container-id-3 input.sk-hidden--visually {border: 0;clip: rect(1px 1px 1px 1px);clip: rect(1px, 1px, 1px, 1px);height: 1px;margin: -1px;overflow: hidden;padding: 0;position: absolute;width: 1px;}#sk-container-id-3 div.sk-estimator {font-family: monospace;background-color: #f0f8ff;border: 1px dotted black;border-radius: 0.25em;box-sizing: border-box;margin-bottom: 0.5em;}#sk-container-id-3 div.sk-estimator:hover {background-color: #d4ebff;}#sk-container-id-3 div.sk-parallel-item::after {content: \"\";width: 100%;border-bottom: 1px solid gray;flex-grow: 1;}#sk-container-id-3 div.sk-label:hover label.sk-toggleable__label {background-color: #d4ebff;}#sk-container-id-3 div.sk-serial::before {content: \"\";position: absolute;border-left: 1px solid gray;box-sizing: border-box;top: 0;bottom: 0;left: 50%;z-index: 0;}#sk-container-id-3 div.sk-serial {display: flex;flex-direction: column;align-items: center;background-color: white;padding-right: 0.2em;padding-left: 0.2em;position: relative;}#sk-container-id-3 div.sk-item {position: relative;z-index: 1;}#sk-container-id-3 div.sk-parallel {display: flex;align-items: stretch;justify-content: center;background-color: white;position: relative;}#sk-container-id-3 div.sk-item::before, #sk-container-id-3 div.sk-parallel-item::before {content: \"\";position: absolute;border-left: 1px solid gray;box-sizing: border-box;top: 0;bottom: 0;left: 50%;z-index: -1;}#sk-container-id-3 div.sk-parallel-item {display: flex;flex-direction: column;z-index: 1;position: relative;background-color: white;}#sk-container-id-3 div.sk-parallel-item:first-child::after {align-self: flex-end;width: 50%;}#sk-container-id-3 div.sk-parallel-item:last-child::after {align-self: flex-start;width: 50%;}#sk-container-id-3 div.sk-parallel-item:only-child::after {width: 0;}#sk-container-id-3 div.sk-dashed-wrapped {border: 1px dashed gray;margin: 0 0.4em 0.5em 0.4em;box-sizing: border-box;padding-bottom: 0.4em;background-color: white;}#sk-container-id-3 div.sk-label label {font-family: monospace;font-weight: bold;display: inline-block;line-height: 1.2em;}#sk-container-id-3 div.sk-label-container {text-align: center;}#sk-container-id-3 div.sk-container {/* jupyter's `normalize.less` sets `[hidden] { display: none; }` but bootstrap.min.css set `[hidden] { display: none !important; }` so we also need the `!important` here to be able to override the default hidden behavior on the sphinx rendered scikit-learn.org. See: https://github.com/scikit-learn/scikit-learn/issues/21755 */display: inline-block !important;position: relative;}#sk-container-id-3 div.sk-text-repr-fallback {display: none;}</style><div id=\"sk-container-id-3\" class=\"sk-top-container\"><div class=\"sk-text-repr-fallback\"><pre>GridSearchCV(cv=5, estimator=RandomForestRegressor(random_state=42), n_jobs=-1,\n",
       "             param_grid={&#x27;criterion&#x27;: [&#x27;absolute_error&#x27;],\n",
       "                         &#x27;max_depth&#x27;: [None, 1, 3, 5, 10, 20, 50],\n",
       "                         &#x27;max_features&#x27;: [&#x27;log2&#x27;, &#x27;sqrt&#x27;],\n",
       "                         &#x27;min_samples_leaf&#x27;: [1, 2, 3, 4, 5, 10, 20, 50],\n",
       "                         &#x27;n_estimators&#x27;: [70, 80, 90, 100, 120]},\n",
       "             scoring=&#x27;neg_mean_absolute_error&#x27;, verbose=2)</pre><b>In a Jupyter environment, please rerun this cell to show the HTML representation or trust the notebook. <br />On GitHub, the HTML representation is unable to render, please try loading this page with nbviewer.org.</b></div><div class=\"sk-container\" hidden><div class=\"sk-item sk-dashed-wrapped\"><div class=\"sk-label-container\"><div class=\"sk-label sk-toggleable\"><input class=\"sk-toggleable__control sk-hidden--visually\" id=\"sk-estimator-id-3\" type=\"checkbox\" ><label for=\"sk-estimator-id-3\" class=\"sk-toggleable__label sk-toggleable__label-arrow\">GridSearchCV</label><div class=\"sk-toggleable__content\"><pre>GridSearchCV(cv=5, estimator=RandomForestRegressor(random_state=42), n_jobs=-1,\n",
       "             param_grid={&#x27;criterion&#x27;: [&#x27;absolute_error&#x27;],\n",
       "                         &#x27;max_depth&#x27;: [None, 1, 3, 5, 10, 20, 50],\n",
       "                         &#x27;max_features&#x27;: [&#x27;log2&#x27;, &#x27;sqrt&#x27;],\n",
       "                         &#x27;min_samples_leaf&#x27;: [1, 2, 3, 4, 5, 10, 20, 50],\n",
       "                         &#x27;n_estimators&#x27;: [70, 80, 90, 100, 120]},\n",
       "             scoring=&#x27;neg_mean_absolute_error&#x27;, verbose=2)</pre></div></div></div><div class=\"sk-parallel\"><div class=\"sk-parallel-item\"><div class=\"sk-item\"><div class=\"sk-label-container\"><div class=\"sk-label sk-toggleable\"><input class=\"sk-toggleable__control sk-hidden--visually\" id=\"sk-estimator-id-4\" type=\"checkbox\" ><label for=\"sk-estimator-id-4\" class=\"sk-toggleable__label sk-toggleable__label-arrow\">estimator: RandomForestRegressor</label><div class=\"sk-toggleable__content\"><pre>RandomForestRegressor(random_state=42)</pre></div></div></div><div class=\"sk-serial\"><div class=\"sk-item\"><div class=\"sk-estimator sk-toggleable\"><input class=\"sk-toggleable__control sk-hidden--visually\" id=\"sk-estimator-id-5\" type=\"checkbox\" ><label for=\"sk-estimator-id-5\" class=\"sk-toggleable__label sk-toggleable__label-arrow\">RandomForestRegressor</label><div class=\"sk-toggleable__content\"><pre>RandomForestRegressor(random_state=42)</pre></div></div></div></div></div></div></div></div></div></div>"
      ],
      "text/plain": [
       "GridSearchCV(cv=5, estimator=RandomForestRegressor(random_state=42), n_jobs=-1,\n",
       "             param_grid={'criterion': ['absolute_error'],\n",
       "                         'max_depth': [None, 1, 3, 5, 10, 20, 50],\n",
       "                         'max_features': ['log2', 'sqrt'],\n",
       "                         'min_samples_leaf': [1, 2, 3, 4, 5, 10, 20, 50],\n",
       "                         'n_estimators': [70, 80, 90, 100, 120]},\n",
       "             scoring='neg_mean_absolute_error', verbose=2)"
      ]
     },
     "execution_count": 41,
     "metadata": {},
     "output_type": "execute_result"
    }
   ],
   "source": [
    "rf_search_min_max"
   ]
  },
  {
   "cell_type": "code",
   "execution_count": 42,
   "metadata": {
    "id": "p-yOyImg3APc"
   },
   "outputs": [],
   "source": [
    "# Creamos la búsqueda para Standar Scaler\n",
    "rf_search_standar_scaler = GridSearchCV(estimator=grid_regresor_standar_scaler, param_grid=param_grid_rf,\n",
    "                         cv=5, scoring='neg_mean_absolute_error', verbose=2, n_jobs=-1)"
   ]
  },
  {
   "cell_type": "code",
   "execution_count": 43,
   "metadata": {
    "colab": {
     "base_uri": "https://localhost:8080/",
     "height": 117
    },
    "executionInfo": {
     "elapsed": 445,
     "status": "ok",
     "timestamp": 1701012178410,
     "user": {
      "displayName": "Julia Panei",
      "userId": "13714276047079325057"
     },
     "user_tz": 180
    },
    "id": "sBOE4ku83APd",
    "outputId": "f8b143c8-7b50-40f1-f240-5bf9b638c3b2"
   },
   "outputs": [
    {
     "data": {
      "text/html": [
       "<style>#sk-container-id-4 {color: black;}#sk-container-id-4 pre{padding: 0;}#sk-container-id-4 div.sk-toggleable {background-color: white;}#sk-container-id-4 label.sk-toggleable__label {cursor: pointer;display: block;width: 100%;margin-bottom: 0;padding: 0.3em;box-sizing: border-box;text-align: center;}#sk-container-id-4 label.sk-toggleable__label-arrow:before {content: \"▸\";float: left;margin-right: 0.25em;color: #696969;}#sk-container-id-4 label.sk-toggleable__label-arrow:hover:before {color: black;}#sk-container-id-4 div.sk-estimator:hover label.sk-toggleable__label-arrow:before {color: black;}#sk-container-id-4 div.sk-toggleable__content {max-height: 0;max-width: 0;overflow: hidden;text-align: left;background-color: #f0f8ff;}#sk-container-id-4 div.sk-toggleable__content pre {margin: 0.2em;color: black;border-radius: 0.25em;background-color: #f0f8ff;}#sk-container-id-4 input.sk-toggleable__control:checked~div.sk-toggleable__content {max-height: 200px;max-width: 100%;overflow: auto;}#sk-container-id-4 input.sk-toggleable__control:checked~label.sk-toggleable__label-arrow:before {content: \"▾\";}#sk-container-id-4 div.sk-estimator input.sk-toggleable__control:checked~label.sk-toggleable__label {background-color: #d4ebff;}#sk-container-id-4 div.sk-label input.sk-toggleable__control:checked~label.sk-toggleable__label {background-color: #d4ebff;}#sk-container-id-4 input.sk-hidden--visually {border: 0;clip: rect(1px 1px 1px 1px);clip: rect(1px, 1px, 1px, 1px);height: 1px;margin: -1px;overflow: hidden;padding: 0;position: absolute;width: 1px;}#sk-container-id-4 div.sk-estimator {font-family: monospace;background-color: #f0f8ff;border: 1px dotted black;border-radius: 0.25em;box-sizing: border-box;margin-bottom: 0.5em;}#sk-container-id-4 div.sk-estimator:hover {background-color: #d4ebff;}#sk-container-id-4 div.sk-parallel-item::after {content: \"\";width: 100%;border-bottom: 1px solid gray;flex-grow: 1;}#sk-container-id-4 div.sk-label:hover label.sk-toggleable__label {background-color: #d4ebff;}#sk-container-id-4 div.sk-serial::before {content: \"\";position: absolute;border-left: 1px solid gray;box-sizing: border-box;top: 0;bottom: 0;left: 50%;z-index: 0;}#sk-container-id-4 div.sk-serial {display: flex;flex-direction: column;align-items: center;background-color: white;padding-right: 0.2em;padding-left: 0.2em;position: relative;}#sk-container-id-4 div.sk-item {position: relative;z-index: 1;}#sk-container-id-4 div.sk-parallel {display: flex;align-items: stretch;justify-content: center;background-color: white;position: relative;}#sk-container-id-4 div.sk-item::before, #sk-container-id-4 div.sk-parallel-item::before {content: \"\";position: absolute;border-left: 1px solid gray;box-sizing: border-box;top: 0;bottom: 0;left: 50%;z-index: -1;}#sk-container-id-4 div.sk-parallel-item {display: flex;flex-direction: column;z-index: 1;position: relative;background-color: white;}#sk-container-id-4 div.sk-parallel-item:first-child::after {align-self: flex-end;width: 50%;}#sk-container-id-4 div.sk-parallel-item:last-child::after {align-self: flex-start;width: 50%;}#sk-container-id-4 div.sk-parallel-item:only-child::after {width: 0;}#sk-container-id-4 div.sk-dashed-wrapped {border: 1px dashed gray;margin: 0 0.4em 0.5em 0.4em;box-sizing: border-box;padding-bottom: 0.4em;background-color: white;}#sk-container-id-4 div.sk-label label {font-family: monospace;font-weight: bold;display: inline-block;line-height: 1.2em;}#sk-container-id-4 div.sk-label-container {text-align: center;}#sk-container-id-4 div.sk-container {/* jupyter's `normalize.less` sets `[hidden] { display: none; }` but bootstrap.min.css set `[hidden] { display: none !important; }` so we also need the `!important` here to be able to override the default hidden behavior on the sphinx rendered scikit-learn.org. See: https://github.com/scikit-learn/scikit-learn/issues/21755 */display: inline-block !important;position: relative;}#sk-container-id-4 div.sk-text-repr-fallback {display: none;}</style><div id=\"sk-container-id-4\" class=\"sk-top-container\"><div class=\"sk-text-repr-fallback\"><pre>GridSearchCV(cv=5, estimator=RandomForestRegressor(random_state=42), n_jobs=-1,\n",
       "             param_grid={&#x27;criterion&#x27;: [&#x27;absolute_error&#x27;],\n",
       "                         &#x27;max_depth&#x27;: [None, 1, 3, 5, 10, 20, 50],\n",
       "                         &#x27;max_features&#x27;: [&#x27;log2&#x27;, &#x27;sqrt&#x27;],\n",
       "                         &#x27;min_samples_leaf&#x27;: [1, 2, 3, 4, 5, 10, 20, 50],\n",
       "                         &#x27;n_estimators&#x27;: [70, 80, 90, 100, 120]},\n",
       "             scoring=&#x27;neg_mean_absolute_error&#x27;, verbose=2)</pre><b>In a Jupyter environment, please rerun this cell to show the HTML representation or trust the notebook. <br />On GitHub, the HTML representation is unable to render, please try loading this page with nbviewer.org.</b></div><div class=\"sk-container\" hidden><div class=\"sk-item sk-dashed-wrapped\"><div class=\"sk-label-container\"><div class=\"sk-label sk-toggleable\"><input class=\"sk-toggleable__control sk-hidden--visually\" id=\"sk-estimator-id-6\" type=\"checkbox\" ><label for=\"sk-estimator-id-6\" class=\"sk-toggleable__label sk-toggleable__label-arrow\">GridSearchCV</label><div class=\"sk-toggleable__content\"><pre>GridSearchCV(cv=5, estimator=RandomForestRegressor(random_state=42), n_jobs=-1,\n",
       "             param_grid={&#x27;criterion&#x27;: [&#x27;absolute_error&#x27;],\n",
       "                         &#x27;max_depth&#x27;: [None, 1, 3, 5, 10, 20, 50],\n",
       "                         &#x27;max_features&#x27;: [&#x27;log2&#x27;, &#x27;sqrt&#x27;],\n",
       "                         &#x27;min_samples_leaf&#x27;: [1, 2, 3, 4, 5, 10, 20, 50],\n",
       "                         &#x27;n_estimators&#x27;: [70, 80, 90, 100, 120]},\n",
       "             scoring=&#x27;neg_mean_absolute_error&#x27;, verbose=2)</pre></div></div></div><div class=\"sk-parallel\"><div class=\"sk-parallel-item\"><div class=\"sk-item\"><div class=\"sk-label-container\"><div class=\"sk-label sk-toggleable\"><input class=\"sk-toggleable__control sk-hidden--visually\" id=\"sk-estimator-id-7\" type=\"checkbox\" ><label for=\"sk-estimator-id-7\" class=\"sk-toggleable__label sk-toggleable__label-arrow\">estimator: RandomForestRegressor</label><div class=\"sk-toggleable__content\"><pre>RandomForestRegressor(random_state=42)</pre></div></div></div><div class=\"sk-serial\"><div class=\"sk-item\"><div class=\"sk-estimator sk-toggleable\"><input class=\"sk-toggleable__control sk-hidden--visually\" id=\"sk-estimator-id-8\" type=\"checkbox\" ><label for=\"sk-estimator-id-8\" class=\"sk-toggleable__label sk-toggleable__label-arrow\">RandomForestRegressor</label><div class=\"sk-toggleable__content\"><pre>RandomForestRegressor(random_state=42)</pre></div></div></div></div></div></div></div></div></div></div>"
      ],
      "text/plain": [
       "GridSearchCV(cv=5, estimator=RandomForestRegressor(random_state=42), n_jobs=-1,\n",
       "             param_grid={'criterion': ['absolute_error'],\n",
       "                         'max_depth': [None, 1, 3, 5, 10, 20, 50],\n",
       "                         'max_features': ['log2', 'sqrt'],\n",
       "                         'min_samples_leaf': [1, 2, 3, 4, 5, 10, 20, 50],\n",
       "                         'n_estimators': [70, 80, 90, 100, 120]},\n",
       "             scoring='neg_mean_absolute_error', verbose=2)"
      ]
     },
     "execution_count": 43,
     "metadata": {},
     "output_type": "execute_result"
    }
   ],
   "source": [
    "rf_search_standar_scaler"
   ]
  },
  {
   "cell_type": "code",
   "execution_count": 44,
   "metadata": {
    "colab": {
     "base_uri": "https://localhost:8080/",
     "height": 369
    },
    "executionInfo": {
     "elapsed": 901363,
     "status": "error",
     "timestamp": 1701013082332,
     "user": {
      "displayName": "Julia Panei",
      "userId": "13714276047079325057"
     },
     "user_tz": 180
    },
    "id": "rER4JYlS32jo",
    "outputId": "41a5a03a-024c-4f4c-b645-f6a977e3b88a"
   },
   "outputs": [
    {
     "name": "stdout",
     "output_type": "stream",
     "text": [
      "Fitting 5 folds for each of 560 candidates, totalling 2800 fits\n"
     ]
    },
    {
     "data": {
      "text/html": [
       "<style>#sk-container-id-5 {color: black;}#sk-container-id-5 pre{padding: 0;}#sk-container-id-5 div.sk-toggleable {background-color: white;}#sk-container-id-5 label.sk-toggleable__label {cursor: pointer;display: block;width: 100%;margin-bottom: 0;padding: 0.3em;box-sizing: border-box;text-align: center;}#sk-container-id-5 label.sk-toggleable__label-arrow:before {content: \"▸\";float: left;margin-right: 0.25em;color: #696969;}#sk-container-id-5 label.sk-toggleable__label-arrow:hover:before {color: black;}#sk-container-id-5 div.sk-estimator:hover label.sk-toggleable__label-arrow:before {color: black;}#sk-container-id-5 div.sk-toggleable__content {max-height: 0;max-width: 0;overflow: hidden;text-align: left;background-color: #f0f8ff;}#sk-container-id-5 div.sk-toggleable__content pre {margin: 0.2em;color: black;border-radius: 0.25em;background-color: #f0f8ff;}#sk-container-id-5 input.sk-toggleable__control:checked~div.sk-toggleable__content {max-height: 200px;max-width: 100%;overflow: auto;}#sk-container-id-5 input.sk-toggleable__control:checked~label.sk-toggleable__label-arrow:before {content: \"▾\";}#sk-container-id-5 div.sk-estimator input.sk-toggleable__control:checked~label.sk-toggleable__label {background-color: #d4ebff;}#sk-container-id-5 div.sk-label input.sk-toggleable__control:checked~label.sk-toggleable__label {background-color: #d4ebff;}#sk-container-id-5 input.sk-hidden--visually {border: 0;clip: rect(1px 1px 1px 1px);clip: rect(1px, 1px, 1px, 1px);height: 1px;margin: -1px;overflow: hidden;padding: 0;position: absolute;width: 1px;}#sk-container-id-5 div.sk-estimator {font-family: monospace;background-color: #f0f8ff;border: 1px dotted black;border-radius: 0.25em;box-sizing: border-box;margin-bottom: 0.5em;}#sk-container-id-5 div.sk-estimator:hover {background-color: #d4ebff;}#sk-container-id-5 div.sk-parallel-item::after {content: \"\";width: 100%;border-bottom: 1px solid gray;flex-grow: 1;}#sk-container-id-5 div.sk-label:hover label.sk-toggleable__label {background-color: #d4ebff;}#sk-container-id-5 div.sk-serial::before {content: \"\";position: absolute;border-left: 1px solid gray;box-sizing: border-box;top: 0;bottom: 0;left: 50%;z-index: 0;}#sk-container-id-5 div.sk-serial {display: flex;flex-direction: column;align-items: center;background-color: white;padding-right: 0.2em;padding-left: 0.2em;position: relative;}#sk-container-id-5 div.sk-item {position: relative;z-index: 1;}#sk-container-id-5 div.sk-parallel {display: flex;align-items: stretch;justify-content: center;background-color: white;position: relative;}#sk-container-id-5 div.sk-item::before, #sk-container-id-5 div.sk-parallel-item::before {content: \"\";position: absolute;border-left: 1px solid gray;box-sizing: border-box;top: 0;bottom: 0;left: 50%;z-index: -1;}#sk-container-id-5 div.sk-parallel-item {display: flex;flex-direction: column;z-index: 1;position: relative;background-color: white;}#sk-container-id-5 div.sk-parallel-item:first-child::after {align-self: flex-end;width: 50%;}#sk-container-id-5 div.sk-parallel-item:last-child::after {align-self: flex-start;width: 50%;}#sk-container-id-5 div.sk-parallel-item:only-child::after {width: 0;}#sk-container-id-5 div.sk-dashed-wrapped {border: 1px dashed gray;margin: 0 0.4em 0.5em 0.4em;box-sizing: border-box;padding-bottom: 0.4em;background-color: white;}#sk-container-id-5 div.sk-label label {font-family: monospace;font-weight: bold;display: inline-block;line-height: 1.2em;}#sk-container-id-5 div.sk-label-container {text-align: center;}#sk-container-id-5 div.sk-container {/* jupyter's `normalize.less` sets `[hidden] { display: none; }` but bootstrap.min.css set `[hidden] { display: none !important; }` so we also need the `!important` here to be able to override the default hidden behavior on the sphinx rendered scikit-learn.org. See: https://github.com/scikit-learn/scikit-learn/issues/21755 */display: inline-block !important;position: relative;}#sk-container-id-5 div.sk-text-repr-fallback {display: none;}</style><div id=\"sk-container-id-5\" class=\"sk-top-container\"><div class=\"sk-text-repr-fallback\"><pre>GridSearchCV(cv=5, estimator=RandomForestRegressor(random_state=42), n_jobs=-1,\n",
       "             param_grid={&#x27;criterion&#x27;: [&#x27;absolute_error&#x27;],\n",
       "                         &#x27;max_depth&#x27;: [None, 1, 3, 5, 10, 20, 50],\n",
       "                         &#x27;max_features&#x27;: [&#x27;log2&#x27;, &#x27;sqrt&#x27;],\n",
       "                         &#x27;min_samples_leaf&#x27;: [1, 2, 3, 4, 5, 10, 20, 50],\n",
       "                         &#x27;n_estimators&#x27;: [70, 80, 90, 100, 120]},\n",
       "             scoring=&#x27;neg_mean_absolute_error&#x27;, verbose=2)</pre><b>In a Jupyter environment, please rerun this cell to show the HTML representation or trust the notebook. <br />On GitHub, the HTML representation is unable to render, please try loading this page with nbviewer.org.</b></div><div class=\"sk-container\" hidden><div class=\"sk-item sk-dashed-wrapped\"><div class=\"sk-label-container\"><div class=\"sk-label sk-toggleable\"><input class=\"sk-toggleable__control sk-hidden--visually\" id=\"sk-estimator-id-9\" type=\"checkbox\" ><label for=\"sk-estimator-id-9\" class=\"sk-toggleable__label sk-toggleable__label-arrow\">GridSearchCV</label><div class=\"sk-toggleable__content\"><pre>GridSearchCV(cv=5, estimator=RandomForestRegressor(random_state=42), n_jobs=-1,\n",
       "             param_grid={&#x27;criterion&#x27;: [&#x27;absolute_error&#x27;],\n",
       "                         &#x27;max_depth&#x27;: [None, 1, 3, 5, 10, 20, 50],\n",
       "                         &#x27;max_features&#x27;: [&#x27;log2&#x27;, &#x27;sqrt&#x27;],\n",
       "                         &#x27;min_samples_leaf&#x27;: [1, 2, 3, 4, 5, 10, 20, 50],\n",
       "                         &#x27;n_estimators&#x27;: [70, 80, 90, 100, 120]},\n",
       "             scoring=&#x27;neg_mean_absolute_error&#x27;, verbose=2)</pre></div></div></div><div class=\"sk-parallel\"><div class=\"sk-parallel-item\"><div class=\"sk-item\"><div class=\"sk-label-container\"><div class=\"sk-label sk-toggleable\"><input class=\"sk-toggleable__control sk-hidden--visually\" id=\"sk-estimator-id-10\" type=\"checkbox\" ><label for=\"sk-estimator-id-10\" class=\"sk-toggleable__label sk-toggleable__label-arrow\">estimator: RandomForestRegressor</label><div class=\"sk-toggleable__content\"><pre>RandomForestRegressor(random_state=42)</pre></div></div></div><div class=\"sk-serial\"><div class=\"sk-item\"><div class=\"sk-estimator sk-toggleable\"><input class=\"sk-toggleable__control sk-hidden--visually\" id=\"sk-estimator-id-11\" type=\"checkbox\" ><label for=\"sk-estimator-id-11\" class=\"sk-toggleable__label sk-toggleable__label-arrow\">RandomForestRegressor</label><div class=\"sk-toggleable__content\"><pre>RandomForestRegressor(random_state=42)</pre></div></div></div></div></div></div></div></div></div></div>"
      ],
      "text/plain": [
       "GridSearchCV(cv=5, estimator=RandomForestRegressor(random_state=42), n_jobs=-1,\n",
       "             param_grid={'criterion': ['absolute_error'],\n",
       "                         'max_depth': [None, 1, 3, 5, 10, 20, 50],\n",
       "                         'max_features': ['log2', 'sqrt'],\n",
       "                         'min_samples_leaf': [1, 2, 3, 4, 5, 10, 20, 50],\n",
       "                         'n_estimators': [70, 80, 90, 100, 120]},\n",
       "             scoring='neg_mean_absolute_error', verbose=2)"
      ]
     },
     "execution_count": 44,
     "metadata": {},
     "output_type": "execute_result"
    }
   ],
   "source": [
    "# Corremos el gridsearch con una validación usando 3 folds para MinMax\n",
    "rf_search_min_max.fit(x_min_max_scaler_train, y_min_max_scaler_train)"
   ]
  },
  {
   "cell_type": "code",
   "execution_count": 45,
   "metadata": {
    "id": "AOWFzTIo3APe",
    "outputId": "414338cd-7807-4b53-c5fb-6ae33c2e890a"
   },
   "outputs": [
    {
     "name": "stdout",
     "output_type": "stream",
     "text": [
      "Fitting 5 folds for each of 560 candidates, totalling 2800 fits\n"
     ]
    },
    {
     "data": {
      "text/html": [
       "<style>#sk-container-id-6 {color: black;}#sk-container-id-6 pre{padding: 0;}#sk-container-id-6 div.sk-toggleable {background-color: white;}#sk-container-id-6 label.sk-toggleable__label {cursor: pointer;display: block;width: 100%;margin-bottom: 0;padding: 0.3em;box-sizing: border-box;text-align: center;}#sk-container-id-6 label.sk-toggleable__label-arrow:before {content: \"▸\";float: left;margin-right: 0.25em;color: #696969;}#sk-container-id-6 label.sk-toggleable__label-arrow:hover:before {color: black;}#sk-container-id-6 div.sk-estimator:hover label.sk-toggleable__label-arrow:before {color: black;}#sk-container-id-6 div.sk-toggleable__content {max-height: 0;max-width: 0;overflow: hidden;text-align: left;background-color: #f0f8ff;}#sk-container-id-6 div.sk-toggleable__content pre {margin: 0.2em;color: black;border-radius: 0.25em;background-color: #f0f8ff;}#sk-container-id-6 input.sk-toggleable__control:checked~div.sk-toggleable__content {max-height: 200px;max-width: 100%;overflow: auto;}#sk-container-id-6 input.sk-toggleable__control:checked~label.sk-toggleable__label-arrow:before {content: \"▾\";}#sk-container-id-6 div.sk-estimator input.sk-toggleable__control:checked~label.sk-toggleable__label {background-color: #d4ebff;}#sk-container-id-6 div.sk-label input.sk-toggleable__control:checked~label.sk-toggleable__label {background-color: #d4ebff;}#sk-container-id-6 input.sk-hidden--visually {border: 0;clip: rect(1px 1px 1px 1px);clip: rect(1px, 1px, 1px, 1px);height: 1px;margin: -1px;overflow: hidden;padding: 0;position: absolute;width: 1px;}#sk-container-id-6 div.sk-estimator {font-family: monospace;background-color: #f0f8ff;border: 1px dotted black;border-radius: 0.25em;box-sizing: border-box;margin-bottom: 0.5em;}#sk-container-id-6 div.sk-estimator:hover {background-color: #d4ebff;}#sk-container-id-6 div.sk-parallel-item::after {content: \"\";width: 100%;border-bottom: 1px solid gray;flex-grow: 1;}#sk-container-id-6 div.sk-label:hover label.sk-toggleable__label {background-color: #d4ebff;}#sk-container-id-6 div.sk-serial::before {content: \"\";position: absolute;border-left: 1px solid gray;box-sizing: border-box;top: 0;bottom: 0;left: 50%;z-index: 0;}#sk-container-id-6 div.sk-serial {display: flex;flex-direction: column;align-items: center;background-color: white;padding-right: 0.2em;padding-left: 0.2em;position: relative;}#sk-container-id-6 div.sk-item {position: relative;z-index: 1;}#sk-container-id-6 div.sk-parallel {display: flex;align-items: stretch;justify-content: center;background-color: white;position: relative;}#sk-container-id-6 div.sk-item::before, #sk-container-id-6 div.sk-parallel-item::before {content: \"\";position: absolute;border-left: 1px solid gray;box-sizing: border-box;top: 0;bottom: 0;left: 50%;z-index: -1;}#sk-container-id-6 div.sk-parallel-item {display: flex;flex-direction: column;z-index: 1;position: relative;background-color: white;}#sk-container-id-6 div.sk-parallel-item:first-child::after {align-self: flex-end;width: 50%;}#sk-container-id-6 div.sk-parallel-item:last-child::after {align-self: flex-start;width: 50%;}#sk-container-id-6 div.sk-parallel-item:only-child::after {width: 0;}#sk-container-id-6 div.sk-dashed-wrapped {border: 1px dashed gray;margin: 0 0.4em 0.5em 0.4em;box-sizing: border-box;padding-bottom: 0.4em;background-color: white;}#sk-container-id-6 div.sk-label label {font-family: monospace;font-weight: bold;display: inline-block;line-height: 1.2em;}#sk-container-id-6 div.sk-label-container {text-align: center;}#sk-container-id-6 div.sk-container {/* jupyter's `normalize.less` sets `[hidden] { display: none; }` but bootstrap.min.css set `[hidden] { display: none !important; }` so we also need the `!important` here to be able to override the default hidden behavior on the sphinx rendered scikit-learn.org. See: https://github.com/scikit-learn/scikit-learn/issues/21755 */display: inline-block !important;position: relative;}#sk-container-id-6 div.sk-text-repr-fallback {display: none;}</style><div id=\"sk-container-id-6\" class=\"sk-top-container\"><div class=\"sk-text-repr-fallback\"><pre>GridSearchCV(cv=5, estimator=RandomForestRegressor(random_state=42), n_jobs=-1,\n",
       "             param_grid={&#x27;criterion&#x27;: [&#x27;absolute_error&#x27;],\n",
       "                         &#x27;max_depth&#x27;: [None, 1, 3, 5, 10, 20, 50],\n",
       "                         &#x27;max_features&#x27;: [&#x27;log2&#x27;, &#x27;sqrt&#x27;],\n",
       "                         &#x27;min_samples_leaf&#x27;: [1, 2, 3, 4, 5, 10, 20, 50],\n",
       "                         &#x27;n_estimators&#x27;: [70, 80, 90, 100, 120]},\n",
       "             scoring=&#x27;neg_mean_absolute_error&#x27;, verbose=2)</pre><b>In a Jupyter environment, please rerun this cell to show the HTML representation or trust the notebook. <br />On GitHub, the HTML representation is unable to render, please try loading this page with nbviewer.org.</b></div><div class=\"sk-container\" hidden><div class=\"sk-item sk-dashed-wrapped\"><div class=\"sk-label-container\"><div class=\"sk-label sk-toggleable\"><input class=\"sk-toggleable__control sk-hidden--visually\" id=\"sk-estimator-id-12\" type=\"checkbox\" ><label for=\"sk-estimator-id-12\" class=\"sk-toggleable__label sk-toggleable__label-arrow\">GridSearchCV</label><div class=\"sk-toggleable__content\"><pre>GridSearchCV(cv=5, estimator=RandomForestRegressor(random_state=42), n_jobs=-1,\n",
       "             param_grid={&#x27;criterion&#x27;: [&#x27;absolute_error&#x27;],\n",
       "                         &#x27;max_depth&#x27;: [None, 1, 3, 5, 10, 20, 50],\n",
       "                         &#x27;max_features&#x27;: [&#x27;log2&#x27;, &#x27;sqrt&#x27;],\n",
       "                         &#x27;min_samples_leaf&#x27;: [1, 2, 3, 4, 5, 10, 20, 50],\n",
       "                         &#x27;n_estimators&#x27;: [70, 80, 90, 100, 120]},\n",
       "             scoring=&#x27;neg_mean_absolute_error&#x27;, verbose=2)</pre></div></div></div><div class=\"sk-parallel\"><div class=\"sk-parallel-item\"><div class=\"sk-item\"><div class=\"sk-label-container\"><div class=\"sk-label sk-toggleable\"><input class=\"sk-toggleable__control sk-hidden--visually\" id=\"sk-estimator-id-13\" type=\"checkbox\" ><label for=\"sk-estimator-id-13\" class=\"sk-toggleable__label sk-toggleable__label-arrow\">estimator: RandomForestRegressor</label><div class=\"sk-toggleable__content\"><pre>RandomForestRegressor(random_state=42)</pre></div></div></div><div class=\"sk-serial\"><div class=\"sk-item\"><div class=\"sk-estimator sk-toggleable\"><input class=\"sk-toggleable__control sk-hidden--visually\" id=\"sk-estimator-id-14\" type=\"checkbox\" ><label for=\"sk-estimator-id-14\" class=\"sk-toggleable__label sk-toggleable__label-arrow\">RandomForestRegressor</label><div class=\"sk-toggleable__content\"><pre>RandomForestRegressor(random_state=42)</pre></div></div></div></div></div></div></div></div></div></div>"
      ],
      "text/plain": [
       "GridSearchCV(cv=5, estimator=RandomForestRegressor(random_state=42), n_jobs=-1,\n",
       "             param_grid={'criterion': ['absolute_error'],\n",
       "                         'max_depth': [None, 1, 3, 5, 10, 20, 50],\n",
       "                         'max_features': ['log2', 'sqrt'],\n",
       "                         'min_samples_leaf': [1, 2, 3, 4, 5, 10, 20, 50],\n",
       "                         'n_estimators': [70, 80, 90, 100, 120]},\n",
       "             scoring='neg_mean_absolute_error', verbose=2)"
      ]
     },
     "execution_count": 45,
     "metadata": {},
     "output_type": "execute_result"
    }
   ],
   "source": [
    "# Corremos el gridsearch con una validación usando 3 folds para Standar Scaler\n",
    "rf_search_standar_scaler.fit(x_standar_scaler_train, y_standar_scaler_train)"
   ]
  },
  {
   "cell_type": "markdown",
   "metadata": {
    "id": "rQ3AbX0C32jq"
   },
   "source": [
    "### ¿Cuál es nuestro mejor estimador?\n",
    "\n",
    "Para determinar cuál es nuestro mejor estimador, debemos evaluar el rendimiento de los diferentes estimadores que hemos probado. Podemos utilizar distintas métricas para evaluar el rendimiento, como el error medio absoluto (MAE), el error medio cuadrado (MSE) o el coeficiente de determinación (R²)."
   ]
  },
  {
   "cell_type": "code",
   "execution_count": 46,
   "metadata": {
    "id": "D6bfO1ZB32jq",
    "outputId": "d426cc33-bb01-4a27-9bf9-e9a4a3ff9fd9"
   },
   "outputs": [
    {
     "data": {
      "text/html": [
       "<style>#sk-container-id-7 {color: black;}#sk-container-id-7 pre{padding: 0;}#sk-container-id-7 div.sk-toggleable {background-color: white;}#sk-container-id-7 label.sk-toggleable__label {cursor: pointer;display: block;width: 100%;margin-bottom: 0;padding: 0.3em;box-sizing: border-box;text-align: center;}#sk-container-id-7 label.sk-toggleable__label-arrow:before {content: \"▸\";float: left;margin-right: 0.25em;color: #696969;}#sk-container-id-7 label.sk-toggleable__label-arrow:hover:before {color: black;}#sk-container-id-7 div.sk-estimator:hover label.sk-toggleable__label-arrow:before {color: black;}#sk-container-id-7 div.sk-toggleable__content {max-height: 0;max-width: 0;overflow: hidden;text-align: left;background-color: #f0f8ff;}#sk-container-id-7 div.sk-toggleable__content pre {margin: 0.2em;color: black;border-radius: 0.25em;background-color: #f0f8ff;}#sk-container-id-7 input.sk-toggleable__control:checked~div.sk-toggleable__content {max-height: 200px;max-width: 100%;overflow: auto;}#sk-container-id-7 input.sk-toggleable__control:checked~label.sk-toggleable__label-arrow:before {content: \"▾\";}#sk-container-id-7 div.sk-estimator input.sk-toggleable__control:checked~label.sk-toggleable__label {background-color: #d4ebff;}#sk-container-id-7 div.sk-label input.sk-toggleable__control:checked~label.sk-toggleable__label {background-color: #d4ebff;}#sk-container-id-7 input.sk-hidden--visually {border: 0;clip: rect(1px 1px 1px 1px);clip: rect(1px, 1px, 1px, 1px);height: 1px;margin: -1px;overflow: hidden;padding: 0;position: absolute;width: 1px;}#sk-container-id-7 div.sk-estimator {font-family: monospace;background-color: #f0f8ff;border: 1px dotted black;border-radius: 0.25em;box-sizing: border-box;margin-bottom: 0.5em;}#sk-container-id-7 div.sk-estimator:hover {background-color: #d4ebff;}#sk-container-id-7 div.sk-parallel-item::after {content: \"\";width: 100%;border-bottom: 1px solid gray;flex-grow: 1;}#sk-container-id-7 div.sk-label:hover label.sk-toggleable__label {background-color: #d4ebff;}#sk-container-id-7 div.sk-serial::before {content: \"\";position: absolute;border-left: 1px solid gray;box-sizing: border-box;top: 0;bottom: 0;left: 50%;z-index: 0;}#sk-container-id-7 div.sk-serial {display: flex;flex-direction: column;align-items: center;background-color: white;padding-right: 0.2em;padding-left: 0.2em;position: relative;}#sk-container-id-7 div.sk-item {position: relative;z-index: 1;}#sk-container-id-7 div.sk-parallel {display: flex;align-items: stretch;justify-content: center;background-color: white;position: relative;}#sk-container-id-7 div.sk-item::before, #sk-container-id-7 div.sk-parallel-item::before {content: \"\";position: absolute;border-left: 1px solid gray;box-sizing: border-box;top: 0;bottom: 0;left: 50%;z-index: -1;}#sk-container-id-7 div.sk-parallel-item {display: flex;flex-direction: column;z-index: 1;position: relative;background-color: white;}#sk-container-id-7 div.sk-parallel-item:first-child::after {align-self: flex-end;width: 50%;}#sk-container-id-7 div.sk-parallel-item:last-child::after {align-self: flex-start;width: 50%;}#sk-container-id-7 div.sk-parallel-item:only-child::after {width: 0;}#sk-container-id-7 div.sk-dashed-wrapped {border: 1px dashed gray;margin: 0 0.4em 0.5em 0.4em;box-sizing: border-box;padding-bottom: 0.4em;background-color: white;}#sk-container-id-7 div.sk-label label {font-family: monospace;font-weight: bold;display: inline-block;line-height: 1.2em;}#sk-container-id-7 div.sk-label-container {text-align: center;}#sk-container-id-7 div.sk-container {/* jupyter's `normalize.less` sets `[hidden] { display: none; }` but bootstrap.min.css set `[hidden] { display: none !important; }` so we also need the `!important` here to be able to override the default hidden behavior on the sphinx rendered scikit-learn.org. See: https://github.com/scikit-learn/scikit-learn/issues/21755 */display: inline-block !important;position: relative;}#sk-container-id-7 div.sk-text-repr-fallback {display: none;}</style><div id=\"sk-container-id-7\" class=\"sk-top-container\"><div class=\"sk-text-repr-fallback\"><pre>RandomForestRegressor(criterion=&#x27;absolute_error&#x27;, max_depth=10,\n",
       "                      max_features=&#x27;log2&#x27;, random_state=42)</pre><b>In a Jupyter environment, please rerun this cell to show the HTML representation or trust the notebook. <br />On GitHub, the HTML representation is unable to render, please try loading this page with nbviewer.org.</b></div><div class=\"sk-container\" hidden><div class=\"sk-item\"><div class=\"sk-estimator sk-toggleable\"><input class=\"sk-toggleable__control sk-hidden--visually\" id=\"sk-estimator-id-15\" type=\"checkbox\" checked><label for=\"sk-estimator-id-15\" class=\"sk-toggleable__label sk-toggleable__label-arrow\">RandomForestRegressor</label><div class=\"sk-toggleable__content\"><pre>RandomForestRegressor(criterion=&#x27;absolute_error&#x27;, max_depth=10,\n",
       "                      max_features=&#x27;log2&#x27;, random_state=42)</pre></div></div></div></div></div>"
      ],
      "text/plain": [
       "RandomForestRegressor(criterion='absolute_error', max_depth=10,\n",
       "                      max_features='log2', random_state=42)"
      ]
     },
     "execution_count": 46,
     "metadata": {},
     "output_type": "execute_result"
    }
   ],
   "source": [
    "#Definimos la variable para MinMax\n",
    "rf_best_min_max=rf_search_min_max.best_estimator_\n",
    "rf_best_min_max"
   ]
  },
  {
   "cell_type": "code",
   "execution_count": 47,
   "metadata": {
    "id": "YKaOws673APf",
    "outputId": "8d41d4f8-bf35-4092-84ce-0372e333c1cd"
   },
   "outputs": [
    {
     "data": {
      "text/html": [
       "<style>#sk-container-id-8 {color: black;}#sk-container-id-8 pre{padding: 0;}#sk-container-id-8 div.sk-toggleable {background-color: white;}#sk-container-id-8 label.sk-toggleable__label {cursor: pointer;display: block;width: 100%;margin-bottom: 0;padding: 0.3em;box-sizing: border-box;text-align: center;}#sk-container-id-8 label.sk-toggleable__label-arrow:before {content: \"▸\";float: left;margin-right: 0.25em;color: #696969;}#sk-container-id-8 label.sk-toggleable__label-arrow:hover:before {color: black;}#sk-container-id-8 div.sk-estimator:hover label.sk-toggleable__label-arrow:before {color: black;}#sk-container-id-8 div.sk-toggleable__content {max-height: 0;max-width: 0;overflow: hidden;text-align: left;background-color: #f0f8ff;}#sk-container-id-8 div.sk-toggleable__content pre {margin: 0.2em;color: black;border-radius: 0.25em;background-color: #f0f8ff;}#sk-container-id-8 input.sk-toggleable__control:checked~div.sk-toggleable__content {max-height: 200px;max-width: 100%;overflow: auto;}#sk-container-id-8 input.sk-toggleable__control:checked~label.sk-toggleable__label-arrow:before {content: \"▾\";}#sk-container-id-8 div.sk-estimator input.sk-toggleable__control:checked~label.sk-toggleable__label {background-color: #d4ebff;}#sk-container-id-8 div.sk-label input.sk-toggleable__control:checked~label.sk-toggleable__label {background-color: #d4ebff;}#sk-container-id-8 input.sk-hidden--visually {border: 0;clip: rect(1px 1px 1px 1px);clip: rect(1px, 1px, 1px, 1px);height: 1px;margin: -1px;overflow: hidden;padding: 0;position: absolute;width: 1px;}#sk-container-id-8 div.sk-estimator {font-family: monospace;background-color: #f0f8ff;border: 1px dotted black;border-radius: 0.25em;box-sizing: border-box;margin-bottom: 0.5em;}#sk-container-id-8 div.sk-estimator:hover {background-color: #d4ebff;}#sk-container-id-8 div.sk-parallel-item::after {content: \"\";width: 100%;border-bottom: 1px solid gray;flex-grow: 1;}#sk-container-id-8 div.sk-label:hover label.sk-toggleable__label {background-color: #d4ebff;}#sk-container-id-8 div.sk-serial::before {content: \"\";position: absolute;border-left: 1px solid gray;box-sizing: border-box;top: 0;bottom: 0;left: 50%;z-index: 0;}#sk-container-id-8 div.sk-serial {display: flex;flex-direction: column;align-items: center;background-color: white;padding-right: 0.2em;padding-left: 0.2em;position: relative;}#sk-container-id-8 div.sk-item {position: relative;z-index: 1;}#sk-container-id-8 div.sk-parallel {display: flex;align-items: stretch;justify-content: center;background-color: white;position: relative;}#sk-container-id-8 div.sk-item::before, #sk-container-id-8 div.sk-parallel-item::before {content: \"\";position: absolute;border-left: 1px solid gray;box-sizing: border-box;top: 0;bottom: 0;left: 50%;z-index: -1;}#sk-container-id-8 div.sk-parallel-item {display: flex;flex-direction: column;z-index: 1;position: relative;background-color: white;}#sk-container-id-8 div.sk-parallel-item:first-child::after {align-self: flex-end;width: 50%;}#sk-container-id-8 div.sk-parallel-item:last-child::after {align-self: flex-start;width: 50%;}#sk-container-id-8 div.sk-parallel-item:only-child::after {width: 0;}#sk-container-id-8 div.sk-dashed-wrapped {border: 1px dashed gray;margin: 0 0.4em 0.5em 0.4em;box-sizing: border-box;padding-bottom: 0.4em;background-color: white;}#sk-container-id-8 div.sk-label label {font-family: monospace;font-weight: bold;display: inline-block;line-height: 1.2em;}#sk-container-id-8 div.sk-label-container {text-align: center;}#sk-container-id-8 div.sk-container {/* jupyter's `normalize.less` sets `[hidden] { display: none; }` but bootstrap.min.css set `[hidden] { display: none !important; }` so we also need the `!important` here to be able to override the default hidden behavior on the sphinx rendered scikit-learn.org. See: https://github.com/scikit-learn/scikit-learn/issues/21755 */display: inline-block !important;position: relative;}#sk-container-id-8 div.sk-text-repr-fallback {display: none;}</style><div id=\"sk-container-id-8\" class=\"sk-top-container\"><div class=\"sk-text-repr-fallback\"><pre>RandomForestRegressor(criterion=&#x27;absolute_error&#x27;, max_depth=10,\n",
       "                      max_features=&#x27;log2&#x27;, n_estimators=120, random_state=42)</pre><b>In a Jupyter environment, please rerun this cell to show the HTML representation or trust the notebook. <br />On GitHub, the HTML representation is unable to render, please try loading this page with nbviewer.org.</b></div><div class=\"sk-container\" hidden><div class=\"sk-item\"><div class=\"sk-estimator sk-toggleable\"><input class=\"sk-toggleable__control sk-hidden--visually\" id=\"sk-estimator-id-16\" type=\"checkbox\" checked><label for=\"sk-estimator-id-16\" class=\"sk-toggleable__label sk-toggleable__label-arrow\">RandomForestRegressor</label><div class=\"sk-toggleable__content\"><pre>RandomForestRegressor(criterion=&#x27;absolute_error&#x27;, max_depth=10,\n",
       "                      max_features=&#x27;log2&#x27;, n_estimators=120, random_state=42)</pre></div></div></div></div></div>"
      ],
      "text/plain": [
       "RandomForestRegressor(criterion='absolute_error', max_depth=10,\n",
       "                      max_features='log2', n_estimators=120, random_state=42)"
      ]
     },
     "execution_count": 47,
     "metadata": {},
     "output_type": "execute_result"
    }
   ],
   "source": [
    "#Definimos la variable para Standar Scaler\n",
    "rf_best_standar_scaler=rf_search_standar_scaler.best_estimator_\n",
    "rf_best_standar_scaler"
   ]
  },
  {
   "cell_type": "code",
   "execution_count": 48,
   "metadata": {
    "id": "jYlP5aZ_32jt",
    "outputId": "153e7dd6-7966-47c6-fb27-4ff1600025ef"
   },
   "outputs": [
    {
     "name": "stdout",
     "output_type": "stream",
     "text": [
      "{'criterion': 'absolute_error', 'max_depth': 10, 'max_features': 'log2', 'min_samples_leaf': 1, 'n_estimators': 100}\n"
     ]
    }
   ],
   "source": [
    "#Definimos los mejores parámetros para MinMax\n",
    "best_params = rf_search_min_max.best_params_\n",
    "print(best_params)"
   ]
  },
  {
   "cell_type": "code",
   "execution_count": 49,
   "metadata": {
    "id": "biFaQCJo3APg",
    "outputId": "153e7dd6-7966-47c6-fb27-4ff1600025ef"
   },
   "outputs": [
    {
     "data": {
      "text/plain": [
       "{'criterion': 'absolute_error',\n",
       " 'max_depth': 10,\n",
       " 'max_features': 'log2',\n",
       " 'min_samples_leaf': 1,\n",
       " 'n_estimators': 120}"
      ]
     },
     "execution_count": 49,
     "metadata": {},
     "output_type": "execute_result"
    }
   ],
   "source": [
    "#Definimos los mejores parámetros para Standar Scaler\n",
    "rf_search_standar_scaler.best_params_"
   ]
  },
  {
   "cell_type": "code",
   "execution_count": 50,
   "metadata": {
    "id": "ulSUH4Ek32ju",
    "outputId": "2907f7f3-eb80-430a-d462-4510b0e93015"
   },
   "outputs": [
    {
     "data": {
      "text/plain": [
       "-0.06837880137212217"
      ]
     },
     "execution_count": 50,
     "metadata": {},
     "output_type": "execute_result"
    }
   ],
   "source": [
    "#Definimos el mejor score para MinMax\n",
    "rf_search_min_max.best_score_"
   ]
  },
  {
   "cell_type": "code",
   "execution_count": 51,
   "metadata": {
    "id": "HiNYk6mC3APg",
    "outputId": "2907f7f3-eb80-430a-d462-4510b0e93015"
   },
   "outputs": [
    {
     "data": {
      "text/plain": [
       "-0.33692849364325295"
      ]
     },
     "execution_count": 51,
     "metadata": {},
     "output_type": "execute_result"
    }
   ],
   "source": [
    "#Definimos el mejor score para Standar Scaler\n",
    "rf_search_standar_scaler.best_score_"
   ]
  },
  {
   "cell_type": "markdown",
   "metadata": {
    "id": "lZj25KJn4sKz"
   },
   "source": [
    "### Interpretando la métrica MAE\n",
    "\n",
    "El error absoluto medio (MAE) es una métrica de evaluación que mide la diferencia promedio entre las predicciones y los valores reales.\n",
    "\n",
    "En el caso de GridSearchCV, la métrica MAE se multiplica por -1 para convertirla en una métrica de maximización. Esto significa que un valor negativo más alto indica un mejor rendimiento del modelo.\n",
    "\n",
    "Por lo tanto, un valor de -0.06 indica que el error absoluto medio del modelo con los mejores hiperparámetros es de aproximadamente 0.06. Es decir, en promedio, las predicciones del modelo están a una distancia de aproximadamente 0.06 unidades del valor real.\n"
   ]
  },
  {
   "cell_type": "code",
   "execution_count": 52,
   "metadata": {
    "id": "ydpCyfwi32jw",
    "outputId": "d4ce8601-d26d-4c68-e69a-1247bc10620d"
   },
   "outputs": [
    {
     "data": {
      "text/html": [
       "<style>#sk-container-id-9 {color: black;}#sk-container-id-9 pre{padding: 0;}#sk-container-id-9 div.sk-toggleable {background-color: white;}#sk-container-id-9 label.sk-toggleable__label {cursor: pointer;display: block;width: 100%;margin-bottom: 0;padding: 0.3em;box-sizing: border-box;text-align: center;}#sk-container-id-9 label.sk-toggleable__label-arrow:before {content: \"▸\";float: left;margin-right: 0.25em;color: #696969;}#sk-container-id-9 label.sk-toggleable__label-arrow:hover:before {color: black;}#sk-container-id-9 div.sk-estimator:hover label.sk-toggleable__label-arrow:before {color: black;}#sk-container-id-9 div.sk-toggleable__content {max-height: 0;max-width: 0;overflow: hidden;text-align: left;background-color: #f0f8ff;}#sk-container-id-9 div.sk-toggleable__content pre {margin: 0.2em;color: black;border-radius: 0.25em;background-color: #f0f8ff;}#sk-container-id-9 input.sk-toggleable__control:checked~div.sk-toggleable__content {max-height: 200px;max-width: 100%;overflow: auto;}#sk-container-id-9 input.sk-toggleable__control:checked~label.sk-toggleable__label-arrow:before {content: \"▾\";}#sk-container-id-9 div.sk-estimator input.sk-toggleable__control:checked~label.sk-toggleable__label {background-color: #d4ebff;}#sk-container-id-9 div.sk-label input.sk-toggleable__control:checked~label.sk-toggleable__label {background-color: #d4ebff;}#sk-container-id-9 input.sk-hidden--visually {border: 0;clip: rect(1px 1px 1px 1px);clip: rect(1px, 1px, 1px, 1px);height: 1px;margin: -1px;overflow: hidden;padding: 0;position: absolute;width: 1px;}#sk-container-id-9 div.sk-estimator {font-family: monospace;background-color: #f0f8ff;border: 1px dotted black;border-radius: 0.25em;box-sizing: border-box;margin-bottom: 0.5em;}#sk-container-id-9 div.sk-estimator:hover {background-color: #d4ebff;}#sk-container-id-9 div.sk-parallel-item::after {content: \"\";width: 100%;border-bottom: 1px solid gray;flex-grow: 1;}#sk-container-id-9 div.sk-label:hover label.sk-toggleable__label {background-color: #d4ebff;}#sk-container-id-9 div.sk-serial::before {content: \"\";position: absolute;border-left: 1px solid gray;box-sizing: border-box;top: 0;bottom: 0;left: 50%;z-index: 0;}#sk-container-id-9 div.sk-serial {display: flex;flex-direction: column;align-items: center;background-color: white;padding-right: 0.2em;padding-left: 0.2em;position: relative;}#sk-container-id-9 div.sk-item {position: relative;z-index: 1;}#sk-container-id-9 div.sk-parallel {display: flex;align-items: stretch;justify-content: center;background-color: white;position: relative;}#sk-container-id-9 div.sk-item::before, #sk-container-id-9 div.sk-parallel-item::before {content: \"\";position: absolute;border-left: 1px solid gray;box-sizing: border-box;top: 0;bottom: 0;left: 50%;z-index: -1;}#sk-container-id-9 div.sk-parallel-item {display: flex;flex-direction: column;z-index: 1;position: relative;background-color: white;}#sk-container-id-9 div.sk-parallel-item:first-child::after {align-self: flex-end;width: 50%;}#sk-container-id-9 div.sk-parallel-item:last-child::after {align-self: flex-start;width: 50%;}#sk-container-id-9 div.sk-parallel-item:only-child::after {width: 0;}#sk-container-id-9 div.sk-dashed-wrapped {border: 1px dashed gray;margin: 0 0.4em 0.5em 0.4em;box-sizing: border-box;padding-bottom: 0.4em;background-color: white;}#sk-container-id-9 div.sk-label label {font-family: monospace;font-weight: bold;display: inline-block;line-height: 1.2em;}#sk-container-id-9 div.sk-label-container {text-align: center;}#sk-container-id-9 div.sk-container {/* jupyter's `normalize.less` sets `[hidden] { display: none; }` but bootstrap.min.css set `[hidden] { display: none !important; }` so we also need the `!important` here to be able to override the default hidden behavior on the sphinx rendered scikit-learn.org. See: https://github.com/scikit-learn/scikit-learn/issues/21755 */display: inline-block !important;position: relative;}#sk-container-id-9 div.sk-text-repr-fallback {display: none;}</style><div id=\"sk-container-id-9\" class=\"sk-top-container\"><div class=\"sk-text-repr-fallback\"><pre>RandomForestRegressor(criterion=&#x27;absolute_error&#x27;, max_depth=10,\n",
       "                      max_features=&#x27;log2&#x27;, random_state=42)</pre><b>In a Jupyter environment, please rerun this cell to show the HTML representation or trust the notebook. <br />On GitHub, the HTML representation is unable to render, please try loading this page with nbviewer.org.</b></div><div class=\"sk-container\" hidden><div class=\"sk-item\"><div class=\"sk-estimator sk-toggleable\"><input class=\"sk-toggleable__control sk-hidden--visually\" id=\"sk-estimator-id-17\" type=\"checkbox\" checked><label for=\"sk-estimator-id-17\" class=\"sk-toggleable__label sk-toggleable__label-arrow\">RandomForestRegressor</label><div class=\"sk-toggleable__content\"><pre>RandomForestRegressor(criterion=&#x27;absolute_error&#x27;, max_depth=10,\n",
       "                      max_features=&#x27;log2&#x27;, random_state=42)</pre></div></div></div></div></div>"
      ],
      "text/plain": [
       "RandomForestRegressor(criterion='absolute_error', max_depth=10,\n",
       "                      max_features='log2', random_state=42)"
      ]
     },
     "execution_count": 52,
     "metadata": {},
     "output_type": "execute_result"
    }
   ],
   "source": [
    "# Entrenamos el modelo MinMax\n",
    "rf_best_min_max.fit(x_min_max_scaler_train, y_min_max_scaler_train)"
   ]
  },
  {
   "cell_type": "code",
   "execution_count": 53,
   "metadata": {
    "id": "OaC8M0bG3APi",
    "outputId": "d4ce8601-d26d-4c68-e69a-1247bc10620d"
   },
   "outputs": [
    {
     "data": {
      "text/html": [
       "<style>#sk-container-id-10 {color: black;}#sk-container-id-10 pre{padding: 0;}#sk-container-id-10 div.sk-toggleable {background-color: white;}#sk-container-id-10 label.sk-toggleable__label {cursor: pointer;display: block;width: 100%;margin-bottom: 0;padding: 0.3em;box-sizing: border-box;text-align: center;}#sk-container-id-10 label.sk-toggleable__label-arrow:before {content: \"▸\";float: left;margin-right: 0.25em;color: #696969;}#sk-container-id-10 label.sk-toggleable__label-arrow:hover:before {color: black;}#sk-container-id-10 div.sk-estimator:hover label.sk-toggleable__label-arrow:before {color: black;}#sk-container-id-10 div.sk-toggleable__content {max-height: 0;max-width: 0;overflow: hidden;text-align: left;background-color: #f0f8ff;}#sk-container-id-10 div.sk-toggleable__content pre {margin: 0.2em;color: black;border-radius: 0.25em;background-color: #f0f8ff;}#sk-container-id-10 input.sk-toggleable__control:checked~div.sk-toggleable__content {max-height: 200px;max-width: 100%;overflow: auto;}#sk-container-id-10 input.sk-toggleable__control:checked~label.sk-toggleable__label-arrow:before {content: \"▾\";}#sk-container-id-10 div.sk-estimator input.sk-toggleable__control:checked~label.sk-toggleable__label {background-color: #d4ebff;}#sk-container-id-10 div.sk-label input.sk-toggleable__control:checked~label.sk-toggleable__label {background-color: #d4ebff;}#sk-container-id-10 input.sk-hidden--visually {border: 0;clip: rect(1px 1px 1px 1px);clip: rect(1px, 1px, 1px, 1px);height: 1px;margin: -1px;overflow: hidden;padding: 0;position: absolute;width: 1px;}#sk-container-id-10 div.sk-estimator {font-family: monospace;background-color: #f0f8ff;border: 1px dotted black;border-radius: 0.25em;box-sizing: border-box;margin-bottom: 0.5em;}#sk-container-id-10 div.sk-estimator:hover {background-color: #d4ebff;}#sk-container-id-10 div.sk-parallel-item::after {content: \"\";width: 100%;border-bottom: 1px solid gray;flex-grow: 1;}#sk-container-id-10 div.sk-label:hover label.sk-toggleable__label {background-color: #d4ebff;}#sk-container-id-10 div.sk-serial::before {content: \"\";position: absolute;border-left: 1px solid gray;box-sizing: border-box;top: 0;bottom: 0;left: 50%;z-index: 0;}#sk-container-id-10 div.sk-serial {display: flex;flex-direction: column;align-items: center;background-color: white;padding-right: 0.2em;padding-left: 0.2em;position: relative;}#sk-container-id-10 div.sk-item {position: relative;z-index: 1;}#sk-container-id-10 div.sk-parallel {display: flex;align-items: stretch;justify-content: center;background-color: white;position: relative;}#sk-container-id-10 div.sk-item::before, #sk-container-id-10 div.sk-parallel-item::before {content: \"\";position: absolute;border-left: 1px solid gray;box-sizing: border-box;top: 0;bottom: 0;left: 50%;z-index: -1;}#sk-container-id-10 div.sk-parallel-item {display: flex;flex-direction: column;z-index: 1;position: relative;background-color: white;}#sk-container-id-10 div.sk-parallel-item:first-child::after {align-self: flex-end;width: 50%;}#sk-container-id-10 div.sk-parallel-item:last-child::after {align-self: flex-start;width: 50%;}#sk-container-id-10 div.sk-parallel-item:only-child::after {width: 0;}#sk-container-id-10 div.sk-dashed-wrapped {border: 1px dashed gray;margin: 0 0.4em 0.5em 0.4em;box-sizing: border-box;padding-bottom: 0.4em;background-color: white;}#sk-container-id-10 div.sk-label label {font-family: monospace;font-weight: bold;display: inline-block;line-height: 1.2em;}#sk-container-id-10 div.sk-label-container {text-align: center;}#sk-container-id-10 div.sk-container {/* jupyter's `normalize.less` sets `[hidden] { display: none; }` but bootstrap.min.css set `[hidden] { display: none !important; }` so we also need the `!important` here to be able to override the default hidden behavior on the sphinx rendered scikit-learn.org. See: https://github.com/scikit-learn/scikit-learn/issues/21755 */display: inline-block !important;position: relative;}#sk-container-id-10 div.sk-text-repr-fallback {display: none;}</style><div id=\"sk-container-id-10\" class=\"sk-top-container\"><div class=\"sk-text-repr-fallback\"><pre>RandomForestRegressor(criterion=&#x27;absolute_error&#x27;, max_depth=10,\n",
       "                      max_features=&#x27;log2&#x27;, n_estimators=120, random_state=42)</pre><b>In a Jupyter environment, please rerun this cell to show the HTML representation or trust the notebook. <br />On GitHub, the HTML representation is unable to render, please try loading this page with nbviewer.org.</b></div><div class=\"sk-container\" hidden><div class=\"sk-item\"><div class=\"sk-estimator sk-toggleable\"><input class=\"sk-toggleable__control sk-hidden--visually\" id=\"sk-estimator-id-18\" type=\"checkbox\" checked><label for=\"sk-estimator-id-18\" class=\"sk-toggleable__label sk-toggleable__label-arrow\">RandomForestRegressor</label><div class=\"sk-toggleable__content\"><pre>RandomForestRegressor(criterion=&#x27;absolute_error&#x27;, max_depth=10,\n",
       "                      max_features=&#x27;log2&#x27;, n_estimators=120, random_state=42)</pre></div></div></div></div></div>"
      ],
      "text/plain": [
       "RandomForestRegressor(criterion='absolute_error', max_depth=10,\n",
       "                      max_features='log2', n_estimators=120, random_state=42)"
      ]
     },
     "execution_count": 53,
     "metadata": {},
     "output_type": "execute_result"
    }
   ],
   "source": [
    "# Entrenamos el modelo Standar Scaler\n",
    "rf_best_standar_scaler.fit(x_standar_scaler_train, y_standar_scaler_train)"
   ]
  },
  {
   "cell_type": "code",
   "execution_count": 54,
   "metadata": {
    "id": "_0kkHuN332jx"
   },
   "outputs": [],
   "source": [
    "# Hacemos la prediccion para el test de evaluación MinMax\n",
    "predicciones_min_max = rf_best_min_max.predict(x_min_max_scaler_test)"
   ]
  },
  {
   "cell_type": "code",
   "execution_count": 55,
   "metadata": {
    "id": "74gbkQYN3APi"
   },
   "outputs": [],
   "source": [
    "# Hacemos la prediccion para el test de evaluación Standar Scaler\n",
    "predicciones_standar_scaler = rf_best_standar_scaler.predict(x_standar_scaler_test)"
   ]
  },
  {
   "cell_type": "code",
   "execution_count": 56,
   "metadata": {
    "id": "oUU6vcSoaqKY",
    "outputId": "18b725f2-3a46-4903-f736-6807a104fe7a"
   },
   "outputs": [
    {
     "name": "stdout",
     "output_type": "stream",
     "text": [
      "MSE MinMax: 0.018112090339579816\n",
      "MSE StandardScaler: 0.44185442494085553\n",
      "MAE MinMax: 0.06755407593670187\n",
      "MAE StandardScaler: 0.33494163155468293\n",
      "R2 MinMax: 0.4713624770812356\n",
      "R2 StandardScaler: 0.4683095739932257\n"
     ]
    }
   ],
   "source": [
    "#Calculamos el mse, r2 y mae  para ambos casos\n",
    "mse_min_max = mean_squared_error(y_min_max_scaler_test, predicciones_min_max)\n",
    "mse_standar = mean_squared_error(y_standar_scaler_test, predicciones_standar_scaler)\n",
    "mae_min_max= mean_absolute_error(y_min_max_scaler_test,predicciones_min_max)\n",
    "mae_standar=mean_absolute_error(y_standar_scaler_test,predicciones_standar_scaler)\n",
    "r2_min_max = r2_score(y_min_max_scaler_test,predicciones_min_max)\n",
    "r2_standar = r2_score(y_standar_scaler_test,predicciones_standar_scaler)\n",
    "\n",
    "print(f\"MSE MinMax: {mse_min_max}\")\n",
    "print(f\"MSE StandardScaler: {mse_standar}\")\n",
    "print(f\"MAE MinMax: {mae_min_max}\")\n",
    "print(f\"MAE StandardScaler: {mae_standar}\")\n",
    "print(f\"R2 MinMax: {r2_min_max}\")\n",
    "print(f\"R2 StandardScaler: {r2_standar}\")"
   ]
  },
  {
   "cell_type": "markdown",
   "metadata": {
    "id": "UiwFe62V41Qh"
   },
   "source": [
    "### Correlacion\n",
    "\n",
    "Para evaluar la correlación entre los valores reales y las predicciones, podemos crear un gráfico de dispersión real-predicción. En este caso evaluamos tanto para el método de Min-Max y Standar Scale. \n",
    "\n",
    "Un gráfico de dispersión real-predicción muestra los valores reales en el eje y y las predicciones en el eje x.\n"
   ]
  },
  {
   "cell_type": "code",
   "execution_count": 57,
   "metadata": {
    "id": "Qw1u_pnI32jy",
    "outputId": "1a7fc173-561a-4e15-cada-1afbbc86ccad",
    "scrolled": false
   },
   "outputs": [
    {
     "data": {
      "image/png": "[encoded data removed]",
      "text/plain": [
       "<Figure size 1000x400 with 2 Axes>"
      ]
     },
     "metadata": {},
     "output_type": "display_data"
    }
   ],
   "source": [
    "fig, axs = plt.subplots(1, 2, figsize=(10, 4))\n",
    "graph_real_pred(y_min_max_scaler_test, predicciones_min_max, color='#E67E22',title=\"Predicciones Min Max\", ax=axs[0])\n",
    "graph_real_pred(y_standar_scaler_test, predicciones_standar_scaler, color='green',title=\"Predicciones Standar Scale\", ax=axs[1])"
   ]
  },
  {
   "cell_type": "code",
   "execution_count": 58,
   "metadata": {
    "id": "ccwFPLXS32jj"
   },
   "outputs": [],
   "source": [
    "# Definimos la funcion que compara graficamente la importancia de las features\n",
    "def feature_importance(model, feature_list, title, ax=None):\n",
    "    \"\"\"\n",
    "    Function that gets and plots the feature importance\n",
    "    for the given model\n",
    "    :param model: the model to evaluaate\n",
    "    :param feature_list: a list of features contained in the model\n",
    "\n",
    "    :returns a plot with feature importance\n",
    "    \"\"\"\n",
    "    if ax is None: \n",
    "        ax=plt.gca()\n",
    "    \n",
    "    # Obtiene la lista de importancias\n",
    "    importances = list(model.feature_importances_)\n",
    "    # Junta los nombres de los atributos y las importancias\n",
    "    feature_importances = [(feature, round(importance, 2)) for feature, importance in zip(feature_list, importances)]\n",
    "    # Ordena por orden de importancia\n",
    "    feature_importances = sorted(feature_importances, key = lambda x: x[1], reverse = True)\n",
    "    # Print la lista de importancias\n",
    "    #[print('Variable: {} Importance: {}'.format(*pair)) for pair in feature_importances];\n",
    "    # Colores\n",
    "    colors = cm.rainbow(np.linspace(0, 1, len(feature_list)))\n",
    "\n",
    "    # Caracteristicas en orden de importancia\n",
    "    characteristics = [x[0] for x in feature_importances]\n",
    "    # Obtiene las importancias\n",
    "    importances_plot = [x[1] for x in feature_importances]\n",
    "    # Grafica un bar plot\n",
    "    ax.bar(characteristics, importances_plot, color=colors)\n",
    "    # Personalizamos el grafico\n",
    "    ax.set_xticks(list(range(len(characteristics))), characteristics, rotation = 90)\n",
    "    ax.spines['top'].set_visible(False)\n",
    "    ax.spines['bottom'].set_visible(False)\n",
    "    ax.spines['left'].set_visible(False)\n",
    "    ax.spines['right'].set_visible(False)\n",
    "    ax.set_title(title, size=14) \n",
    "    #ax.subplots_adjust(bottom=0.3);"
   ]
  },
  {
   "cell_type": "markdown",
   "metadata": {
    "id": "dNcdf0Gh5Cca"
   },
   "source": [
    "### Importancia de las features\n",
    "\n",
    "Podemos obtener la importancia de cada feature utilizando la función `feature_importance()`. Esta función toma como entrada el modelo y las columnas de las features.\n",
    "\n",
    "En este caso, el modelo es `rf_best`, que es el modelo de Random Forest con los mejores hiperparámetros. Las columnas de los features son las columnas del DataFrame `er_limpio_solar`.\n",
    "\n",
    "La salida de la función `feature_importance()` es un vector que contiene la importancia de cada feature. El valor más alto indica la feature más importante.\n",
    "\n",
    "En particular en este análisis ya sea que se utilice el escalamiento Min-Max o StandardScaler los pesos son los mismos. "
   ]
  },
  {
   "cell_type": "code",
   "execution_count": 59,
   "metadata": {
    "id": "8TQTWb9F3APl",
    "outputId": "1e36f1a1-0930-4471-b039-e97472dab81a"
   },
   "outputs": [
    {
     "data": {
      "image/png": "[encoded data removed]",
      "text/plain": [
       "<Figure size 1000x400 with 2 Axes>"
      ]
     },
     "metadata": {},
     "output_type": "display_data"
    }
   ],
   "source": [
    "fig, axs=plt.subplots(1,2,figsize=(10,4))\n",
    "columnas = ['prov', 'mes', 'region', 'anio']\n",
    "feature_importance(rf_best_min_max, er_limpio_solar[columnas].columns,title='Importancia features Min-Max' , ax=axs[0])\n",
    "# Buscamos la importancia de cada feature para Standar Scaler\n",
    "feature_importance(rf_best_standar_scaler, er_limpio_solar[columnas].columns,title='Importancia features Standar Scale',  ax=axs[1])"
   ]
  },
  {
   "cell_type": "markdown",
   "metadata": {
    "id": "p0c9Do5P5Kel"
   },
   "source": [
    "### Análisis de residuos\n",
    "\n",
    "Para analizar los residuos, podemos calcularlos y crear un gráfico de dispersión de residuos.\n",
    "\n",
    "Los residuos son la diferencia entre los valores reales y los valores predichos por el modelo.\n",
    "\n",
    "Un gráfico de dispersión de residuos muestra los residuos en el eje y y los valores predichos en el eje x.\n",
    "\n",
    "Una línea recta que pase por el origen (0, 0) indica que los residuos son aleatorios."
   ]
  },
  {
   "cell_type": "code",
   "execution_count": 60,
   "metadata": {
    "colab": {
     "base_uri": "https://localhost:8080/",
     "height": 254
    },
    "executionInfo": {
     "elapsed": 309,
     "status": "error",
     "timestamp": 1701023379509,
     "user": {
      "displayName": "Julia Panei",
      "userId": "13714276047079325057"
     },
     "user_tz": 180
    },
    "id": "GhSOZTuI5Lij",
    "outputId": "707c3d85-b2df-48cc-c58e-847d58297431"
   },
   "outputs": [
    {
     "data": {
      "image/png": "[encoded data removed]",
      "text/plain": [
       "<Figure size 1200x400 with 2 Axes>"
      ]
     },
     "metadata": {},
     "output_type": "display_data"
    }
   ],
   "source": [
    "# Calcula los residuos para el caso de MinMax y StandarScaler. \n",
    "residuos_minmax = y_min_max_scaler_test- predicciones_min_max\n",
    "residuos_standar=y_standar_scaler_test-predicciones_standar_scaler\n",
    "\n",
    "fig, axs=plt.subplots(1,2, figsize=(12,4))\n",
    "# Crea un gráfico de dispersión de residuos\n",
    "axs[0].scatter(predicciones_min_max, residuos_minmax)\n",
    "axs[0].axhline(y=0, color='black', linestyle='--', linewidth=2)  # Línea base en 0\n",
    "axs[0].set_title('Gráfico de Residuos, MinMax')\n",
    "axs[0].set_xlabel('Valores Predichos')\n",
    "axs[0].set_ylabel('Residuos')\n",
    "\n",
    "# Crea un gráfico de dispersión de residuos\n",
    "axs[1].scatter(predicciones_standar_scaler, residuos_standar)\n",
    "axs[1].axhline(y=0, color='black', linestyle='--', linewidth=2)  # Línea base en 0\n",
    "axs[1].set_title('Gráfico de Residuos, StandardScale')\n",
    "axs[1].set_xlabel('Valores Predichos')\n",
    "axs[1].set_ylabel('Residuos')\n",
    "plt.show()\n"
   ]
  },
  {
   "cell_type": "markdown",
   "metadata": {
    "id": "B5tEIZkI5QBk"
   },
   "source": [
    "### Gráfico Q-Q de residuos\n",
    "\n",
    "Para evaluar la normalidad de los residuos, podemos utilizar un gráfico Q-Q.\n",
    "\n",
    "Un gráfico Q-Q muestra los cuantiles de los residuos en el eje y y los cuantiles teóricos de una distribución normal en el eje x.\n",
    "\n",
    "Si los residuos siguen una distribución normal, los puntos del gráfico Q-Q deberían seguir una línea recta."
   ]
  },
  {
   "cell_type": "code",
   "execution_count": 61,
   "metadata": {
    "id": "K3xEtoih5TSS"
   },
   "outputs": [
    {
     "data": {
      "image/png": "[encoded data removed]",
      "text/plain": [
       "<Figure size 640x480 with 1 Axes>"
      ]
     },
     "metadata": {},
     "output_type": "display_data"
    }
   ],
   "source": [
    "import scipy.stats as stats\n",
    "# Calcula los cuantiles teóricos para una distribución normal\n",
    "cuantiles_teoricos = stats.probplot(residuos_minmax, dist='norm', plot=plt)\n",
    "\n",
    "# Personaliza el gráfico\n",
    "plt.title('Gráfico Q-Q Normal de Residuos')\n",
    "plt.xlabel('Cuantiles teóricos')\n",
    "plt.ylabel('Cuantiles de los residuos')\n",
    "plt.show()"
   ]
  },
  {
   "cell_type": "markdown",
   "metadata": {},
   "source": [
    "## Conclusiones\n",
    "\n",
    "Cómo pudimos observar desde el inicio de este desarrollo, la regresión de random forest presentaba mejores resultados de las diferentes métricas: MAE, MSE y R2. Es por eso que con el método de GridSearch buscamos los mejores parámetros para optimizar las métricas y obtener un buen modelo sobre la energía solar generada. \n",
    "\n",
    "Probamos dos métodos de escalado del dato, MinMax y StandardScalar y dados a los resultados brindados cuando la variable numérica se escala con el primer método, las métricas arrojan mejores valores, por lo que el modelo de regresión con Random Forest, con los parámetros **criterion='absolute_error', max_depth=10, max_features='log2', random_state=42** y el escalado de MinMax  es nuestro modelo elegido. Este presenta los siguientes métricas: \n",
    "\n",
    "- MSE MinMax: 0.018112090339579816\n",
    "- MAE MinMax: 0.06755407593670187\n",
    "- R2 MinMax: 0.4713624770812356\n"
   ]
  }
 ],
 "metadata": {
  "colab": {
   "provenance": []
  },
  "kernelspec": {
   "display_name": "Python 3 (ipykernel)",
   "language": "python",
   "name": "python3"
  },
  "language_info": {
   "codemirror_mode": {
    "name": "ipython",
    "version": 3
   },
   "file_extension": ".py",
   "mimetype": "text/x-python",
   "name": "python",
   "nbconvert_exporter": "python",
   "pygments_lexer": "ipython3",
   "version": "3.11.4"
  }
 },
 "nbformat": 4,
 "nbformat_minor": 1
}
