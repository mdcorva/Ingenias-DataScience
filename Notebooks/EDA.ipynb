{
 "cells": [
  {
   "cell_type": "markdown",
   "id": "d7bad9ca",
   "metadata": {
    "id": "d7bad9ca"
   },
   "source": [
    "# **Data Science Fundación YPF + Ingenias**"
   ]
  },
  {
   "cell_type": "markdown",
   "id": "f8423fc1",
   "metadata": {
    "id": "f8423fc1"
   },
   "source": [
    "# Energías Renovables en Argentina y su contribución al sistema eléctrico de todo el país.\n"
   ]
  },
  {
   "cell_type": "markdown",
   "id": "KdkNzAZnN6_I",
   "metadata": {
    "id": "KdkNzAZnN6_I"
   },
   "source": [
    "## **Objetivo del proyecto:**\n",
    "### “Predecir la contribución de las fuentes de energías renovables a la satisfacción de la demanda eléctrica del país.”"
   ]
  },
  {
   "cell_type": "markdown",
   "id": "f70475c9",
   "metadata": {
    "id": "f70475c9"
   },
   "source": [
    "## **Origen del Dataset**:\n",
    "El conjunto de datos utilizado se obtuvo de la página web de [CAMMESA](https://www.cammesa.com.ar/), la compañía argentina encargada de operar el mercado eléctrico mayorista. Éste incluye información sobre la energía generada por fuentes renovables en Argentina, así como su contribución al sistema eléctrico. También contiene datos sobre la demanda histórica de energía eléctrica en el país, desde 2011 hasta 2023.\n",
    "La importancia de la producción de este tipo de energías está dada por las ventajas climáticas, ambientales y de salud humana que representan respecto a otras fuentes de energía tradicionales.\n",
    "\n",
    "#### La base de datos abarca de forma mensual, desde enero de 2011 hasta junio de 2023, conteniendo los siguientes campos con una cantidad total de 15999 registros:\n",
    "\n",
    "a) Central / máquina por región del país\n",
    "\n",
    "b) Tipo de fuente de energía renovable (Hidro < 50 MW; Eólico, Solar, Biomasa, Biodiesel)\n",
    "\n",
    "c)Provincia\n",
    "\n",
    "d) Mes/Año\n",
    "\n",
    "e) Energía Generada (GWh)"
   ]
  },
  {
   "cell_type": "markdown",
   "id": "OSKnG7XAOd5y",
   "metadata": {
    "id": "OSKnG7XAOd5y"
   },
   "source": [
    "# Análisis Exploratorio de los datos"
   ]
  },
  {
   "cell_type": "markdown",
   "id": "fbd880c4",
   "metadata": {
    "id": "fbd880c4"
   },
   "source": [
    "## 1. Instalar e importar los paquetes que vamos a necesitar para explorar y modificar los datos"
   ]
  },
  {
   "cell_type": "code",
   "execution_count": 1,
   "id": "UMJq3kqppNKT",
   "metadata": {
    "colab": {
     "base_uri": "https://localhost:8080/"
    },
    "executionInfo": {
     "elapsed": 24495,
     "status": "ok",
     "timestamp": 1699998872366,
     "user": {
      "displayName": "Julia Panei",
      "userId": "13714276047079325057"
     },
     "user_tz": 180
    },
    "id": "UMJq3kqppNKT",
    "outputId": "20152f3b-b1bf-4121-d807-89649009bb99"
   },
   "outputs": [
    {
     "name": "stdout",
     "output_type": "stream",
     "text": [
      "Requirement already satisfied: fuzzywuzzy in c:\\users\\hp\\anaconda3\\envs\\ingenias\\lib\\site-packages (0.18.0)\n",
      "Requirement already satisfied: geopandas in c:\\users\\hp\\anaconda3\\envs\\ingenias\\lib\\site-packages (0.13.2)\n",
      "Requirement already satisfied: fiona>=1.8.19 in c:\\users\\hp\\anaconda3\\envs\\ingenias\\lib\\site-packages (from geopandas) (1.9.4.post1)\n",
      "Requirement already satisfied: packaging in c:\\users\\hp\\anaconda3\\envs\\ingenias\\lib\\site-packages (from geopandas) (23.0)\n",
      "Requirement already satisfied: pandas>=1.1.0 in c:\\users\\hp\\anaconda3\\envs\\ingenias\\lib\\site-packages (from geopandas) (2.0.3)\n",
      "Requirement already satisfied: pyproj>=3.0.1 in c:\\users\\hp\\anaconda3\\envs\\ingenias\\lib\\site-packages (from geopandas) (3.6.0)\n",
      "Requirement already satisfied: shapely>=1.7.1 in c:\\users\\hp\\anaconda3\\envs\\ingenias\\lib\\site-packages (from geopandas) (2.0.1)\n",
      "Requirement already satisfied: attrs>=19.2.0 in c:\\users\\hp\\anaconda3\\envs\\ingenias\\lib\\site-packages (from fiona>=1.8.19->geopandas) (22.1.0)\n",
      "Requirement already satisfied: certifi in c:\\users\\hp\\anaconda3\\envs\\ingenias\\lib\\site-packages (from fiona>=1.8.19->geopandas) (2023.7.22)\n",
      "Requirement already satisfied: click~=8.0 in c:\\users\\hp\\anaconda3\\envs\\ingenias\\lib\\site-packages (from fiona>=1.8.19->geopandas) (8.1.6)\n",
      "Requirement already satisfied: click-plugins>=1.0 in c:\\users\\hp\\anaconda3\\envs\\ingenias\\lib\\site-packages (from fiona>=1.8.19->geopandas) (1.1.1)\n",
      "Requirement already satisfied: cligj>=0.5 in c:\\users\\hp\\anaconda3\\envs\\ingenias\\lib\\site-packages (from fiona>=1.8.19->geopandas) (0.7.2)\n",
      "Requirement already satisfied: six in c:\\users\\hp\\anaconda3\\envs\\ingenias\\lib\\site-packages (from fiona>=1.8.19->geopandas) (1.16.0)\n",
      "Requirement already satisfied: python-dateutil>=2.8.2 in c:\\users\\hp\\anaconda3\\envs\\ingenias\\lib\\site-packages (from pandas>=1.1.0->geopandas) (2.8.2)\n",
      "Requirement already satisfied: pytz>=2020.1 in c:\\users\\hp\\anaconda3\\envs\\ingenias\\lib\\site-packages (from pandas>=1.1.0->geopandas) (2022.7)\n",
      "Requirement already satisfied: tzdata>=2022.1 in c:\\users\\hp\\anaconda3\\envs\\ingenias\\lib\\site-packages (from pandas>=1.1.0->geopandas) (2023.3)\n",
      "Requirement already satisfied: numpy>=1.21.0 in c:\\users\\hp\\anaconda3\\envs\\ingenias\\lib\\site-packages (from pandas>=1.1.0->geopandas) (1.25.2)\n",
      "Requirement already satisfied: colorama in c:\\users\\hp\\anaconda3\\envs\\ingenias\\lib\\site-packages (from click~=8.0->fiona>=1.8.19->geopandas) (0.4.6)\n",
      "Requirement already satisfied: contextily in c:\\users\\hp\\anaconda3\\envs\\ingenias\\lib\\site-packages (1.3.0)\n",
      "Requirement already satisfied: geopy in c:\\users\\hp\\anaconda3\\envs\\ingenias\\lib\\site-packages (from contextily) (2.3.0)\n",
      "Requirement already satisfied: matplotlib in c:\\users\\hp\\anaconda3\\envs\\ingenias\\lib\\site-packages (from contextily) (3.7.2)\n",
      "Requirement already satisfied: mercantile in c:\\users\\hp\\anaconda3\\envs\\ingenias\\lib\\site-packages (from contextily) (1.2.1)\n",
      "Requirement already satisfied: pillow in c:\\users\\hp\\anaconda3\\envs\\ingenias\\lib\\site-packages (from contextily) (10.0.0)\n",
      "Requirement already satisfied: rasterio in c:\\users\\hp\\anaconda3\\envs\\ingenias\\lib\\site-packages (from contextily) (1.3.8)\n",
      "Requirement already satisfied: requests in c:\\users\\hp\\anaconda3\\envs\\ingenias\\lib\\site-packages (from contextily) (2.31.0)\n",
      "Requirement already satisfied: joblib in c:\\users\\hp\\anaconda3\\envs\\ingenias\\lib\\site-packages (from contextily) (1.3.2)\n",
      "Requirement already satisfied: xyzservices in c:\\users\\hp\\anaconda3\\envs\\ingenias\\lib\\site-packages (from contextily) (2023.7.0)\n",
      "Requirement already satisfied: geographiclib<3,>=1.52 in c:\\users\\hp\\anaconda3\\envs\\ingenias\\lib\\site-packages (from geopy->contextily) (2.0)\n",
      "Requirement already satisfied: contourpy>=1.0.1 in c:\\users\\hp\\anaconda3\\envs\\ingenias\\lib\\site-packages (from matplotlib->contextily) (1.1.0)\n",
      "Requirement already satisfied: cycler>=0.10 in c:\\users\\hp\\anaconda3\\envs\\ingenias\\lib\\site-packages (from matplotlib->contextily) (0.11.0)\n",
      "Requirement already satisfied: fonttools>=4.22.0 in c:\\users\\hp\\anaconda3\\envs\\ingenias\\lib\\site-packages (from matplotlib->contextily) (4.42.0)\n",
      "Requirement already satisfied: kiwisolver>=1.0.1 in c:\\users\\hp\\anaconda3\\envs\\ingenias\\lib\\site-packages (from matplotlib->contextily) (1.4.4)\n",
      "Requirement already satisfied: numpy>=1.20 in c:\\users\\hp\\anaconda3\\envs\\ingenias\\lib\\site-packages (from matplotlib->contextily) (1.25.2)\n",
      "Requirement already satisfied: packaging>=20.0 in c:\\users\\hp\\anaconda3\\envs\\ingenias\\lib\\site-packages (from matplotlib->contextily) (23.0)\n",
      "Requirement already satisfied: pyparsing<3.1,>=2.3.1 in c:\\users\\hp\\anaconda3\\envs\\ingenias\\lib\\site-packages (from matplotlib->contextily) (3.0.9)\n",
      "Requirement already satisfied: python-dateutil>=2.7 in c:\\users\\hp\\anaconda3\\envs\\ingenias\\lib\\site-packages (from matplotlib->contextily) (2.8.2)\n",
      "Requirement already satisfied: click>=3.0 in c:\\users\\hp\\anaconda3\\envs\\ingenias\\lib\\site-packages (from mercantile->contextily) (8.1.6)\n",
      "Requirement already satisfied: affine in c:\\users\\hp\\anaconda3\\envs\\ingenias\\lib\\site-packages (from rasterio->contextily) (2.4.0)\n",
      "Requirement already satisfied: attrs in c:\\users\\hp\\anaconda3\\envs\\ingenias\\lib\\site-packages (from rasterio->contextily) (22.1.0)\n",
      "Requirement already satisfied: certifi in c:\\users\\hp\\anaconda3\\envs\\ingenias\\lib\\site-packages (from rasterio->contextily) (2023.7.22)\n",
      "Requirement already satisfied: cligj>=0.5 in c:\\users\\hp\\anaconda3\\envs\\ingenias\\lib\\site-packages (from rasterio->contextily) (0.7.2)\n",
      "Requirement already satisfied: snuggs>=1.4.1 in c:\\users\\hp\\anaconda3\\envs\\ingenias\\lib\\site-packages (from rasterio->contextily) (1.4.7)\n",
      "Requirement already satisfied: click-plugins in c:\\users\\hp\\anaconda3\\envs\\ingenias\\lib\\site-packages (from rasterio->contextily) (1.1.1)\n",
      "Requirement already satisfied: setuptools in c:\\users\\hp\\anaconda3\\envs\\ingenias\\lib\\site-packages (from rasterio->contextily) (68.0.0)\n",
      "Requirement already satisfied: charset-normalizer<4,>=2 in c:\\users\\hp\\anaconda3\\envs\\ingenias\\lib\\site-packages (from requests->contextily) (2.0.4)\n",
      "Requirement already satisfied: idna<4,>=2.5 in c:\\users\\hp\\anaconda3\\envs\\ingenias\\lib\\site-packages (from requests->contextily) (3.4)\n",
      "Requirement already satisfied: urllib3<3,>=1.21.1 in c:\\users\\hp\\anaconda3\\envs\\ingenias\\lib\\site-packages (from requests->contextily) (1.26.16)\n",
      "Requirement already satisfied: colorama in c:\\users\\hp\\anaconda3\\envs\\ingenias\\lib\\site-packages (from click>=3.0->mercantile->contextily) (0.4.6)\n",
      "Requirement already satisfied: six>=1.5 in c:\\users\\hp\\anaconda3\\envs\\ingenias\\lib\\site-packages (from python-dateutil>=2.7->matplotlib->contextily) (1.16.0)\n",
      "Requirement already satisfied: seaborn in c:\\users\\hp\\anaconda3\\envs\\ingenias\\lib\\site-packages (0.12.2)\n",
      "Requirement already satisfied: numpy!=1.24.0,>=1.17 in c:\\users\\hp\\anaconda3\\envs\\ingenias\\lib\\site-packages (from seaborn) (1.25.2)\n",
      "Requirement already satisfied: pandas>=0.25 in c:\\users\\hp\\anaconda3\\envs\\ingenias\\lib\\site-packages (from seaborn) (2.0.3)\n",
      "Requirement already satisfied: matplotlib!=3.6.1,>=3.1 in c:\\users\\hp\\anaconda3\\envs\\ingenias\\lib\\site-packages (from seaborn) (3.7.2)\n",
      "Requirement already satisfied: contourpy>=1.0.1 in c:\\users\\hp\\anaconda3\\envs\\ingenias\\lib\\site-packages (from matplotlib!=3.6.1,>=3.1->seaborn) (1.1.0)\n",
      "Requirement already satisfied: cycler>=0.10 in c:\\users\\hp\\anaconda3\\envs\\ingenias\\lib\\site-packages (from matplotlib!=3.6.1,>=3.1->seaborn) (0.11.0)\n",
      "Requirement already satisfied: fonttools>=4.22.0 in c:\\users\\hp\\anaconda3\\envs\\ingenias\\lib\\site-packages (from matplotlib!=3.6.1,>=3.1->seaborn) (4.42.0)\n",
      "Requirement already satisfied: kiwisolver>=1.0.1 in c:\\users\\hp\\anaconda3\\envs\\ingenias\\lib\\site-packages (from matplotlib!=3.6.1,>=3.1->seaborn) (1.4.4)\n",
      "Requirement already satisfied: packaging>=20.0 in c:\\users\\hp\\anaconda3\\envs\\ingenias\\lib\\site-packages (from matplotlib!=3.6.1,>=3.1->seaborn) (23.0)\n",
      "Requirement already satisfied: pillow>=6.2.0 in c:\\users\\hp\\anaconda3\\envs\\ingenias\\lib\\site-packages (from matplotlib!=3.6.1,>=3.1->seaborn) (10.0.0)\n",
      "Requirement already satisfied: pyparsing<3.1,>=2.3.1 in c:\\users\\hp\\anaconda3\\envs\\ingenias\\lib\\site-packages (from matplotlib!=3.6.1,>=3.1->seaborn) (3.0.9)\n",
      "Requirement already satisfied: python-dateutil>=2.7 in c:\\users\\hp\\anaconda3\\envs\\ingenias\\lib\\site-packages (from matplotlib!=3.6.1,>=3.1->seaborn) (2.8.2)\n",
      "Requirement already satisfied: pytz>=2020.1 in c:\\users\\hp\\anaconda3\\envs\\ingenias\\lib\\site-packages (from pandas>=0.25->seaborn) (2022.7)\n",
      "Requirement already satisfied: tzdata>=2022.1 in c:\\users\\hp\\anaconda3\\envs\\ingenias\\lib\\site-packages (from pandas>=0.25->seaborn) (2023.3)\n",
      "Requirement already satisfied: six>=1.5 in c:\\users\\hp\\anaconda3\\envs\\ingenias\\lib\\site-packages (from python-dateutil>=2.7->matplotlib!=3.6.1,>=3.1->seaborn) (1.16.0)\n"
     ]
    },
    {
     "name": "stdout",
     "output_type": "stream",
     "text": [
      "Requirement already satisfied: matplotlib in c:\\users\\hp\\anaconda3\\envs\\ingenias\\lib\\site-packages (3.7.2)\n",
      "Collecting mplcursors\n",
      "  Downloading mplcursors-0.5.2.tar.gz (89 kB)\n",
      "     ---------------------------------------- 0.0/89.0 kB ? eta -:--:--\n",
      "     ---------------------------------------- 89.0/89.0 kB 2.5 MB/s eta 0:00:00\n",
      "  Preparing metadata (setup.py): started\n",
      "  Preparing metadata (setup.py): finished with status 'done'\n",
      "Requirement already satisfied: ipywidgets in c:\\users\\hp\\anaconda3\\envs\\ingenias\\lib\\site-packages (8.0.4)\n",
      "Requirement already satisfied: contourpy>=1.0.1 in c:\\users\\hp\\anaconda3\\envs\\ingenias\\lib\\site-packages (from matplotlib) (1.1.0)\n",
      "Requirement already satisfied: cycler>=0.10 in c:\\users\\hp\\anaconda3\\envs\\ingenias\\lib\\site-packages (from matplotlib) (0.11.0)\n",
      "Requirement already satisfied: fonttools>=4.22.0 in c:\\users\\hp\\anaconda3\\envs\\ingenias\\lib\\site-packages (from matplotlib) (4.42.0)\n",
      "Requirement already satisfied: kiwisolver>=1.0.1 in c:\\users\\hp\\anaconda3\\envs\\ingenias\\lib\\site-packages (from matplotlib) (1.4.4)\n",
      "Requirement already satisfied: numpy>=1.20 in c:\\users\\hp\\anaconda3\\envs\\ingenias\\lib\\site-packages (from matplotlib) (1.25.2)\n",
      "Requirement already satisfied: packaging>=20.0 in c:\\users\\hp\\anaconda3\\envs\\ingenias\\lib\\site-packages (from matplotlib) (23.0)\n",
      "Requirement already satisfied: pillow>=6.2.0 in c:\\users\\hp\\anaconda3\\envs\\ingenias\\lib\\site-packages (from matplotlib) (10.0.0)\n",
      "Requirement already satisfied: pyparsing<3.1,>=2.3.1 in c:\\users\\hp\\anaconda3\\envs\\ingenias\\lib\\site-packages (from matplotlib) (3.0.9)\n",
      "Requirement already satisfied: python-dateutil>=2.7 in c:\\users\\hp\\anaconda3\\envs\\ingenias\\lib\\site-packages (from matplotlib) (2.8.2)\n",
      "Requirement already satisfied: ipykernel>=4.5.1 in c:\\users\\hp\\anaconda3\\envs\\ingenias\\lib\\site-packages (from ipywidgets) (6.25.0)\n",
      "Requirement already satisfied: ipython>=6.1.0 in c:\\users\\hp\\anaconda3\\envs\\ingenias\\lib\\site-packages (from ipywidgets) (8.12.2)\n",
      "Requirement already satisfied: traitlets>=4.3.1 in c:\\users\\hp\\anaconda3\\envs\\ingenias\\lib\\site-packages (from ipywidgets) (5.7.1)\n",
      "Requirement already satisfied: widgetsnbextension~=4.0 in c:\\users\\hp\\anaconda3\\envs\\ingenias\\lib\\site-packages (from ipywidgets) (4.0.5)\n",
      "Requirement already satisfied: jupyterlab-widgets~=3.0 in c:\\users\\hp\\anaconda3\\envs\\ingenias\\lib\\site-packages (from ipywidgets) (3.0.5)\n",
      "Requirement already satisfied: comm>=0.1.1 in c:\\users\\hp\\anaconda3\\envs\\ingenias\\lib\\site-packages (from ipykernel>=4.5.1->ipywidgets) (0.1.2)\n",
      "Requirement already satisfied: debugpy>=1.6.5 in c:\\users\\hp\\anaconda3\\envs\\ingenias\\lib\\site-packages (from ipykernel>=4.5.1->ipywidgets) (1.6.7)\n",
      "Requirement already satisfied: jupyter-client>=6.1.12 in c:\\users\\hp\\anaconda3\\envs\\ingenias\\lib\\site-packages (from ipykernel>=4.5.1->ipywidgets) (7.4.9)\n",
      "Requirement already satisfied: jupyter-core!=5.0.*,>=4.12 in c:\\users\\hp\\anaconda3\\envs\\ingenias\\lib\\site-packages (from ipykernel>=4.5.1->ipywidgets) (5.3.0)\n",
      "Requirement already satisfied: matplotlib-inline>=0.1 in c:\\users\\hp\\anaconda3\\envs\\ingenias\\lib\\site-packages (from ipykernel>=4.5.1->ipywidgets) (0.1.6)\n",
      "Requirement already satisfied: nest-asyncio in c:\\users\\hp\\anaconda3\\envs\\ingenias\\lib\\site-packages (from ipykernel>=4.5.1->ipywidgets) (1.5.6)\n",
      "Requirement already satisfied: psutil in c:\\users\\hp\\anaconda3\\envs\\ingenias\\lib\\site-packages (from ipykernel>=4.5.1->ipywidgets) (5.9.0)\n",
      "Requirement already satisfied: pyzmq>=20 in c:\\users\\hp\\anaconda3\\envs\\ingenias\\lib\\site-packages (from ipykernel>=4.5.1->ipywidgets) (23.2.0)\n",
      "Requirement already satisfied: tornado>=6.1 in c:\\users\\hp\\anaconda3\\envs\\ingenias\\lib\\site-packages (from ipykernel>=4.5.1->ipywidgets) (6.3.2)\n",
      "Requirement already satisfied: backcall in c:\\users\\hp\\anaconda3\\envs\\ingenias\\lib\\site-packages (from ipython>=6.1.0->ipywidgets) (0.2.0)\n",
      "Requirement already satisfied: decorator in c:\\users\\hp\\anaconda3\\envs\\ingenias\\lib\\site-packages (from ipython>=6.1.0->ipywidgets) (5.1.1)\n",
      "Requirement already satisfied: jedi>=0.16 in c:\\users\\hp\\anaconda3\\envs\\ingenias\\lib\\site-packages (from ipython>=6.1.0->ipywidgets) (0.18.1)\n",
      "Requirement already satisfied: pickleshare in c:\\users\\hp\\anaconda3\\envs\\ingenias\\lib\\site-packages (from ipython>=6.1.0->ipywidgets) (0.7.5)\n",
      "Requirement already satisfied: prompt-toolkit!=3.0.37,<3.1.0,>=3.0.30 in c:\\users\\hp\\anaconda3\\envs\\ingenias\\lib\\site-packages (from ipython>=6.1.0->ipywidgets) (3.0.36)\n",
      "Requirement already satisfied: pygments>=2.4.0 in c:\\users\\hp\\anaconda3\\envs\\ingenias\\lib\\site-packages (from ipython>=6.1.0->ipywidgets) (2.15.1)\n",
      "Requirement already satisfied: stack-data in c:\\users\\hp\\anaconda3\\envs\\ingenias\\lib\\site-packages (from ipython>=6.1.0->ipywidgets) (0.2.0)\n",
      "Requirement already satisfied: colorama in c:\\users\\hp\\anaconda3\\envs\\ingenias\\lib\\site-packages (from ipython>=6.1.0->ipywidgets) (0.4.6)\n",
      "Requirement already satisfied: six>=1.5 in c:\\users\\hp\\anaconda3\\envs\\ingenias\\lib\\site-packages (from python-dateutil>=2.7->matplotlib) (1.16.0)\n",
      "Requirement already satisfied: parso<0.9.0,>=0.8.0 in c:\\users\\hp\\anaconda3\\envs\\ingenias\\lib\\site-packages (from jedi>=0.16->ipython>=6.1.0->ipywidgets) (0.8.3)\n",
      "Requirement already satisfied: entrypoints in c:\\users\\hp\\anaconda3\\envs\\ingenias\\lib\\site-packages (from jupyter-client>=6.1.12->ipykernel>=4.5.1->ipywidgets) (0.4)\n",
      "Requirement already satisfied: platformdirs>=2.5 in c:\\users\\hp\\anaconda3\\envs\\ingenias\\lib\\site-packages (from jupyter-core!=5.0.*,>=4.12->ipykernel>=4.5.1->ipywidgets) (3.8.1)\n",
      "Requirement already satisfied: pywin32>=300 in c:\\users\\hp\\anaconda3\\envs\\ingenias\\lib\\site-packages (from jupyter-core!=5.0.*,>=4.12->ipykernel>=4.5.1->ipywidgets) (305.1)\n",
      "Requirement already satisfied: wcwidth in c:\\users\\hp\\anaconda3\\envs\\ingenias\\lib\\site-packages (from prompt-toolkit!=3.0.37,<3.1.0,>=3.0.30->ipython>=6.1.0->ipywidgets) (0.2.5)\n",
      "Requirement already satisfied: executing in c:\\users\\hp\\anaconda3\\envs\\ingenias\\lib\\site-packages (from stack-data->ipython>=6.1.0->ipywidgets) (0.8.3)\n",
      "Requirement already satisfied: asttokens in c:\\users\\hp\\anaconda3\\envs\\ingenias\\lib\\site-packages (from stack-data->ipython>=6.1.0->ipywidgets) (2.0.5)\n",
      "Requirement already satisfied: pure-eval in c:\\users\\hp\\anaconda3\\envs\\ingenias\\lib\\site-packages (from stack-data->ipython>=6.1.0->ipywidgets) (0.2.2)\n",
      "Building wheels for collected packages: mplcursors\n",
      "  Building wheel for mplcursors (setup.py): started\n",
      "  Building wheel for mplcursors (setup.py): finished with status 'done'\n",
      "  Created wheel for mplcursors: filename=mplcursors-0.5.2-py3-none-any.whl size=21201 sha256=d8657fefa6918252a8a296ba1100c73782ca30b56db55d27b4e0725ee12e8804\n",
      "  Stored in directory: c:\\users\\hp\\appdata\\local\\pip\\cache\\wheels\\5d\\a1\\eb\\b98ee80431eb8217a22381e1725048be8cd0385675b151be45\n",
      "Successfully built mplcursors\n",
      "Installing collected packages: mplcursors\n",
      "Successfully installed mplcursors-0.5.2\n",
      "Requirement already satisfied: ipywidgets in c:\\users\\hp\\anaconda3\\envs\\ingenias\\lib\\site-packages (8.0.4)\n",
      "Requirement already satisfied: ipykernel>=4.5.1 in c:\\users\\hp\\anaconda3\\envs\\ingenias\\lib\\site-packages (from ipywidgets) (6.25.0)\n",
      "Requirement already satisfied: ipython>=6.1.0 in c:\\users\\hp\\anaconda3\\envs\\ingenias\\lib\\site-packages (from ipywidgets) (8.12.2)\n",
      "Requirement already satisfied: traitlets>=4.3.1 in c:\\users\\hp\\anaconda3\\envs\\ingenias\\lib\\site-packages (from ipywidgets) (5.7.1)\n",
      "Requirement already satisfied: widgetsnbextension~=4.0 in c:\\users\\hp\\anaconda3\\envs\\ingenias\\lib\\site-packages (from ipywidgets) (4.0.5)\n",
      "Requirement already satisfied: jupyterlab-widgets~=3.0 in c:\\users\\hp\\anaconda3\\envs\\ingenias\\lib\\site-packages (from ipywidgets) (3.0.5)\n",
      "Requirement already satisfied: comm>=0.1.1 in c:\\users\\hp\\anaconda3\\envs\\ingenias\\lib\\site-packages (from ipykernel>=4.5.1->ipywidgets) (0.1.2)\n",
      "Requirement already satisfied: debugpy>=1.6.5 in c:\\users\\hp\\anaconda3\\envs\\ingenias\\lib\\site-packages (from ipykernel>=4.5.1->ipywidgets) (1.6.7)\n",
      "Requirement already satisfied: jupyter-client>=6.1.12 in c:\\users\\hp\\anaconda3\\envs\\ingenias\\lib\\site-packages (from ipykernel>=4.5.1->ipywidgets) (7.4.9)\n",
      "Requirement already satisfied: jupyter-core!=5.0.*,>=4.12 in c:\\users\\hp\\anaconda3\\envs\\ingenias\\lib\\site-packages (from ipykernel>=4.5.1->ipywidgets) (5.3.0)\n",
      "Requirement already satisfied: matplotlib-inline>=0.1 in c:\\users\\hp\\anaconda3\\envs\\ingenias\\lib\\site-packages (from ipykernel>=4.5.1->ipywidgets) (0.1.6)\n",
      "Requirement already satisfied: nest-asyncio in c:\\users\\hp\\anaconda3\\envs\\ingenias\\lib\\site-packages (from ipykernel>=4.5.1->ipywidgets) (1.5.6)\n",
      "Requirement already satisfied: packaging in c:\\users\\hp\\anaconda3\\envs\\ingenias\\lib\\site-packages (from ipykernel>=4.5.1->ipywidgets) (23.0)\n",
      "Requirement already satisfied: psutil in c:\\users\\hp\\anaconda3\\envs\\ingenias\\lib\\site-packages (from ipykernel>=4.5.1->ipywidgets) (5.9.0)\n",
      "Requirement already satisfied: pyzmq>=20 in c:\\users\\hp\\anaconda3\\envs\\ingenias\\lib\\site-packages (from ipykernel>=4.5.1->ipywidgets) (23.2.0)\n",
      "Requirement already satisfied: tornado>=6.1 in c:\\users\\hp\\anaconda3\\envs\\ingenias\\lib\\site-packages (from ipykernel>=4.5.1->ipywidgets) (6.3.2)\n",
      "Requirement already satisfied: backcall in c:\\users\\hp\\anaconda3\\envs\\ingenias\\lib\\site-packages (from ipython>=6.1.0->ipywidgets) (0.2.0)\n",
      "Requirement already satisfied: decorator in c:\\users\\hp\\anaconda3\\envs\\ingenias\\lib\\site-packages (from ipython>=6.1.0->ipywidgets) (5.1.1)\n",
      "Requirement already satisfied: jedi>=0.16 in c:\\users\\hp\\anaconda3\\envs\\ingenias\\lib\\site-packages (from ipython>=6.1.0->ipywidgets) (0.18.1)\n",
      "Requirement already satisfied: pickleshare in c:\\users\\hp\\anaconda3\\envs\\ingenias\\lib\\site-packages (from ipython>=6.1.0->ipywidgets) (0.7.5)\n",
      "Requirement already satisfied: prompt-toolkit!=3.0.37,<3.1.0,>=3.0.30 in c:\\users\\hp\\anaconda3\\envs\\ingenias\\lib\\site-packages (from ipython>=6.1.0->ipywidgets) (3.0.36)\n",
      "Requirement already satisfied: pygments>=2.4.0 in c:\\users\\hp\\anaconda3\\envs\\ingenias\\lib\\site-packages (from ipython>=6.1.0->ipywidgets) (2.15.1)\n",
      "Requirement already satisfied: stack-data in c:\\users\\hp\\anaconda3\\envs\\ingenias\\lib\\site-packages (from ipython>=6.1.0->ipywidgets) (0.2.0)\n",
      "Requirement already satisfied: colorama in c:\\users\\hp\\anaconda3\\envs\\ingenias\\lib\\site-packages (from ipython>=6.1.0->ipywidgets) (0.4.6)\n",
      "Requirement already satisfied: parso<0.9.0,>=0.8.0 in c:\\users\\hp\\anaconda3\\envs\\ingenias\\lib\\site-packages (from jedi>=0.16->ipython>=6.1.0->ipywidgets) (0.8.3)\n",
      "Requirement already satisfied: entrypoints in c:\\users\\hp\\anaconda3\\envs\\ingenias\\lib\\site-packages (from jupyter-client>=6.1.12->ipykernel>=4.5.1->ipywidgets) (0.4)\n",
      "Requirement already satisfied: python-dateutil>=2.8.2 in c:\\users\\hp\\anaconda3\\envs\\ingenias\\lib\\site-packages (from jupyter-client>=6.1.12->ipykernel>=4.5.1->ipywidgets) (2.8.2)\n",
      "Requirement already satisfied: platformdirs>=2.5 in c:\\users\\hp\\anaconda3\\envs\\ingenias\\lib\\site-packages (from jupyter-core!=5.0.*,>=4.12->ipykernel>=4.5.1->ipywidgets) (3.8.1)\n",
      "Requirement already satisfied: pywin32>=300 in c:\\users\\hp\\anaconda3\\envs\\ingenias\\lib\\site-packages (from jupyter-core!=5.0.*,>=4.12->ipykernel>=4.5.1->ipywidgets) (305.1)\n",
      "Requirement already satisfied: wcwidth in c:\\users\\hp\\anaconda3\\envs\\ingenias\\lib\\site-packages (from prompt-toolkit!=3.0.37,<3.1.0,>=3.0.30->ipython>=6.1.0->ipywidgets) (0.2.5)\n",
      "Requirement already satisfied: executing in c:\\users\\hp\\anaconda3\\envs\\ingenias\\lib\\site-packages (from stack-data->ipython>=6.1.0->ipywidgets) (0.8.3)\n",
      "Requirement already satisfied: asttokens in c:\\users\\hp\\anaconda3\\envs\\ingenias\\lib\\site-packages (from stack-data->ipython>=6.1.0->ipywidgets) (2.0.5)\n",
      "Requirement already satisfied: pure-eval in c:\\users\\hp\\anaconda3\\envs\\ingenias\\lib\\site-packages (from stack-data->ipython>=6.1.0->ipywidgets) (0.2.2)\n",
      "Requirement already satisfied: six>=1.5 in c:\\users\\hp\\anaconda3\\envs\\ingenias\\lib\\site-packages (from python-dateutil>=2.8.2->jupyter-client>=6.1.12->ipykernel>=4.5.1->ipywidgets) (1.16.0)\n"
     ]
    },
    {
     "name": "stdout",
     "output_type": "stream",
     "text": [
      "Requirement already satisfied: cartopy in c:\\users\\hp\\anaconda3\\envs\\ingenias\\lib\\site-packages (0.22.0)\n",
      "Requirement already satisfied: numpy>=1.21 in c:\\users\\hp\\anaconda3\\envs\\ingenias\\lib\\site-packages (from cartopy) (1.25.2)\n",
      "Requirement already satisfied: matplotlib>=3.4 in c:\\users\\hp\\anaconda3\\envs\\ingenias\\lib\\site-packages (from cartopy) (3.7.2)\n",
      "Requirement already satisfied: shapely>=1.7 in c:\\users\\hp\\anaconda3\\envs\\ingenias\\lib\\site-packages (from cartopy) (2.0.1)\n",
      "Requirement already satisfied: packaging>=20 in c:\\users\\hp\\anaconda3\\envs\\ingenias\\lib\\site-packages (from cartopy) (23.0)\n",
      "Requirement already satisfied: pyshp>=2.1 in c:\\users\\hp\\anaconda3\\envs\\ingenias\\lib\\site-packages (from cartopy) (2.3.1)\n",
      "Requirement already satisfied: pyproj>=3.1.0 in c:\\users\\hp\\anaconda3\\envs\\ingenias\\lib\\site-packages (from cartopy) (3.6.0)\n",
      "Requirement already satisfied: contourpy>=1.0.1 in c:\\users\\hp\\anaconda3\\envs\\ingenias\\lib\\site-packages (from matplotlib>=3.4->cartopy) (1.1.0)\n",
      "Requirement already satisfied: cycler>=0.10 in c:\\users\\hp\\anaconda3\\envs\\ingenias\\lib\\site-packages (from matplotlib>=3.4->cartopy) (0.11.0)\n",
      "Requirement already satisfied: fonttools>=4.22.0 in c:\\users\\hp\\anaconda3\\envs\\ingenias\\lib\\site-packages (from matplotlib>=3.4->cartopy) (4.42.0)\n",
      "Requirement already satisfied: kiwisolver>=1.0.1 in c:\\users\\hp\\anaconda3\\envs\\ingenias\\lib\\site-packages (from matplotlib>=3.4->cartopy) (1.4.4)\n",
      "Requirement already satisfied: pillow>=6.2.0 in c:\\users\\hp\\anaconda3\\envs\\ingenias\\lib\\site-packages (from matplotlib>=3.4->cartopy) (10.0.0)\n",
      "Requirement already satisfied: pyparsing<3.1,>=2.3.1 in c:\\users\\hp\\anaconda3\\envs\\ingenias\\lib\\site-packages (from matplotlib>=3.4->cartopy) (3.0.9)\n",
      "Requirement already satisfied: python-dateutil>=2.7 in c:\\users\\hp\\anaconda3\\envs\\ingenias\\lib\\site-packages (from matplotlib>=3.4->cartopy) (2.8.2)\n",
      "Requirement already satisfied: certifi in c:\\users\\hp\\anaconda3\\envs\\ingenias\\lib\\site-packages (from pyproj>=3.1.0->cartopy) (2023.7.22)\n",
      "Requirement already satisfied: six>=1.5 in c:\\users\\hp\\anaconda3\\envs\\ingenias\\lib\\site-packages (from python-dateutil>=2.7->matplotlib>=3.4->cartopy) (1.16.0)\n"
     ]
    }
   ],
   "source": [
    "!pip install fuzzywuzzy\n",
    "#string matching\n",
    "!pip install geopandas\n",
    "#para trabajar con datos espaciales en python\n",
    "!pip install contextily\n",
    "#para tener mapas base para nuestras geometrias\n",
    "!pip install seaborn\n",
    "#visualización estadística\n",
    "!pip install matplotlib mplcursors ipywidgets\n",
    "!pip install ipywidgets\n",
    "!pip install cartopy"
   ]
  },
  {
   "cell_type": "code",
   "execution_count": 2,
   "id": "613704e4",
   "metadata": {
    "colab": {
     "base_uri": "https://localhost:8080/"
    },
    "executionInfo": {
     "elapsed": 3106,
     "status": "ok",
     "timestamp": 1699998880403,
     "user": {
      "displayName": "Julia Panei",
      "userId": "13714276047079325057"
     },
     "user_tz": 180
    },
    "id": "613704e4",
    "outputId": "e296542b-4936-4df2-df54-2f26a6ddda56"
   },
   "outputs": [],
   "source": [
    "import warnings\n",
    "warnings.filterwarnings('ignore')\n",
    "import pandas as pd\n",
    "import numpy as np\n",
    "import matplotlib.pyplot as plt\n",
    "import seaborn as sns\n",
    "import geopandas as gdp\n",
    "from fuzzywuzzy import fuzz, process\n",
    "%matplotlib inline\n",
    "from mpl_toolkits.axes_grid1 import make_axes_locatable\n",
    "from matplotlib.widgets import Slider #Para generar el deslizador\n",
    "import contextily as ctx #Para armar el mapa base.\n",
    "from IPython.display import Markdown\n",
    "import re\n",
    "from sklearn.preprocessing import LabelEncoder"
   ]
  },
  {
   "cell_type": "markdown",
   "id": "0276a95a",
   "metadata": {
    "id": "0276a95a"
   },
   "source": [
    "## 2.Preparación y limpieza de datos"
   ]
  },
  {
   "cell_type": "code",
   "execution_count": 3,
   "id": "d7a3698c",
   "metadata": {
    "id": "d7a3698c"
   },
   "outputs": [],
   "source": [
    "#Leemos el archivo con el data set\n",
    "er = pd.read_csv('../Datos/ER_v2.csv')"
   ]
  },
  {
   "cell_type": "code",
   "execution_count": 4,
   "id": "2bfc1c3f",
   "metadata": {
    "colab": {
     "base_uri": "https://localhost:8080/",
     "height": 746
    },
    "id": "2bfc1c3f",
    "outputId": "d08f0f1e-9572-4052-fe93-918e829ae3a7"
   },
   "outputs": [
    {
     "data": {
      "text/html": [
       "<div>\n",
       "<style scoped>\n",
       "    .dataframe tbody tr th:only-of-type {\n",
       "        vertical-align: middle;\n",
       "    }\n",
       "\n",
       "    .dataframe tbody tr th {\n",
       "        vertical-align: top;\n",
       "    }\n",
       "\n",
       "    .dataframe thead th {\n",
       "        text-align: right;\n",
       "    }\n",
       "</style>\n",
       "<table border=\"1\" class=\"dataframe\">\n",
       "  <thead>\n",
       "    <tr style=\"text-align: right;\">\n",
       "      <th></th>\n",
       "      <th>AÑO</th>\n",
       "      <th>CENTRAL</th>\n",
       "      <th>CENTRAL DESCRIPCIÓN</th>\n",
       "      <th>MAQUINA</th>\n",
       "      <th>FUENTE DE ENERGÍA</th>\n",
       "      <th>REGIÓN</th>\n",
       "      <th>PROVINCIA</th>\n",
       "      <th>MES</th>\n",
       "      <th>ENERGÍA GENERADA [GWh]</th>\n",
       "      <th>Nueva Generación</th>\n",
       "    </tr>\n",
       "  </thead>\n",
       "  <tbody>\n",
       "    <tr>\n",
       "      <th>0</th>\n",
       "      <td>2011</td>\n",
       "      <td>AESP</td>\n",
       "      <td>AES PARANA</td>\n",
       "      <td>AESPCC01</td>\n",
       "      <td>BIODIESEL</td>\n",
       "      <td>LITORAL</td>\n",
       "      <td>BUENOS AIRES</td>\n",
       "      <td>ene-11</td>\n",
       "      <td>0</td>\n",
       "      <td>Resto</td>\n",
       "    </tr>\n",
       "    <tr>\n",
       "      <th>1</th>\n",
       "      <td>2011</td>\n",
       "      <td>AESP</td>\n",
       "      <td>AES PARANA</td>\n",
       "      <td>AESPCC02</td>\n",
       "      <td>BIODIESEL</td>\n",
       "      <td>LITORAL</td>\n",
       "      <td>BUENOS AIRES</td>\n",
       "      <td>ene-11</td>\n",
       "      <td>0</td>\n",
       "      <td>Resto</td>\n",
       "    </tr>\n",
       "    <tr>\n",
       "      <th>2</th>\n",
       "      <td>2011</td>\n",
       "      <td>AMEGHI</td>\n",
       "      <td>F. AMEGHINO</td>\n",
       "      <td>AMEGHI</td>\n",
       "      <td>HIDRO &lt;=50MW</td>\n",
       "      <td>PATAGONIA</td>\n",
       "      <td>CHUBUT</td>\n",
       "      <td>ene-11</td>\n",
       "      <td>13.8</td>\n",
       "      <td>Resto</td>\n",
       "    </tr>\n",
       "    <tr>\n",
       "      <th>3</th>\n",
       "      <td>2011</td>\n",
       "      <td>ARAUEO</td>\n",
       "      <td>ARAUCO EOLICO</td>\n",
       "      <td>ARAUEO</td>\n",
       "      <td>EOLICO</td>\n",
       "      <td>NOROESTE</td>\n",
       "      <td>LA RIOJA</td>\n",
       "      <td>ene-11</td>\n",
       "      <td>0.1</td>\n",
       "      <td>Resto</td>\n",
       "    </tr>\n",
       "    <tr>\n",
       "      <th>4</th>\n",
       "      <td>2011</td>\n",
       "      <td>CACVHI</td>\n",
       "      <td>C.H.CACHEUTA VI</td>\n",
       "      <td>CACVHI</td>\n",
       "      <td>HIDRO &lt;=50MW</td>\n",
       "      <td>CUYO</td>\n",
       "      <td>MENDOZA</td>\n",
       "      <td>ene-11</td>\n",
       "      <td>0</td>\n",
       "      <td>Resto</td>\n",
       "    </tr>\n",
       "  </tbody>\n",
       "</table>\n",
       "</div>"
      ],
      "text/plain": [
       "    AÑO CENTRAL CENTRAL DESCRIPCIÓN   MAQUINA FUENTE DE ENERGÍA     REGIÓN  \\\n",
       "0  2011    AESP          AES PARANA  AESPCC01         BIODIESEL    LITORAL   \n",
       "1  2011    AESP          AES PARANA  AESPCC02         BIODIESEL    LITORAL   \n",
       "2  2011  AMEGHI         F. AMEGHINO    AMEGHI      HIDRO <=50MW  PATAGONIA   \n",
       "3  2011  ARAUEO       ARAUCO EOLICO    ARAUEO            EOLICO   NOROESTE   \n",
       "4  2011  CACVHI     C.H.CACHEUTA VI    CACVHI      HIDRO <=50MW       CUYO   \n",
       "\n",
       "      PROVINCIA     MES ENERGÍA GENERADA [GWh] Nueva Generación  \n",
       "0  BUENOS AIRES  ene-11                      0            Resto  \n",
       "1  BUENOS AIRES  ene-11                      0            Resto  \n",
       "2        CHUBUT  ene-11                   13.8            Resto  \n",
       "3      LA RIOJA  ene-11                    0.1            Resto  \n",
       "4       MENDOZA  ene-11                      0            Resto  "
      ]
     },
     "execution_count": 4,
     "metadata": {},
     "output_type": "execute_result"
    }
   ],
   "source": [
    "er.head(5)"
   ]
  },
  {
   "cell_type": "code",
   "execution_count": 5,
   "id": "FdQMNSejwq59",
   "metadata": {
    "colab": {
     "base_uri": "https://localhost:8080/"
    },
    "executionInfo": {
     "elapsed": 238,
     "status": "ok",
     "timestamp": 1699998904460,
     "user": {
      "displayName": "Julia Panei",
      "userId": "13714276047079325057"
     },
     "user_tz": 180
    },
    "id": "FdQMNSejwq59",
    "outputId": "ecdd52af-b2ea-48ce-bc3d-be6336179d40"
   },
   "outputs": [
    {
     "data": {
      "text/plain": [
       "Index(['anio', 'central', 'central_des', 'maquina', 'fuente_de', 'region',\n",
       "       'prov', 'mes', 'energia_gen', 'nueva_gen'],\n",
       "      dtype='object')"
      ]
     },
     "execution_count": 5,
     "metadata": {},
     "output_type": "execute_result"
    }
   ],
   "source": [
    "#Cambiamos el nombre de las columnas para que sea de más fácil manipulación.\n",
    "er.rename({\"AÑO\":\"anio\",\"CENTRAL\":\"central\",\n",
    "           \"CENTRAL DESCRIPCIÓN\":\"central_des\",\n",
    "           \"MAQUINA\":\"maquina\",\n",
    "           \"FUENTE DE ENERGÍA\":\"fuente_de\",\n",
    "           \"REGIÓN\":\"region\",\n",
    "           \"ENERGÍA GENERADA [GWh]\":\"energia_gen\",\n",
    "           \"Nueva Generación\":\"nueva_gen\",\n",
    "           \"PROVINCIA\":\"prov\",\n",
    "           \"MES\":\"mes\"},\n",
    "          axis='columns', inplace=True)\n",
    "er.columns"
   ]
  },
  {
   "cell_type": "code",
   "execution_count": 6,
   "id": "cbf897ae",
   "metadata": {
    "colab": {
     "base_uri": "https://localhost:8080/"
    },
    "executionInfo": {
     "elapsed": 372,
     "status": "ok",
     "timestamp": 1699998907055,
     "user": {
      "displayName": "Julia Panei",
      "userId": "13714276047079325057"
     },
     "user_tz": 180
    },
    "id": "cbf897ae",
    "outputId": "298361f0-9cec-4ebf-bafc-3898c590a365"
   },
   "outputs": [
    {
     "name": "stdout",
     "output_type": "stream",
     "text": [
      "<class 'pandas.core.frame.DataFrame'>\n",
      "RangeIndex: 15997 entries, 0 to 15996\n",
      "Data columns (total 10 columns):\n",
      " #   Column       Non-Null Count  Dtype \n",
      "---  ------       --------------  ----- \n",
      " 0   anio         15997 non-null  int64 \n",
      " 1   central      15997 non-null  object\n",
      " 2   central_des  15997 non-null  object\n",
      " 3   maquina      15997 non-null  object\n",
      " 4   fuente_de    15997 non-null  object\n",
      " 5   region       15997 non-null  object\n",
      " 6   prov         15997 non-null  object\n",
      " 7   mes          15997 non-null  object\n",
      " 8   energia_gen  15997 non-null  object\n",
      " 9   nueva_gen    15997 non-null  object\n",
      "dtypes: int64(1), object(9)\n",
      "memory usage: 1.2+ MB\n"
     ]
    }
   ],
   "source": [
    "er.info() #información sobre cantidad de columnas, registros, y tipo de datos"
   ]
  },
  {
   "cell_type": "code",
   "execution_count": 7,
   "id": "9nMloSmEA01Z",
   "metadata": {
    "id": "9nMloSmEA01Z"
   },
   "outputs": [],
   "source": [
    "#Sacamos las filas correspondientes a la demanda total Demanda MEM\n",
    "#Primero vemos que filas poseen Demanda MEM\n",
    "index_mem=er[er[\"central\"]==\"Demanda MEM\"].index #Indice de las filas que queremos eliminar\n",
    "er.drop(index_mem,inplace=True) #Eliminamos esas filas"
   ]
  },
  {
   "cell_type": "code",
   "execution_count": 8,
   "id": "hPgi_58n0NHh",
   "metadata": {
    "id": "hPgi_58n0NHh"
   },
   "outputs": [],
   "source": [
    "#Cambiamos el tipo de dato de la energía generada de objeto a float.\n",
    "er[\"energia_gen\"]=er[\"energia_gen\"].astype('float64')"
   ]
  },
  {
   "cell_type": "code",
   "execution_count": 9,
   "id": "d3882363",
   "metadata": {
    "colab": {
     "base_uri": "https://localhost:8080/"
    },
    "executionInfo": {
     "elapsed": 267,
     "status": "ok",
     "timestamp": 1699998914285,
     "user": {
      "displayName": "Julia Panei",
      "userId": "13714276047079325057"
     },
     "user_tz": 180
    },
    "id": "d3882363",
    "outputId": "5437d479-931d-4bdd-d61d-808ac7611b29"
   },
   "outputs": [
    {
     "data": {
      "text/plain": [
       "anio           0\n",
       "central        0\n",
       "central_des    0\n",
       "maquina        0\n",
       "fuente_de      0\n",
       "region         0\n",
       "prov           0\n",
       "mes            0\n",
       "energia_gen    0\n",
       "nueva_gen      0\n",
       "dtype: int64"
      ]
     },
     "execution_count": 9,
     "metadata": {},
     "output_type": "execute_result"
    }
   ],
   "source": [
    "# Verificamos que no posee valores faltantes y ordenamos las columnas de mayor a menor.\n",
    "missing_values = er.isnull().sum().sort_values(ascending = False)\n",
    "\n",
    "missing_values"
   ]
  },
  {
   "cell_type": "code",
   "execution_count": 10,
   "id": "j-Q2sSv3UoqO",
   "metadata": {
    "id": "j-Q2sSv3UoqO"
   },
   "outputs": [],
   "source": [
    "# Cambiamos el formato del nombre de cada mes a su abreviatura en inglés ya que de esta forma permite covertirlo al datetime correspondiente.\n",
    "\n",
    "# Reemplazar en la columna 'mes'\n",
    "er['mes'] = er['mes'].str.replace('ene', 'jan')\n",
    "er['mes'] = er['mes'].str.replace('abr', 'apr')\n",
    "er['mes'] = er['mes'].str.replace('ago', 'aug')\n",
    "er['mes'] = er['mes'].str.replace('dic', 'dec')"
   ]
  },
  {
   "cell_type": "code",
   "execution_count": 11,
   "id": "149a5de5",
   "metadata": {
    "id": "149a5de5"
   },
   "outputs": [],
   "source": [
    "#Pasamos la informacion al formato datetime\n",
    "er['mes']=pd.to_datetime(er['mes'],format='%b-%d').dt.month #Tomamos el mes, que queda representado con un numero.\n",
    "\n",
    "er['anio']=pd.to_datetime(er['anio'],format='%Y').dt.year #Tomamos el año"
   ]
  },
  {
   "cell_type": "code",
   "execution_count": 12,
   "id": "030adfe9",
   "metadata": {
    "colab": {
     "base_uri": "https://localhost:8080/"
    },
    "executionInfo": {
     "elapsed": 259,
     "status": "ok",
     "timestamp": 1699998921744,
     "user": {
      "displayName": "Julia Panei",
      "userId": "13714276047079325057"
     },
     "user_tz": 180
    },
    "id": "030adfe9",
    "outputId": "2343e079-ab3c-455b-9f83-696eab9e729a"
   },
   "outputs": [
    {
     "data": {
      "text/plain": [
       "count    15847.000000\n",
       "mean         5.535458\n",
       "std         10.300713\n",
       "min          0.000000\n",
       "25%          0.000000\n",
       "50%          1.500000\n",
       "75%          6.000000\n",
       "max        167.800000\n",
       "Name: energia_gen, dtype: float64"
      ]
     },
     "execution_count": 12,
     "metadata": {},
     "output_type": "execute_result"
    }
   ],
   "source": [
    "#Analizamos de manera descriptiva la energía generada.\n",
    "\n",
    "er['energia_gen'].describe() #estadística descriptiva"
   ]
  },
  {
   "cell_type": "markdown",
   "id": "vl0FMmMK2hNn",
   "metadata": {
    "id": "vl0FMmMK2hNn"
   },
   "source": [
    "Chequeamos la presencia de outliers"
   ]
  },
  {
   "cell_type": "code",
   "execution_count": 14,
   "id": "4nXGuMq01R3i",
   "metadata": {
    "colab": {
     "base_uri": "https://localhost:8080/",
     "height": 1000
    },
    "executionInfo": {
     "elapsed": 775,
     "status": "ok",
     "timestamp": 1699999274395,
     "user": {
      "displayName": "Julia Panei",
      "userId": "13714276047079325057"
     },
     "user_tz": 180
    },
    "id": "4nXGuMq01R3i",
    "outputId": "26671b76-884c-4da3-a3e1-4a93def969d8"
   },
   "outputs": [
    {
     "data": {
      "image/png": "[encoded data removed]",
      "text/plain": [
       "<Figure size 640x480 with 1 Axes>"
      ]
     },
     "metadata": {},
     "output_type": "display_data"
    },
    {
     "data": {
      "image/png": "[encoded data removed]",
      "text/plain": [
       "<Figure size 640x480 with 1 Axes>"
      ]
     },
     "metadata": {},
     "output_type": "display_data"
    },
    {
     "data": {
      "image/png": "[encoded data removed]",
      "text/plain": [
       "<Figure size 640x480 with 1 Axes>"
      ]
     },
     "metadata": {},
     "output_type": "display_data"
    }
   ],
   "source": [
    "column_list = ['anio', 'mes', 'energia_gen']\n",
    "for col in column_list:\n",
    "    sns.set_palette('cool')\n",
    "    sns.boxplot(x = er[col])\n",
    "    plt.xlabel(col)\n",
    "    plt.show()"
   ]
  },
  {
   "cell_type": "markdown",
   "id": "nxfftN8o18wa",
   "metadata": {
    "id": "nxfftN8o18wa"
   },
   "source": [
    "\n",
    "Cuando se examinan los gráficos anteriores, se observa que hay valores atípicos en las variables energia_gen (energía generada). Sin embargo, estos valores atípicos no perjudican nuestro conjunto de datos. Por el contrario, estos datos nos permiten hacer comentarios sobre los datos de manera más fácil. Por lo tanto, no aplicamos ningún proceso a estos datos."
   ]
  },
  {
   "cell_type": "markdown",
   "id": "3207a71b",
   "metadata": {
    "id": "3207a71b"
   },
   "source": [
    "## 3.Visualización de los datos"
   ]
  },
  {
   "cell_type": "markdown",
   "id": "yCVk9nUqFIqA",
   "metadata": {
    "id": "yCVk9nUqFIqA"
   },
   "source": [
    "## **Countplot::**"
   ]
  },
  {
   "cell_type": "code",
   "execution_count": 15,
   "id": "rq73iJMZFJnp",
   "metadata": {
    "colab": {
     "base_uri": "https://localhost:8080/",
     "height": 520
    },
    "executionInfo": {
     "elapsed": 633,
     "status": "ok",
     "timestamp": 1699999293319,
     "user": {
      "displayName": "Julia Panei",
      "userId": "13714276047079325057"
     },
     "user_tz": 180
    },
    "id": "rq73iJMZFJnp",
    "outputId": "5a8276dd-3122-4f54-887d-e5eb3fa41f05"
   },
   "outputs": [
    {
     "data": {
      "image/png": "[encoded data removed]",
      "text/plain": [
       "<Figure size 800x400 with 1 Axes>"
      ]
     },
     "metadata": {},
     "output_type": "display_data"
    }
   ],
   "source": [
    "# Suma de la cantidad de datos generados por año\n",
    "plt.figure(figsize=(8,4))\n",
    "sns.countplot(x=\"anio\", data=er, palette='cool')\n",
    "plt.ylabel(\"Cantidad de datos\", size=12)\n",
    "plt.xlabel(\"Año\", size=12)\n",
    "plt.title(\"Cantidad de datos por año\", size=16, pad=25)\n",
    "sns.despine()"
   ]
  },
  {
   "cell_type": "markdown",
   "id": "Lne-ffybQRhr",
   "metadata": {
    "id": "Lne-ffybQRhr"
   },
   "source": [
    "Podemos corroborar que en los últimos  años se ha incrementado exponencialmente la cantidad de información sobre energías renovables generadas en el país."
   ]
  },
  {
   "cell_type": "markdown",
   "id": "JHZAQqD2rY6-",
   "metadata": {
    "id": "JHZAQqD2rY6-"
   },
   "source": [
    "## **Barplot**"
   ]
  },
  {
   "cell_type": "code",
   "execution_count": 16,
   "id": "MbxQowtNGVZz",
   "metadata": {
    "colab": {
     "base_uri": "https://localhost:8080/",
     "height": 493
    },
    "executionInfo": {
     "elapsed": 857,
     "status": "ok",
     "timestamp": 1699999297073,
     "user": {
      "displayName": "Julia Panei",
      "userId": "13714276047079325057"
     },
     "user_tz": 180
    },
    "id": "MbxQowtNGVZz",
    "outputId": "68a3fa76-68d4-4d46-f62d-43d72bc9e070",
    "scrolled": true
   },
   "outputs": [
    {
     "data": {
      "image/png": "[encoded data removed]",
      "text/plain": [
       "<Figure size 800x300 with 1 Axes>"
      ]
     },
     "metadata": {},
     "output_type": "display_data"
    }
   ],
   "source": [
    "# Cantidad de energía renovable generada por año\n",
    "\n",
    "# Filtramos los datos y sumamos\n",
    "total_anio = er.groupby(['anio'])['energia_gen'].sum().reset_index()\n",
    "\n",
    "plt.figure(figsize=(8,3))\n",
    "sns.barplot(x = total_anio.anio ,y = total_anio.energia_gen, palette='cool')\n",
    "plt.xlabel(\"Año\", fontsize=12)\n",
    "plt.ylabel(\"Energia renovable generada [GWh]\", fontsize=12)\n",
    "plt.title(\"Energia generada por año\", fontsize=16)\n",
    "sns.despine()"
   ]
  },
  {
   "cell_type": "markdown",
   "id": "2gYM-pWIQVCp",
   "metadata": {
    "id": "2gYM-pWIQVCp"
   },
   "source": [
    "El gráfico muestra que en los últimos cuatro años la cantidad de energía generada por diversas fuentes renovables en el país se ha multiplicado."
   ]
  },
  {
   "cell_type": "markdown",
   "id": "1aef0d08",
   "metadata": {
    "id": "1aef0d08"
   },
   "source": [
    "## Gráfico de barras apiladas:"
   ]
  },
  {
   "cell_type": "code",
   "execution_count": 17,
   "id": "ge_b7i-nICLS",
   "metadata": {
    "colab": {
     "base_uri": "https://localhost:8080/",
     "height": 550
    },
    "executionInfo": {
     "elapsed": 635,
     "status": "ok",
     "timestamp": 1699999301648,
     "user": {
      "displayName": "Julia Panei",
      "userId": "13714276047079325057"
     },
     "user_tz": 180
    },
    "id": "ge_b7i-nICLS",
    "outputId": "c5555bcb-67ac-4e2e-ecbc-15547227c242",
    "scrolled": true
   },
   "outputs": [
    {
     "data": {
      "image/png": "[encoded data removed]",
      "text/plain": [
       "<Figure size 800x400 with 1 Axes>"
      ]
     },
     "metadata": {},
     "output_type": "display_data"
    }
   ],
   "source": [
    "# Cantidad de energía renovable generada por año diferenciada por tipo de fuente de energía\n",
    "\n",
    "# Filtramos los datos y sumamos\n",
    "cat_anio = er.groupby(['anio','fuente_de'])[['energia_gen']].sum().reset_index()\n",
    "df_cat_anio = cat_anio.pivot(index='anio', columns='fuente_de', values='energia_gen').fillna(0).reset_index()\n",
    "\n",
    "# Gráfico de barras apiladas\n",
    "colores = ['#4682B4','#9A72AC', '#00A2AC','#6495ED', '#20C29A','#B200B2']\n",
    "df_cat_anio.set_index('anio').plot(kind='bar', stacked=True, figsize=(8,4), color=colores)\n",
    "plt.xlabel(\"Año\", fontsize=12)\n",
    "plt.ylabel(\"Energía renovable generada [GWh]\", fontsize=12)\n",
    "plt.title(\"Energía generada por año por fuente de energía\", fontsize=16)\n",
    "sns.despine()"
   ]
  },
  {
   "cell_type": "markdown",
   "id": "6v6zGalBQZM5",
   "metadata": {
    "id": "6v6zGalBQZM5"
   },
   "source": [
    "En este gráfico, observamos cómo se desglosa el tipo de energía según su fuente. Se puede apreciar que la energía eólica ha experimentado un notable aumento en los últimos años, mientras que otros tipos de energía han experimentado incrementos más graduales."
   ]
  },
  {
   "cell_type": "markdown",
   "id": "e36b91e2",
   "metadata": {
    "id": "e36b91e2"
   },
   "source": [
    "## Gráfico de barras agrupadas por tipo energía y cantidad de máquinas"
   ]
  },
  {
   "cell_type": "code",
   "execution_count": 18,
   "id": "d644fdc6",
   "metadata": {
    "colab": {
     "base_uri": "https://localhost:8080/"
    },
    "executionInfo": {
     "elapsed": 245,
     "status": "ok",
     "timestamp": 1699999305654,
     "user": {
      "displayName": "Julia Panei",
      "userId": "13714276047079325057"
     },
     "user_tz": 180
    },
    "id": "d644fdc6",
    "outputId": "7b13ec41-c2b0-42b0-f2a3-d483b34c44c1"
   },
   "outputs": [
    {
     "name": "stdout",
     "output_type": "stream",
     "text": [
      "      maquina  fuente_de  CANTIDAD\n",
      "0    ABBGDI01     BIOGAS        28\n",
      "1        ABEF     BIOGAS         3\n",
      "2    ABEFDI01     BIOGAS        25\n",
      "3      ACHIEO     EOLICO        59\n",
      "4    AESPCC01  BIODIESEL       150\n",
      "..        ...        ...       ...\n",
      "223    VSECEO     EOLICO        33\n",
      "224  VTBGDI01     BIOGAS        34\n",
      "225  YAN2DI01     BIOGAS        32\n",
      "226  YANQDI01     BIOGAS        71\n",
      "227    ZONDFV      SOLAR         3\n",
      "\n",
      "[228 rows x 3 columns]\n"
     ]
    }
   ],
   "source": [
    "# Agrupar por las columnas maquina y fuente_de, y contar la cantidad de repeticiones\n",
    "grouped = er.groupby(['maquina', 'fuente_de']).size().reset_index(name='CANTIDAD')\n",
    "# Filtrar las filas donde fuente_de no sea igual a \"Demanda MEM\"\n",
    "filtered_grouped = grouped[grouped['fuente_de'] != 'Demanda MEM']\n",
    "# Imprimir el DataFrame resultante\n",
    "print(filtered_grouped)\n"
   ]
  },
  {
   "cell_type": "code",
   "execution_count": 19,
   "id": "8cf08916",
   "metadata": {
    "colab": {
     "base_uri": "https://localhost:8080/"
    },
    "executionInfo": {
     "elapsed": 228,
     "status": "ok",
     "timestamp": 1699999308635,
     "user": {
      "displayName": "Julia Panei",
      "userId": "13714276047079325057"
     },
     "user_tz": 180
    },
    "id": "8cf08916",
    "outputId": "ffd17eea-1ee2-47ce-db3c-5d8b63650c5b"
   },
   "outputs": [
    {
     "name": "stdout",
     "output_type": "stream",
     "text": [
      "Número de valores distintos en la columna maquina: 228\n",
      "Número de valores distintos en la columna fuente_de: 6\n",
      "Suma total de la columna CANTIDAD: 15847\n"
     ]
    }
   ],
   "source": [
    "# Contar los valores distintos en las columnas maquina y fuente_de\n",
    "maquina_distinct_count = filtered_grouped['maquina'].nunique()\n",
    "fuente_energia_distinct_count = filtered_grouped['fuente_de'].nunique()\n",
    "\n",
    "# Sumar la columna CANTIDAD\n",
    "suma_cantidad = filtered_grouped['CANTIDAD'].sum()\n",
    "\n",
    "# Imprimir los resultados\n",
    "print(f\"Número de valores distintos en la columna maquina: {maquina_distinct_count}\")\n",
    "print(f\"Número de valores distintos en la columna fuente_de: {fuente_energia_distinct_count}\")\n",
    "print(f\"Suma total de la columna CANTIDAD: {suma_cantidad}\")"
   ]
  },
  {
   "cell_type": "code",
   "execution_count": 20,
   "id": "459285c8",
   "metadata": {
    "colab": {
     "base_uri": "https://localhost:8080/",
     "height": 607
    },
    "executionInfo": {
     "elapsed": 875,
     "status": "ok",
     "timestamp": 1699999311720,
     "user": {
      "displayName": "Julia Panei",
      "userId": "13714276047079325057"
     },
     "user_tz": 180
    },
    "id": "459285c8",
    "outputId": "511f86ac-0f3b-4c47-df35-02e1917ee5e5"
   },
   "outputs": [
    {
     "data": {
      "image/png": "[encoded data removed]",
      "text/plain": [
       "<Figure size 800x400 with 1 Axes>"
      ]
     },
     "metadata": {},
     "output_type": "display_data"
    }
   ],
   "source": [
    "# Agrupar por fuente_de y contar la cantidad de modelos y la cantidad total de maquinas\n",
    "energy_stats = filtered_grouped.groupby('fuente_de').agg({'maquina': 'count', 'CANTIDAD': 'sum'}).reset_index()\n",
    "\n",
    "# Renombrar las columnas para mayor claridad\n",
    "energy_stats.rename(columns={'maquina': 'Cantidad de Modelos', 'CANTIDAD': 'Cantidad Total de Máquinas'}, inplace=True)\n",
    "\n",
    "# Crear el diagrama de barras agrupadas\n",
    "sns.set_palette('rainbow')\n",
    "fig, ax = plt.subplots(figsize=(8, 4))\n",
    "energy_stats.plot(kind='bar', x='fuente_de', ax=ax)\n",
    "ax.set_title('Estadísticas de Máquinas por Tipo de Energía')\n",
    "ax.set_xlabel('Tipo de Energía')\n",
    "ax.set_ylabel('CANTIDAD')\n",
    "ax.legend([\"Cantidad de Modelos\", \"Cantidad Total de Máquinas\"])\n",
    "\n",
    "\n",
    "# Agregar etiquetas con los valores en las barras\n",
    "for p in ax.patches:\n",
    "    ax.annotate(str(p.get_height()), (p.get_x() + p.get_width() / 2., p.get_height()), ha='center', va='center', xytext=(0, 10), textcoords='offset points')\n",
    "\n",
    "plt.tight_layout()\n",
    "plt.show()"
   ]
  },
  {
   "cell_type": "markdown",
   "id": "9b1e95f5",
   "metadata": {
    "id": "9b1e95f5"
   },
   "source": [
    "## Gráfico de líneas por tipo de energía y mes"
   ]
  },
  {
   "cell_type": "code",
   "execution_count": 21,
   "id": "43df35b2",
   "metadata": {
    "colab": {
     "base_uri": "https://localhost:8080/"
    },
    "executionInfo": {
     "elapsed": 250,
     "status": "ok",
     "timestamp": 1699999318478,
     "user": {
      "displayName": "Julia Panei",
      "userId": "13714276047079325057"
     },
     "user_tz": 180
    },
    "id": "43df35b2",
    "outputId": "996bbf05-18df-415f-998b-c011042afc55"
   },
   "outputs": [
    {
     "name": "stdout",
     "output_type": "stream",
     "text": [
      "        maquina fuente_de  anio  mes  CANTIDAD\n",
      "0      ABBGDI01    BIOGAS  2021    3         1\n",
      "1      ABBGDI01    BIOGAS  2021    4         1\n",
      "2      ABBGDI01    BIOGAS  2021    5         1\n",
      "3      ABBGDI01    BIOGAS  2021    6         1\n",
      "4      ABBGDI01    BIOGAS  2021    7         1\n",
      "...         ...       ...   ...  ...       ...\n",
      "15817  YANQDI01    BIOGAS  2023    5         1\n",
      "15818  YANQDI01    BIOGAS  2023    6         1\n",
      "15819    ZONDFV     SOLAR  2023    4         1\n",
      "15820    ZONDFV     SOLAR  2023    5         1\n",
      "15821    ZONDFV     SOLAR  2023    6         1\n",
      "\n",
      "[15822 rows x 5 columns]\n"
     ]
    }
   ],
   "source": [
    "\n",
    "# Seleccionar las columnas deseadas\n",
    "columnas_deseadas = ['maquina', 'fuente_de', 'anio', 'mes']\n",
    "\n",
    "# Agrupar por las columnas seleccionadas y contar la cantidad\n",
    "grupo_df = er.groupby(columnas_deseadas).size().reset_index(name='CANTIDAD')\n",
    "\n",
    "# Filtrar y eliminar filas donde fuente_de es igual a \"Demanda MEM\"\n",
    "grupo_df_filtrado = grupo_df[grupo_df['fuente_de'] != 'Demanda MEM']\n",
    "\n",
    "# Mostrar el DataFrame filtrado\n",
    "print(grupo_df_filtrado)"
   ]
  },
  {
   "cell_type": "code",
   "execution_count": 22,
   "id": "89K28DlaRDmZ",
   "metadata": {
    "colab": {
     "base_uri": "https://localhost:8080/",
     "height": 565
    },
    "executionInfo": {
     "elapsed": 1948,
     "status": "ok",
     "timestamp": 1699999323386,
     "user": {
      "displayName": "Julia Panei",
      "userId": "13714276047079325057"
     },
     "user_tz": 180
    },
    "id": "89K28DlaRDmZ",
    "outputId": "d503f386-b546-4e99-9339-f290a60a1ff1"
   },
   "outputs": [
    {
     "data": {
      "image/png": "[encoded data removed]",
      "text/plain": [
       "<Figure size 1000x500 with 1 Axes>"
      ]
     },
     "metadata": {},
     "output_type": "display_data"
    }
   ],
   "source": [
    "# Filtrar y seleccionar las columnas deseadas\n",
    "grupo_df_filtrado = grupo_df[['fuente_de', 'anio', 'mes', 'CANTIDAD']]\n",
    "\n",
    "# Crear un gráfico de línea\n",
    "sns.set_palette('cool')\n",
    "plt.figure(figsize=(10, 5))\n",
    "sns.lineplot(data=grupo_df_filtrado, x='mes', y='CANTIDAD', hue='fuente_de', markers=True)\n",
    "\n",
    "# Añadir etiquetas y título\n",
    "plt.xlabel('Mes')\n",
    "plt.ylabel('Cantidad')\n",
    "plt.title('Gráfico de línea por fecha y tipo de energía')\n",
    "\n",
    "# Mostrar la leyenda\n",
    "plt.legend(title='Tipo de Energía', bbox_to_anchor=(1, 1))\n",
    "\n",
    "# Mostrar el gráfico\n",
    "plt.show()"
   ]
  },
  {
   "cell_type": "markdown",
   "id": "97k8odT0Svlq",
   "metadata": {
    "id": "97k8odT0Svlq"
   },
   "source": [
    "En este gráfico, podemos observar que la produccíon de algunas energías varía según el mes del año."
   ]
  },
  {
   "cell_type": "markdown",
   "id": "9eafec0f",
   "metadata": {
    "id": "9eafec0f"
   },
   "source": [
    "## 4. Cantidad de energía generada por provincia"
   ]
  },
  {
   "cell_type": "markdown",
   "id": "uwMHhwNeVZnF",
   "metadata": {
    "id": "uwMHhwNeVZnF"
   },
   "source": [
    "## **Mapa de energía generada por año por cada provincia**"
   ]
  },
  {
   "cell_type": "markdown",
   "id": "xbMaLcUBVBf2",
   "metadata": {
    "id": "xbMaLcUBVBf2"
   },
   "source": [
    "Sumamos a nuestro dataset original un archivo con datos geoespaciales proveniente del Instituto Geográfico Nacional."
   ]
  },
  {
   "cell_type": "code",
   "execution_count": 23,
   "id": "607a61f8",
   "metadata": {
    "colab": {
     "base_uri": "https://localhost:8080/",
     "height": 536
    },
    "executionInfo": {
     "elapsed": 7673,
     "status": "ok",
     "timestamp": 1699990468552,
     "user": {
      "displayName": "Julia Panei",
      "userId": "13714276047079325057"
     },
     "user_tz": 180
    },
    "id": "607a61f8",
    "outputId": "888f2e47-d2da-4c12-9d5f-745a8f350016"
   },
   "outputs": [
    {
     "data": {
      "text/html": [
       "<div>\n",
       "<style scoped>\n",
       "    .dataframe tbody tr th:only-of-type {\n",
       "        vertical-align: middle;\n",
       "    }\n",
       "\n",
       "    .dataframe tbody tr th {\n",
       "        vertical-align: top;\n",
       "    }\n",
       "\n",
       "    .dataframe thead th {\n",
       "        text-align: right;\n",
       "    }\n",
       "</style>\n",
       "<table border=\"1\" class=\"dataframe\">\n",
       "  <thead>\n",
       "    <tr style=\"text-align: right;\">\n",
       "      <th></th>\n",
       "      <th>gid</th>\n",
       "      <th>entidad</th>\n",
       "      <th>fna</th>\n",
       "      <th>gna</th>\n",
       "      <th>nam</th>\n",
       "      <th>in1</th>\n",
       "      <th>fdc</th>\n",
       "      <th>sag</th>\n",
       "      <th>fdc2</th>\n",
       "      <th>geometry</th>\n",
       "    </tr>\n",
       "  </thead>\n",
       "  <tbody>\n",
       "    <tr>\n",
       "      <th>0</th>\n",
       "      <td>1</td>\n",
       "      <td>0.0</td>\n",
       "      <td>Ciudad Autónoma de Buenos Aires</td>\n",
       "      <td>Ciudad Autónoma de Buenos Aires</td>\n",
       "      <td>Ciudad Autónoma de Buenos Aires</td>\n",
       "      <td>02</td>\n",
       "      <td>IGN</td>\n",
       "      <td>IGN</td>\n",
       "      <td>NaN</td>\n",
       "      <td>POLYGON ((-58.45535 -34.52776, -58.45404 -34.5...</td>\n",
       "    </tr>\n",
       "    <tr>\n",
       "      <th>1</th>\n",
       "      <td>2</td>\n",
       "      <td>0.0</td>\n",
       "      <td>Provincia del Neuquén</td>\n",
       "      <td>Provincia</td>\n",
       "      <td>Neuquén</td>\n",
       "      <td>58</td>\n",
       "      <td>IGN</td>\n",
       "      <td>IGN</td>\n",
       "      <td>NaN</td>\n",
       "      <td>POLYGON ((-70.39341 -36.15624, -70.39333 -36.1...</td>\n",
       "    </tr>\n",
       "    <tr>\n",
       "      <th>2</th>\n",
       "      <td>3</td>\n",
       "      <td>0.0</td>\n",
       "      <td>Provincia de San Luis</td>\n",
       "      <td>Provincia</td>\n",
       "      <td>San Luis</td>\n",
       "      <td>74</td>\n",
       "      <td>IGN</td>\n",
       "      <td>IGN</td>\n",
       "      <td>NaN</td>\n",
       "      <td>POLYGON ((-67.05547 -31.85605, -67.05000 -31.8...</td>\n",
       "    </tr>\n",
       "    <tr>\n",
       "      <th>3</th>\n",
       "      <td>4</td>\n",
       "      <td>0.0</td>\n",
       "      <td>Provincia de Santa Fe</td>\n",
       "      <td>Provincia</td>\n",
       "      <td>Santa Fe</td>\n",
       "      <td>82</td>\n",
       "      <td>IGN</td>\n",
       "      <td>IGN</td>\n",
       "      <td>NaN</td>\n",
       "      <td>POLYGON ((-61.04639 -27.99800, -61.00805 -27.9...</td>\n",
       "    </tr>\n",
       "    <tr>\n",
       "      <th>4</th>\n",
       "      <td>11</td>\n",
       "      <td>0.0</td>\n",
       "      <td>Provincia del Chubut</td>\n",
       "      <td>Provincia</td>\n",
       "      <td>Chubut</td>\n",
       "      <td>26</td>\n",
       "      <td>IGN</td>\n",
       "      <td>IGN</td>\n",
       "      <td>NaN</td>\n",
       "      <td>MULTIPOLYGON (((-66.69852 -45.24747, -66.69920...</td>\n",
       "    </tr>\n",
       "  </tbody>\n",
       "</table>\n",
       "</div>"
      ],
      "text/plain": [
       "   gid  entidad                              fna  \\\n",
       "0    1      0.0  Ciudad Autónoma de Buenos Aires   \n",
       "1    2      0.0            Provincia del Neuquén   \n",
       "2    3      0.0            Provincia de San Luis   \n",
       "3    4      0.0            Provincia de Santa Fe   \n",
       "4   11      0.0             Provincia del Chubut   \n",
       "\n",
       "                               gna                              nam in1  fdc  \\\n",
       "0  Ciudad Autónoma de Buenos Aires  Ciudad Autónoma de Buenos Aires  02  IGN   \n",
       "1                        Provincia                          Neuquén  58  IGN   \n",
       "2                        Provincia                         San Luis  74  IGN   \n",
       "3                        Provincia                         Santa Fe  82  IGN   \n",
       "4                        Provincia                           Chubut  26  IGN   \n",
       "\n",
       "   sag  fdc2                                           geometry  \n",
       "0  IGN   NaN  POLYGON ((-58.45535 -34.52776, -58.45404 -34.5...  \n",
       "1  IGN   NaN  POLYGON ((-70.39341 -36.15624, -70.39333 -36.1...  \n",
       "2  IGN   NaN  POLYGON ((-67.05547 -31.85605, -67.05000 -31.8...  \n",
       "3  IGN   NaN  POLYGON ((-61.04639 -27.99800, -61.00805 -27.9...  \n",
       "4  IGN   NaN  MULTIPOLYGON (((-66.69852 -45.24747, -66.69920...  "
      ]
     },
     "execution_count": 23,
     "metadata": {},
     "output_type": "execute_result"
    }
   ],
   "source": [
    "# Leemos el archivo shape que tiene los polígonos de las provincias.\n",
    "\n",
    "prov=gdp.read_file('../Datos/arg.shp')\n",
    "prov.head(5)\n",
    "\n",
    "#La columna fna contiene el nombre de las provincias argentinas.\n",
    "#La columna geometry contiene los polígonos a graficar de cada provincia."
   ]
  },
  {
   "cell_type": "code",
   "execution_count": 24,
   "id": "05626ca2",
   "metadata": {
    "colab": {
     "base_uri": "https://localhost:8080/",
     "height": 34
    },
    "executionInfo": {
     "elapsed": 315,
     "status": "ok",
     "timestamp": 1699990540081,
     "user": {
      "displayName": "Julia Panei",
      "userId": "13714276047079325057"
     },
     "user_tz": 180
    },
    "id": "05626ca2",
    "outputId": "33cdad12-6a21-409b-f889-802e2ac9a4d7"
   },
   "outputs": [
    {
     "name": "stdout",
     "output_type": "stream",
     "text": [
      "Hay 23 provincias y la Ciudad Autónoma de Buenos Aires\n"
     ]
    }
   ],
   "source": [
    "n_prov=len(prov['fna'])\n",
    "print(\"Hay {} provincias y la Ciudad Autónoma de Buenos Aires\".format(n_prov-1))"
   ]
  },
  {
   "cell_type": "code",
   "execution_count": 25,
   "id": "rSahEvTyroyL",
   "metadata": {
    "id": "rSahEvTyroyL"
   },
   "outputs": [],
   "source": [
    "df=er.copy()\n",
    "df.drop(['mes'], axis=1,inplace=True) #Eliminamos la columna del mes que no es de interés\n",
    "df=df.groupby(['prov','anio']).sum('energia_gen').reset_index()"
   ]
  },
  {
   "cell_type": "code",
   "execution_count": 26,
   "id": "dbbfd0db",
   "metadata": {
    "colab": {
     "base_uri": "https://localhost:8080/",
     "height": 353
    },
    "executionInfo": {
     "elapsed": 7,
     "status": "ok",
     "timestamp": 1699990642910,
     "user": {
      "displayName": "Julia Panei",
      "userId": "13714276047079325057"
     },
     "user_tz": 180
    },
    "id": "dbbfd0db",
    "outputId": "7cba8e3c-5172-4549-bd82-9f28029518ce"
   },
   "outputs": [
    {
     "data": {
      "text/markdown": [
       "*Número de provincias del dataframe original:*"
      ],
      "text/plain": [
       "<IPython.core.display.Markdown object>"
      ]
     },
     "metadata": {},
     "output_type": "display_data"
    },
    {
     "data": {
      "text/plain": [
       "20"
      ]
     },
     "metadata": {},
     "output_type": "display_data"
    },
    {
     "name": "stdout",
     "output_type": "stream",
     "text": [
      "['BUENOS AIRES' 'CATAMARCA' 'CHACO' 'CHUBUT' 'CORDOBA' 'CORRIENTES'\n",
      " 'JUJUY' 'LA PAMPA' 'LA RIOJA' 'MENDOZA' 'MISIONES' 'NEUQUÉN' 'RIO NEGRO'\n",
      " 'SALTA' 'SAN JUAN' 'SAN LUIS' 'SANTA CRUZ' 'SANTA FE'\n",
      " 'SANTIAGO DEL ESTERO' 'TUCUMAN']\n"
     ]
    },
    {
     "data": {
      "text/markdown": [
       "*Número de provincias del shape:*"
      ],
      "text/plain": [
       "<IPython.core.display.Markdown object>"
      ]
     },
     "metadata": {},
     "output_type": "display_data"
    },
    {
     "data": {
      "text/plain": [
       "24"
      ]
     },
     "metadata": {},
     "output_type": "display_data"
    },
    {
     "name": "stdout",
     "output_type": "stream",
     "text": [
      "['Ciudad Autónoma de Buenos Aires' 'Provincia del Neuquén'\n",
      " 'Provincia de San Luis' 'Provincia de Santa Fe' 'Provincia del Chubut'\n",
      " 'Provincia de Mendoza' 'Provincia de Entre Ríos' 'Provincia de San Juan'\n",
      " 'Provincia de Jujuy' 'Provincia de Santiago del Estero'\n",
      " 'Provincia de Río Negro' 'Provincia de Corrientes'\n",
      " 'Provincia de Misiones' 'Provincia de Salta' 'Provincia de Córdoba'\n",
      " 'Provincia de Buenos Aires' 'Provincia de La Pampa'\n",
      " 'Provincia de La Rioja' 'Provincia de Catamarca' 'Provincia de Tucumán'\n",
      " 'Provincia del Chaco' 'Provincia de Formosa' 'Provincia de Santa Cruz'\n",
      " 'Provincia Tierra del Fuego']\n"
     ]
    }
   ],
   "source": [
    "# Verificamos si existen la misma cantidad de provincias en ambos dataframe\n",
    "\n",
    "display(Markdown('*Número de provincias del dataframe original:*'),len(df['prov'].unique()))\n",
    "print(df['prov'].unique())\n",
    "display(Markdown('*Número de provincias del shape:*'),len(prov['fna'].unique()))\n",
    "print(prov['fna'].unique())"
   ]
  },
  {
   "cell_type": "code",
   "execution_count": 27,
   "id": "2dc021a4",
   "metadata": {
    "id": "2dc021a4"
   },
   "outputs": [],
   "source": [
    "# Vemos que faltan provincias. Agregamos a Tierra del Fuego, Entre Rios y Formosa.\n",
    "\n",
    "df = pd.concat([df, pd.DataFrame([('TIERRA DEL FUEGO', 2011,0)],columns=df.columns)],\n",
    "    ignore_index=True)\n",
    "df = pd.concat([df, pd.DataFrame([('ENTRE RIOS', 2011,0)],columns=df.columns)],\n",
    "    ignore_index=True)\n",
    "df = pd.concat([df, pd.DataFrame([('FORMOSA', 2011,0)],columns=df.columns)],\n",
    "    ignore_index=True)\n",
    "\n",
    "# Crear un rango de años únicos y provincias únicas\n",
    "anios_unicos = range(df[\"anio\"].min(), df[\"anio\"].max() + 1)\n",
    "provincias_unicas = df[\"prov\"].unique()\n",
    "\n",
    "# Crear todas las combinaciones posibles de año y provincia\n",
    "combinaciones = [(anio, provincia) for anio in anios_unicos for provincia in provincias_unicas]\n",
    "\n",
    "# Crear un nuevo GeoDataFrame con todas las combinaciones\n",
    "nuevo_gdf = pd.DataFrame(combinaciones, columns=[\"anio\", \"prov\"])\n",
    "\n",
    "# Hacer un merge con el GeoDataFrame original para obtener los valores de energía generada\n",
    "nuevo_gdf = nuevo_gdf.merge(df, on=[\"anio\", \"prov\"], how=\"left\").fillna(0)\n",
    "\n",
    "# Renombrar la columna de energía generada\n",
    "nuevo_gdf = nuevo_gdf.rename(columns={\"energia_generada\": \"energia_generada_nueva\"})"
   ]
  },
  {
   "cell_type": "code",
   "execution_count": 28,
   "id": "Lnip8gT5sL-b",
   "metadata": {
    "colab": {
     "base_uri": "https://localhost:8080/",
     "height": 54
    },
    "executionInfo": {
     "elapsed": 1655,
     "status": "ok",
     "timestamp": 1699990759641,
     "user": {
      "displayName": "Julia Panei",
      "userId": "13714276047079325057"
     },
     "user_tz": 180
    },
    "id": "Lnip8gT5sL-b",
    "outputId": "f9459e41-cb25-43be-e7aa-42d3abedc588"
   },
   "outputs": [
    {
     "name": "stdout",
     "output_type": "stream",
     "text": [
      "{'BUENOS AIRES': 'Provincia de Buenos Aires', 'CATAMARCA': 'Provincia de Catamarca', 'CHACO': 'Provincia del Chaco', 'CHUBUT': 'Provincia del Chubut', 'CORDOBA': 'Provincia de Córdoba', 'CORRIENTES': 'Provincia de Corrientes', 'JUJUY': 'Provincia de Jujuy', 'LA PAMPA': 'Provincia de La Pampa', 'LA RIOJA': 'Provincia de La Rioja', 'MENDOZA': 'Provincia de Mendoza', 'MISIONES': 'Provincia de Misiones', 'NEUQUÉN': 'Provincia del Neuquén', 'RIO NEGRO': 'Provincia de Río Negro', 'SALTA': 'Provincia de Salta', 'SAN JUAN': 'Provincia de San Juan', 'SAN LUIS': 'Provincia de San Luis', 'SANTA CRUZ': 'Provincia de Santa Cruz', 'SANTA FE': 'Provincia de Santa Fe', 'SANTIAGO DEL ESTERO': 'Provincia de Santiago del Estero', 'TUCUMAN': 'Provincia de Tucumán', 'TIERRA DEL FUEGO': 'Provincia Tierra del Fuego', 'ENTRE RIOS': 'Provincia de Entre Ríos', 'FORMOSA': 'Provincia de Formosa'}\n"
     ]
    }
   ],
   "source": [
    "#Debemos unir los nombres de las provincias del dataframe er con prov.\n",
    "#Utilizamos una coincidencia aproximada de cadenas de caracteres y nos quedamos con la coincidencia más alta.\n",
    "lista_prov=list(prov['fna']) #Tranformamos en lista los nombres de las provincias.\n",
    "\n",
    "#Eliminamos la Ciudad Autónoma de Buenos Aires ya que no la tenemos en el dataframe inicial er.\n",
    "lista_prov.pop(0)\n",
    "\n",
    "#Definimos una función que busca la coincidencia.\n",
    "def match_regions(list1, list2):\n",
    "    # Toma solo la mejor coincidencia\n",
    "    matched = [process.extract(list1[i], list2, limit=1, scorer=fuzz.partial_ratio)[0][0] for i in range(0,len(list1))]\n",
    "\n",
    "    return {key: value for (key, value) in zip(list1, matched)}\n",
    "\n",
    "match_dict = match_regions(list(nuevo_gdf['prov']), lista_prov)\n",
    "print(match_dict)\n",
    "\n",
    "#Cambiamos el indice del dataframe para que coincida con el shape\n",
    "\n",
    "#.map lo que hace es mapear el indice segun una función de entrada, en este caso, el diccionario que creamos.\n",
    "nuevo_gdf['prov']=nuevo_gdf['prov'].map(match_dict)\n",
    "\n",
    "#Combinamos el .shape y el dataframe en función de las provincias.\n",
    "\n",
    "mer=prov.merge(nuevo_gdf,left_on='fna', right_on='prov',how='left')\n",
    "#Eliminamos la primera fila que corresponde a la Ciudad Autónoma de Buenos Aires.\n",
    "mer=mer.drop(0)\n",
    "\n",
    "# Eliminamos columnas que no son de interés con el método drop\n",
    "\n",
    "mer.drop(['entidad','gid','in1','fdc','sag','fdc2'], axis=1,inplace=True)\n",
    "mer=mer.dropna()"
   ]
  },
  {
   "cell_type": "code",
   "execution_count": 29,
   "id": "kAKYkfxqsOj0",
   "metadata": {
    "id": "kAKYkfxqsOj0"
   },
   "outputs": [],
   "source": [
    "def update_map(year):\n",
    "    ax.clear()\n",
    "    divider = make_axes_locatable(ax)\n",
    "    cax = divider.append_axes(\"right\", size=\"5%\", pad=0.1)\n",
    "\n",
    "    # Filtra el GeoDataFrame por el año seleccionado\n",
    "    filtered_gdf = mer[mer['anio'] == year]\n",
    "\n",
    "    # Plotea el mapa\n",
    "    im=filtered_gdf.plot(column='energia_gen', cmap='Reds', linewidth=0.8, ax=ax, edgecolor='0.8', legend=True, cax=cax,alpha=0.8)\n",
    "    ax.set_title(f'Energía Generada (GWh) por Provincia - Año {int(year)}')\n",
    "\n",
    "    # Agregar un mapa base\n",
    "    ctx.add_basemap(ax, source=ctx.providers.OpenStreetMap.Mapnik, crs=mer.crs.to_string())\n",
    "\n",
    "   # Elimina el colorbar anterior y crea uno nuevo\n",
    "    if hasattr(ax, 'cax'):\n",
    "        ax.cax.remove()  # Elimina la colorbar anterior\n",
    "    cbar = fig.colorbar(im.get_children()[0], cax=cax)\n",
    "    cbar.set_label('Energía Generada (MWh)')\n",
    "    ax.cax = cbar.ax\n",
    "\n",
    "    # Actualiza la visualización\n",
    "    plt.draw()"
   ]
  },
  {
   "cell_type": "code",
   "execution_count": 41,
   "id": "TIts0myDxrBB",
   "metadata": {
    "colab": {
     "base_uri": "https://localhost:8080/",
     "height": 17
    },
    "executionInfo": {
     "elapsed": 11344,
     "status": "ok",
     "timestamp": 1699990791458,
     "user": {
      "displayName": "Julia Panei",
      "userId": "13714276047079325057"
     },
     "user_tz": 180
    },
    "id": "TIts0myDxrBB",
    "outputId": "01e855ec-15e7-4c4e-ff1a-c65f806c30d5"
   },
   "outputs": [
    {
     "data": {
      "application/javascript": [
       "/* Put everything inside the global mpl namespace */\n",
       "/* global mpl */\n",
       "window.mpl = {};\n",
       "\n",
       "mpl.get_websocket_type = function () {\n",
       "    if (typeof WebSocket !== 'undefined') {\n",
       "        return WebSocket;\n",
       "    } else if (typeof MozWebSocket !== 'undefined') {\n",
       "        return MozWebSocket;\n",
       "    } else {\n",
       "        alert(\n",
       "            'Your browser does not have WebSocket support. ' +\n",
       "                'Please try Chrome, Safari or Firefox ≥ 6. ' +\n",
       "                'Firefox 4 and 5 are also supported but you ' +\n",
       "                'have to enable WebSockets in about:config.'\n",
       "        );\n",
       "    }\n",
       "};\n",
       "\n",
       "mpl.figure = function (figure_id, websocket, ondownload, parent_element) {\n",
       "    this.id = figure_id;\n",
       "\n",
       "    this.ws = websocket;\n",
       "\n",
       "    this.supports_binary = this.ws.binaryType !== undefined;\n",
       "\n",
       "    if (!this.supports_binary) {\n",
       "        var warnings = document.getElementById('mpl-warnings');\n",
       "        if (warnings) {\n",
       "            warnings.style.display = 'block';\n",
       "            warnings.textContent =\n",
       "                'This browser does not support binary websocket messages. ' +\n",
       "                'Performance may be slow.';\n",
       "        }\n",
       "    }\n",
       "\n",
       "    this.imageObj = new Image();\n",
       "\n",
       "    this.context = undefined;\n",
       "    this.message = undefined;\n",
       "    this.canvas = undefined;\n",
       "    this.rubberband_canvas = undefined;\n",
       "    this.rubberband_context = undefined;\n",
       "    this.format_dropdown = undefined;\n",
       "\n",
       "    this.image_mode = 'full';\n",
       "\n",
       "    this.root = document.createElement('div');\n",
       "    this.root.setAttribute('style', 'display: inline-block');\n",
       "    this._root_extra_style(this.root);\n",
       "\n",
       "    parent_element.appendChild(this.root);\n",
       "\n",
       "    this._init_header(this);\n",
       "    this._init_canvas(this);\n",
       "    this._init_toolbar(this);\n",
       "\n",
       "    var fig = this;\n",
       "\n",
       "    this.waiting = false;\n",
       "\n",
       "    this.ws.onopen = function () {\n",
       "        fig.send_message('supports_binary', { value: fig.supports_binary });\n",
       "        fig.send_message('send_image_mode', {});\n",
       "        if (fig.ratio !== 1) {\n",
       "            fig.send_message('set_device_pixel_ratio', {\n",
       "                device_pixel_ratio: fig.ratio,\n",
       "            });\n",
       "        }\n",
       "        fig.send_message('refresh', {});\n",
       "    };\n",
       "\n",
       "    this.imageObj.onload = function () {\n",
       "        if (fig.image_mode === 'full') {\n",
       "            // Full images could contain transparency (where diff images\n",
       "            // almost always do), so we need to clear the canvas so that\n",
       "            // there is no ghosting.\n",
       "            fig.context.clearRect(0, 0, fig.canvas.width, fig.canvas.height);\n",
       "        }\n",
       "        fig.context.drawImage(fig.imageObj, 0, 0);\n",
       "    };\n",
       "\n",
       "    this.imageObj.onunload = function () {\n",
       "        fig.ws.close();\n",
       "    };\n",
       "\n",
       "    this.ws.onmessage = this._make_on_message_function(this);\n",
       "\n",
       "    this.ondownload = ondownload;\n",
       "};\n",
       "\n",
       "mpl.figure.prototype._init_header = function () {\n",
       "    var titlebar = document.createElement('div');\n",
       "    titlebar.classList =\n",
       "        'ui-dialog-titlebar ui-widget-header ui-corner-all ui-helper-clearfix';\n",
       "    var titletext = document.createElement('div');\n",
       "    titletext.classList = 'ui-dialog-title';\n",
       "    titletext.setAttribute(\n",
       "        'style',\n",
       "        'width: 100%; text-align: center; padding: 3px;'\n",
       "    );\n",
       "    titlebar.appendChild(titletext);\n",
       "    this.root.appendChild(titlebar);\n",
       "    this.header = titletext;\n",
       "};\n",
       "\n",
       "mpl.figure.prototype._canvas_extra_style = function (_canvas_div) {};\n",
       "\n",
       "mpl.figure.prototype._root_extra_style = function (_canvas_div) {};\n",
       "\n",
       "mpl.figure.prototype._init_canvas = function () {\n",
       "    var fig = this;\n",
       "\n",
       "    var canvas_div = (this.canvas_div = document.createElement('div'));\n",
       "    canvas_div.setAttribute('tabindex', '0');\n",
       "    canvas_div.setAttribute(\n",
       "        'style',\n",
       "        'border: 1px solid #ddd;' +\n",
       "            'box-sizing: content-box;' +\n",
       "            'clear: both;' +\n",
       "            'min-height: 1px;' +\n",
       "            'min-width: 1px;' +\n",
       "            'outline: 0;' +\n",
       "            'overflow: hidden;' +\n",
       "            'position: relative;' +\n",
       "            'resize: both;' +\n",
       "            'z-index: 2;'\n",
       "    );\n",
       "\n",
       "    function on_keyboard_event_closure(name) {\n",
       "        return function (event) {\n",
       "            return fig.key_event(event, name);\n",
       "        };\n",
       "    }\n",
       "\n",
       "    canvas_div.addEventListener(\n",
       "        'keydown',\n",
       "        on_keyboard_event_closure('key_press')\n",
       "    );\n",
       "    canvas_div.addEventListener(\n",
       "        'keyup',\n",
       "        on_keyboard_event_closure('key_release')\n",
       "    );\n",
       "\n",
       "    this._canvas_extra_style(canvas_div);\n",
       "    this.root.appendChild(canvas_div);\n",
       "\n",
       "    var canvas = (this.canvas = document.createElement('canvas'));\n",
       "    canvas.classList.add('mpl-canvas');\n",
       "    canvas.setAttribute(\n",
       "        'style',\n",
       "        'box-sizing: content-box;' +\n",
       "            'pointer-events: none;' +\n",
       "            'position: relative;' +\n",
       "            'z-index: 0;'\n",
       "    );\n",
       "\n",
       "    this.context = canvas.getContext('2d');\n",
       "\n",
       "    var backingStore =\n",
       "        this.context.backingStorePixelRatio ||\n",
       "        this.context.webkitBackingStorePixelRatio ||\n",
       "        this.context.mozBackingStorePixelRatio ||\n",
       "        this.context.msBackingStorePixelRatio ||\n",
       "        this.context.oBackingStorePixelRatio ||\n",
       "        this.context.backingStorePixelRatio ||\n",
       "        1;\n",
       "\n",
       "    this.ratio = (window.devicePixelRatio || 1) / backingStore;\n",
       "\n",
       "    var rubberband_canvas = (this.rubberband_canvas = document.createElement(\n",
       "        'canvas'\n",
       "    ));\n",
       "    rubberband_canvas.setAttribute(\n",
       "        'style',\n",
       "        'box-sizing: content-box;' +\n",
       "            'left: 0;' +\n",
       "            'pointer-events: none;' +\n",
       "            'position: absolute;' +\n",
       "            'top: 0;' +\n",
       "            'z-index: 1;'\n",
       "    );\n",
       "\n",
       "    // Apply a ponyfill if ResizeObserver is not implemented by browser.\n",
       "    if (this.ResizeObserver === undefined) {\n",
       "        if (window.ResizeObserver !== undefined) {\n",
       "            this.ResizeObserver = window.ResizeObserver;\n",
       "        } else {\n",
       "            var obs = _JSXTOOLS_RESIZE_OBSERVER({});\n",
       "            this.ResizeObserver = obs.ResizeObserver;\n",
       "        }\n",
       "    }\n",
       "\n",
       "    this.resizeObserverInstance = new this.ResizeObserver(function (entries) {\n",
       "        var nentries = entries.length;\n",
       "        for (var i = 0; i < nentries; i++) {\n",
       "            var entry = entries[i];\n",
       "            var width, height;\n",
       "            if (entry.contentBoxSize) {\n",
       "                if (entry.contentBoxSize instanceof Array) {\n",
       "                    // Chrome 84 implements new version of spec.\n",
       "                    width = entry.contentBoxSize[0].inlineSize;\n",
       "                    height = entry.contentBoxSize[0].blockSize;\n",
       "                } else {\n",
       "                    // Firefox implements old version of spec.\n",
       "                    width = entry.contentBoxSize.inlineSize;\n",
       "                    height = entry.contentBoxSize.blockSize;\n",
       "                }\n",
       "            } else {\n",
       "                // Chrome <84 implements even older version of spec.\n",
       "                width = entry.contentRect.width;\n",
       "                height = entry.contentRect.height;\n",
       "            }\n",
       "\n",
       "            // Keep the size of the canvas and rubber band canvas in sync with\n",
       "            // the canvas container.\n",
       "            if (entry.devicePixelContentBoxSize) {\n",
       "                // Chrome 84 implements new version of spec.\n",
       "                canvas.setAttribute(\n",
       "                    'width',\n",
       "                    entry.devicePixelContentBoxSize[0].inlineSize\n",
       "                );\n",
       "                canvas.setAttribute(\n",
       "                    'height',\n",
       "                    entry.devicePixelContentBoxSize[0].blockSize\n",
       "                );\n",
       "            } else {\n",
       "                canvas.setAttribute('width', width * fig.ratio);\n",
       "                canvas.setAttribute('height', height * fig.ratio);\n",
       "            }\n",
       "            /* This rescales the canvas back to display pixels, so that it\n",
       "             * appears correct on HiDPI screens. */\n",
       "            canvas.style.width = width + 'px';\n",
       "            canvas.style.height = height + 'px';\n",
       "\n",
       "            rubberband_canvas.setAttribute('width', width);\n",
       "            rubberband_canvas.setAttribute('height', height);\n",
       "\n",
       "            // And update the size in Python. We ignore the initial 0/0 size\n",
       "            // that occurs as the element is placed into the DOM, which should\n",
       "            // otherwise not happen due to the minimum size styling.\n",
       "            if (fig.ws.readyState == 1 && width != 0 && height != 0) {\n",
       "                fig.request_resize(width, height);\n",
       "            }\n",
       "        }\n",
       "    });\n",
       "    this.resizeObserverInstance.observe(canvas_div);\n",
       "\n",
       "    function on_mouse_event_closure(name) {\n",
       "        /* User Agent sniffing is bad, but WebKit is busted:\n",
       "         * https://bugs.webkit.org/show_bug.cgi?id=144526\n",
       "         * https://bugs.webkit.org/show_bug.cgi?id=181818\n",
       "         * The worst that happens here is that they get an extra browser\n",
       "         * selection when dragging, if this check fails to catch them.\n",
       "         */\n",
       "        var UA = navigator.userAgent;\n",
       "        var isWebKit = /AppleWebKit/.test(UA) && !/Chrome/.test(UA);\n",
       "        if(isWebKit) {\n",
       "            return function (event) {\n",
       "                /* This prevents the web browser from automatically changing to\n",
       "                 * the text insertion cursor when the button is pressed. We\n",
       "                 * want to control all of the cursor setting manually through\n",
       "                 * the 'cursor' event from matplotlib */\n",
       "                event.preventDefault()\n",
       "                return fig.mouse_event(event, name);\n",
       "            };\n",
       "        } else {\n",
       "            return function (event) {\n",
       "                return fig.mouse_event(event, name);\n",
       "            };\n",
       "        }\n",
       "    }\n",
       "\n",
       "    canvas_div.addEventListener(\n",
       "        'mousedown',\n",
       "        on_mouse_event_closure('button_press')\n",
       "    );\n",
       "    canvas_div.addEventListener(\n",
       "        'mouseup',\n",
       "        on_mouse_event_closure('button_release')\n",
       "    );\n",
       "    canvas_div.addEventListener(\n",
       "        'dblclick',\n",
       "        on_mouse_event_closure('dblclick')\n",
       "    );\n",
       "    // Throttle sequential mouse events to 1 every 20ms.\n",
       "    canvas_div.addEventListener(\n",
       "        'mousemove',\n",
       "        on_mouse_event_closure('motion_notify')\n",
       "    );\n",
       "\n",
       "    canvas_div.addEventListener(\n",
       "        'mouseenter',\n",
       "        on_mouse_event_closure('figure_enter')\n",
       "    );\n",
       "    canvas_div.addEventListener(\n",
       "        'mouseleave',\n",
       "        on_mouse_event_closure('figure_leave')\n",
       "    );\n",
       "\n",
       "    canvas_div.addEventListener('wheel', function (event) {\n",
       "        if (event.deltaY < 0) {\n",
       "            event.step = 1;\n",
       "        } else {\n",
       "            event.step = -1;\n",
       "        }\n",
       "        on_mouse_event_closure('scroll')(event);\n",
       "    });\n",
       "\n",
       "    canvas_div.appendChild(canvas);\n",
       "    canvas_div.appendChild(rubberband_canvas);\n",
       "\n",
       "    this.rubberband_context = rubberband_canvas.getContext('2d');\n",
       "    this.rubberband_context.strokeStyle = '#000000';\n",
       "\n",
       "    this._resize_canvas = function (width, height, forward) {\n",
       "        if (forward) {\n",
       "            canvas_div.style.width = width + 'px';\n",
       "            canvas_div.style.height = height + 'px';\n",
       "        }\n",
       "    };\n",
       "\n",
       "    // Disable right mouse context menu.\n",
       "    canvas_div.addEventListener('contextmenu', function (_e) {\n",
       "        event.preventDefault();\n",
       "        return false;\n",
       "    });\n",
       "\n",
       "    function set_focus() {\n",
       "        canvas.focus();\n",
       "        canvas_div.focus();\n",
       "    }\n",
       "\n",
       "    window.setTimeout(set_focus, 100);\n",
       "};\n",
       "\n",
       "mpl.figure.prototype._init_toolbar = function () {\n",
       "    var fig = this;\n",
       "\n",
       "    var toolbar = document.createElement('div');\n",
       "    toolbar.classList = 'mpl-toolbar';\n",
       "    this.root.appendChild(toolbar);\n",
       "\n",
       "    function on_click_closure(name) {\n",
       "        return function (_event) {\n",
       "            return fig.toolbar_button_onclick(name);\n",
       "        };\n",
       "    }\n",
       "\n",
       "    function on_mouseover_closure(tooltip) {\n",
       "        return function (event) {\n",
       "            if (!event.currentTarget.disabled) {\n",
       "                return fig.toolbar_button_onmouseover(tooltip);\n",
       "            }\n",
       "        };\n",
       "    }\n",
       "\n",
       "    fig.buttons = {};\n",
       "    var buttonGroup = document.createElement('div');\n",
       "    buttonGroup.classList = 'mpl-button-group';\n",
       "    for (var toolbar_ind in mpl.toolbar_items) {\n",
       "        var name = mpl.toolbar_items[toolbar_ind][0];\n",
       "        var tooltip = mpl.toolbar_items[toolbar_ind][1];\n",
       "        var image = mpl.toolbar_items[toolbar_ind][2];\n",
       "        var method_name = mpl.toolbar_items[toolbar_ind][3];\n",
       "\n",
       "        if (!name) {\n",
       "            /* Instead of a spacer, we start a new button group. */\n",
       "            if (buttonGroup.hasChildNodes()) {\n",
       "                toolbar.appendChild(buttonGroup);\n",
       "            }\n",
       "            buttonGroup = document.createElement('div');\n",
       "            buttonGroup.classList = 'mpl-button-group';\n",
       "            continue;\n",
       "        }\n",
       "\n",
       "        var button = (fig.buttons[name] = document.createElement('button'));\n",
       "        button.classList = 'mpl-widget';\n",
       "        button.setAttribute('role', 'button');\n",
       "        button.setAttribute('aria-disabled', 'false');\n",
       "        button.addEventListener('click', on_click_closure(method_name));\n",
       "        button.addEventListener('mouseover', on_mouseover_closure(tooltip));\n",
       "\n",
       "        var icon_img = document.createElement('img');\n",
       "        icon_img.src = '_images/' + image + '.png';\n",
       "        icon_img.srcset = '_images/' + image + '_large.png 2x';\n",
       "        icon_img.alt = tooltip;\n",
       "        button.appendChild(icon_img);\n",
       "\n",
       "        buttonGroup.appendChild(button);\n",
       "    }\n",
       "\n",
       "    if (buttonGroup.hasChildNodes()) {\n",
       "        toolbar.appendChild(buttonGroup);\n",
       "    }\n",
       "\n",
       "    var fmt_picker = document.createElement('select');\n",
       "    fmt_picker.classList = 'mpl-widget';\n",
       "    toolbar.appendChild(fmt_picker);\n",
       "    this.format_dropdown = fmt_picker;\n",
       "\n",
       "    for (var ind in mpl.extensions) {\n",
       "        var fmt = mpl.extensions[ind];\n",
       "        var option = document.createElement('option');\n",
       "        option.selected = fmt === mpl.default_extension;\n",
       "        option.innerHTML = fmt;\n",
       "        fmt_picker.appendChild(option);\n",
       "    }\n",
       "\n",
       "    var status_bar = document.createElement('span');\n",
       "    status_bar.classList = 'mpl-message';\n",
       "    toolbar.appendChild(status_bar);\n",
       "    this.message = status_bar;\n",
       "};\n",
       "\n",
       "mpl.figure.prototype.request_resize = function (x_pixels, y_pixels) {\n",
       "    // Request matplotlib to resize the figure. Matplotlib will then trigger a resize in the client,\n",
       "    // which will in turn request a refresh of the image.\n",
       "    this.send_message('resize', { width: x_pixels, height: y_pixels });\n",
       "};\n",
       "\n",
       "mpl.figure.prototype.send_message = function (type, properties) {\n",
       "    properties['type'] = type;\n",
       "    properties['figure_id'] = this.id;\n",
       "    this.ws.send(JSON.stringify(properties));\n",
       "};\n",
       "\n",
       "mpl.figure.prototype.send_draw_message = function () {\n",
       "    if (!this.waiting) {\n",
       "        this.waiting = true;\n",
       "        this.ws.send(JSON.stringify({ type: 'draw', figure_id: this.id }));\n",
       "    }\n",
       "};\n",
       "\n",
       "mpl.figure.prototype.handle_save = function (fig, _msg) {\n",
       "    var format_dropdown = fig.format_dropdown;\n",
       "    var format = format_dropdown.options[format_dropdown.selectedIndex].value;\n",
       "    fig.ondownload(fig, format);\n",
       "};\n",
       "\n",
       "mpl.figure.prototype.handle_resize = function (fig, msg) {\n",
       "    var size = msg['size'];\n",
       "    if (size[0] !== fig.canvas.width || size[1] !== fig.canvas.height) {\n",
       "        fig._resize_canvas(size[0], size[1], msg['forward']);\n",
       "        fig.send_message('refresh', {});\n",
       "    }\n",
       "};\n",
       "\n",
       "mpl.figure.prototype.handle_rubberband = function (fig, msg) {\n",
       "    var x0 = msg['x0'] / fig.ratio;\n",
       "    var y0 = (fig.canvas.height - msg['y0']) / fig.ratio;\n",
       "    var x1 = msg['x1'] / fig.ratio;\n",
       "    var y1 = (fig.canvas.height - msg['y1']) / fig.ratio;\n",
       "    x0 = Math.floor(x0) + 0.5;\n",
       "    y0 = Math.floor(y0) + 0.5;\n",
       "    x1 = Math.floor(x1) + 0.5;\n",
       "    y1 = Math.floor(y1) + 0.5;\n",
       "    var min_x = Math.min(x0, x1);\n",
       "    var min_y = Math.min(y0, y1);\n",
       "    var width = Math.abs(x1 - x0);\n",
       "    var height = Math.abs(y1 - y0);\n",
       "\n",
       "    fig.rubberband_context.clearRect(\n",
       "        0,\n",
       "        0,\n",
       "        fig.canvas.width / fig.ratio,\n",
       "        fig.canvas.height / fig.ratio\n",
       "    );\n",
       "\n",
       "    fig.rubberband_context.strokeRect(min_x, min_y, width, height);\n",
       "};\n",
       "\n",
       "mpl.figure.prototype.handle_figure_label = function (fig, msg) {\n",
       "    // Updates the figure title.\n",
       "    fig.header.textContent = msg['label'];\n",
       "};\n",
       "\n",
       "mpl.figure.prototype.handle_cursor = function (fig, msg) {\n",
       "    fig.canvas_div.style.cursor = msg['cursor'];\n",
       "};\n",
       "\n",
       "mpl.figure.prototype.handle_message = function (fig, msg) {\n",
       "    fig.message.textContent = msg['message'];\n",
       "};\n",
       "\n",
       "mpl.figure.prototype.handle_draw = function (fig, _msg) {\n",
       "    // Request the server to send over a new figure.\n",
       "    fig.send_draw_message();\n",
       "};\n",
       "\n",
       "mpl.figure.prototype.handle_image_mode = function (fig, msg) {\n",
       "    fig.image_mode = msg['mode'];\n",
       "};\n",
       "\n",
       "mpl.figure.prototype.handle_history_buttons = function (fig, msg) {\n",
       "    for (var key in msg) {\n",
       "        if (!(key in fig.buttons)) {\n",
       "            continue;\n",
       "        }\n",
       "        fig.buttons[key].disabled = !msg[key];\n",
       "        fig.buttons[key].setAttribute('aria-disabled', !msg[key]);\n",
       "    }\n",
       "};\n",
       "\n",
       "mpl.figure.prototype.handle_navigate_mode = function (fig, msg) {\n",
       "    if (msg['mode'] === 'PAN') {\n",
       "        fig.buttons['Pan'].classList.add('active');\n",
       "        fig.buttons['Zoom'].classList.remove('active');\n",
       "    } else if (msg['mode'] === 'ZOOM') {\n",
       "        fig.buttons['Pan'].classList.remove('active');\n",
       "        fig.buttons['Zoom'].classList.add('active');\n",
       "    } else {\n",
       "        fig.buttons['Pan'].classList.remove('active');\n",
       "        fig.buttons['Zoom'].classList.remove('active');\n",
       "    }\n",
       "};\n",
       "\n",
       "mpl.figure.prototype.updated_canvas_event = function () {\n",
       "    // Called whenever the canvas gets updated.\n",
       "    this.send_message('ack', {});\n",
       "};\n",
       "\n",
       "// A function to construct a web socket function for onmessage handling.\n",
       "// Called in the figure constructor.\n",
       "mpl.figure.prototype._make_on_message_function = function (fig) {\n",
       "    return function socket_on_message(evt) {\n",
       "        if (evt.data instanceof Blob) {\n",
       "            var img = evt.data;\n",
       "            if (img.type !== 'image/png') {\n",
       "                /* FIXME: We get \"Resource interpreted as Image but\n",
       "                 * transferred with MIME type text/plain:\" errors on\n",
       "                 * Chrome.  But how to set the MIME type?  It doesn't seem\n",
       "                 * to be part of the websocket stream */\n",
       "                img.type = 'image/png';\n",
       "            }\n",
       "\n",
       "            /* Free the memory for the previous frames */\n",
       "            if (fig.imageObj.src) {\n",
       "                (window.URL || window.webkitURL).revokeObjectURL(\n",
       "                    fig.imageObj.src\n",
       "                );\n",
       "            }\n",
       "\n",
       "            fig.imageObj.src = (window.URL || window.webkitURL).createObjectURL(\n",
       "                img\n",
       "            );\n",
       "            fig.updated_canvas_event();\n",
       "            fig.waiting = false;\n",
       "            return;\n",
       "        } else if (\n",
       "            typeof evt.data === 'string' &&\n",
       "            evt.data.slice(0, 21) === 'data:image/png;base64'\n",
       "        ) {\n",
       "            fig.imageObj.src = evt.data;\n",
       "            fig.updated_canvas_event();\n",
       "            fig.waiting = false;\n",
       "            return;\n",
       "        }\n",
       "\n",
       "        var msg = JSON.parse(evt.data);\n",
       "        var msg_type = msg['type'];\n",
       "\n",
       "        // Call the  \"handle_{type}\" callback, which takes\n",
       "        // the figure and JSON message as its only arguments.\n",
       "        try {\n",
       "            var callback = fig['handle_' + msg_type];\n",
       "        } catch (e) {\n",
       "            console.log(\n",
       "                \"No handler for the '\" + msg_type + \"' message type: \",\n",
       "                msg\n",
       "            );\n",
       "            return;\n",
       "        }\n",
       "\n",
       "        if (callback) {\n",
       "            try {\n",
       "                // console.log(\"Handling '\" + msg_type + \"' message: \", msg);\n",
       "                callback(fig, msg);\n",
       "            } catch (e) {\n",
       "                console.log(\n",
       "                    \"Exception inside the 'handler_\" + msg_type + \"' callback:\",\n",
       "                    e,\n",
       "                    e.stack,\n",
       "                    msg\n",
       "                );\n",
       "            }\n",
       "        }\n",
       "    };\n",
       "};\n",
       "\n",
       "function getModifiers(event) {\n",
       "    var mods = [];\n",
       "    if (event.ctrlKey) {\n",
       "        mods.push('ctrl');\n",
       "    }\n",
       "    if (event.altKey) {\n",
       "        mods.push('alt');\n",
       "    }\n",
       "    if (event.shiftKey) {\n",
       "        mods.push('shift');\n",
       "    }\n",
       "    if (event.metaKey) {\n",
       "        mods.push('meta');\n",
       "    }\n",
       "    return mods;\n",
       "}\n",
       "\n",
       "/*\n",
       " * return a copy of an object with only non-object keys\n",
       " * we need this to avoid circular references\n",
       " * https://stackoverflow.com/a/24161582/3208463\n",
       " */\n",
       "function simpleKeys(original) {\n",
       "    return Object.keys(original).reduce(function (obj, key) {\n",
       "        if (typeof original[key] !== 'object') {\n",
       "            obj[key] = original[key];\n",
       "        }\n",
       "        return obj;\n",
       "    }, {});\n",
       "}\n",
       "\n",
       "mpl.figure.prototype.mouse_event = function (event, name) {\n",
       "    if (name === 'button_press') {\n",
       "        this.canvas.focus();\n",
       "        this.canvas_div.focus();\n",
       "    }\n",
       "\n",
       "    // from https://stackoverflow.com/q/1114465\n",
       "    var boundingRect = this.canvas.getBoundingClientRect();\n",
       "    var x = (event.clientX - boundingRect.left) * this.ratio;\n",
       "    var y = (event.clientY - boundingRect.top) * this.ratio;\n",
       "\n",
       "    this.send_message(name, {\n",
       "        x: x,\n",
       "        y: y,\n",
       "        button: event.button,\n",
       "        step: event.step,\n",
       "        modifiers: getModifiers(event),\n",
       "        guiEvent: simpleKeys(event),\n",
       "    });\n",
       "\n",
       "    return false;\n",
       "};\n",
       "\n",
       "mpl.figure.prototype._key_event_extra = function (_event, _name) {\n",
       "    // Handle any extra behaviour associated with a key event\n",
       "};\n",
       "\n",
       "mpl.figure.prototype.key_event = function (event, name) {\n",
       "    // Prevent repeat events\n",
       "    if (name === 'key_press') {\n",
       "        if (event.key === this._key) {\n",
       "            return;\n",
       "        } else {\n",
       "            this._key = event.key;\n",
       "        }\n",
       "    }\n",
       "    if (name === 'key_release') {\n",
       "        this._key = null;\n",
       "    }\n",
       "\n",
       "    var value = '';\n",
       "    if (event.ctrlKey && event.key !== 'Control') {\n",
       "        value += 'ctrl+';\n",
       "    }\n",
       "    else if (event.altKey && event.key !== 'Alt') {\n",
       "        value += 'alt+';\n",
       "    }\n",
       "    else if (event.shiftKey && event.key !== 'Shift') {\n",
       "        value += 'shift+';\n",
       "    }\n",
       "\n",
       "    value += 'k' + event.key;\n",
       "\n",
       "    this._key_event_extra(event, name);\n",
       "\n",
       "    this.send_message(name, { key: value, guiEvent: simpleKeys(event) });\n",
       "    return false;\n",
       "};\n",
       "\n",
       "mpl.figure.prototype.toolbar_button_onclick = function (name) {\n",
       "    if (name === 'download') {\n",
       "        this.handle_save(this, null);\n",
       "    } else {\n",
       "        this.send_message('toolbar_button', { name: name });\n",
       "    }\n",
       "};\n",
       "\n",
       "mpl.figure.prototype.toolbar_button_onmouseover = function (tooltip) {\n",
       "    this.message.textContent = tooltip;\n",
       "};\n",
       "\n",
       "///////////////// REMAINING CONTENT GENERATED BY embed_js.py /////////////////\n",
       "// prettier-ignore\n",
       "var _JSXTOOLS_RESIZE_OBSERVER=function(A){var t,i=new WeakMap,n=new WeakMap,a=new WeakMap,r=new WeakMap,o=new Set;function s(e){if(!(this instanceof s))throw new TypeError(\"Constructor requires 'new' operator\");i.set(this,e)}function h(){throw new TypeError(\"Function is not a constructor\")}function c(e,t,i,n){e=0 in arguments?Number(arguments[0]):0,t=1 in arguments?Number(arguments[1]):0,i=2 in arguments?Number(arguments[2]):0,n=3 in arguments?Number(arguments[3]):0,this.right=(this.x=this.left=e)+(this.width=i),this.bottom=(this.y=this.top=t)+(this.height=n),Object.freeze(this)}function d(){t=requestAnimationFrame(d);var s=new WeakMap,p=new Set;o.forEach((function(t){r.get(t).forEach((function(i){var r=t instanceof window.SVGElement,o=a.get(t),d=r?0:parseFloat(o.paddingTop),f=r?0:parseFloat(o.paddingRight),l=r?0:parseFloat(o.paddingBottom),u=r?0:parseFloat(o.paddingLeft),g=r?0:parseFloat(o.borderTopWidth),m=r?0:parseFloat(o.borderRightWidth),w=r?0:parseFloat(o.borderBottomWidth),b=u+f,F=d+l,v=(r?0:parseFloat(o.borderLeftWidth))+m,W=g+w,y=r?0:t.offsetHeight-W-t.clientHeight,E=r?0:t.offsetWidth-v-t.clientWidth,R=b+v,z=F+W,M=r?t.width:parseFloat(o.width)-R-E,O=r?t.height:parseFloat(o.height)-z-y;if(n.has(t)){var k=n.get(t);if(k[0]===M&&k[1]===O)return}n.set(t,[M,O]);var S=Object.create(h.prototype);S.target=t,S.contentRect=new c(u,d,M,O),s.has(i)||(s.set(i,[]),p.add(i)),s.get(i).push(S)}))})),p.forEach((function(e){i.get(e).call(e,s.get(e),e)}))}return s.prototype.observe=function(i){if(i instanceof window.Element){r.has(i)||(r.set(i,new Set),o.add(i),a.set(i,window.getComputedStyle(i)));var n=r.get(i);n.has(this)||n.add(this),cancelAnimationFrame(t),t=requestAnimationFrame(d)}},s.prototype.unobserve=function(i){if(i instanceof window.Element&&r.has(i)){var n=r.get(i);n.has(this)&&(n.delete(this),n.size||(r.delete(i),o.delete(i))),n.size||r.delete(i),o.size||cancelAnimationFrame(t)}},A.DOMRectReadOnly=c,A.ResizeObserver=s,A.ResizeObserverEntry=h,A}; // eslint-disable-line\n",
       "mpl.toolbar_items = [[\"Home\", \"Reset original view\", \"fa fa-home\", \"home\"], [\"Back\", \"Back to previous view\", \"fa fa-arrow-left\", \"back\"], [\"Forward\", \"Forward to next view\", \"fa fa-arrow-right\", \"forward\"], [\"\", \"\", \"\", \"\"], [\"Pan\", \"Left button pans, Right button zooms\\nx/y fixes axis, CTRL fixes aspect\", \"fa fa-arrows\", \"pan\"], [\"Zoom\", \"Zoom to rectangle\\nx/y fixes axis\", \"fa fa-square-o\", \"zoom\"], [\"\", \"\", \"\", \"\"], [\"Download\", \"Download plot\", \"fa fa-floppy-o\", \"download\"]];\n",
       "\n",
       "mpl.extensions = [\"eps\", \"jpeg\", \"pgf\", \"pdf\", \"png\", \"ps\", \"raw\", \"svg\", \"tif\", \"webp\"];\n",
       "\n",
       "mpl.default_extension = \"png\";/* global mpl */\n",
       "\n",
       "var comm_websocket_adapter = function (comm) {\n",
       "    // Create a \"websocket\"-like object which calls the given IPython comm\n",
       "    // object with the appropriate methods. Currently this is a non binary\n",
       "    // socket, so there is still some room for performance tuning.\n",
       "    var ws = {};\n",
       "\n",
       "    ws.binaryType = comm.kernel.ws.binaryType;\n",
       "    ws.readyState = comm.kernel.ws.readyState;\n",
       "    function updateReadyState(_event) {\n",
       "        if (comm.kernel.ws) {\n",
       "            ws.readyState = comm.kernel.ws.readyState;\n",
       "        } else {\n",
       "            ws.readyState = 3; // Closed state.\n",
       "        }\n",
       "    }\n",
       "    comm.kernel.ws.addEventListener('open', updateReadyState);\n",
       "    comm.kernel.ws.addEventListener('close', updateReadyState);\n",
       "    comm.kernel.ws.addEventListener('error', updateReadyState);\n",
       "\n",
       "    ws.close = function () {\n",
       "        comm.close();\n",
       "    };\n",
       "    ws.send = function (m) {\n",
       "        //console.log('sending', m);\n",
       "        comm.send(m);\n",
       "    };\n",
       "    // Register the callback with on_msg.\n",
       "    comm.on_msg(function (msg) {\n",
       "        //console.log('receiving', msg['content']['data'], msg);\n",
       "        var data = msg['content']['data'];\n",
       "        if (data['blob'] !== undefined) {\n",
       "            data = {\n",
       "                data: new Blob(msg['buffers'], { type: data['blob'] }),\n",
       "            };\n",
       "        }\n",
       "        // Pass the mpl event to the overridden (by mpl) onmessage function.\n",
       "        ws.onmessage(data);\n",
       "    });\n",
       "    return ws;\n",
       "};\n",
       "\n",
       "mpl.mpl_figure_comm = function (comm, msg) {\n",
       "    // This is the function which gets called when the mpl process\n",
       "    // starts-up an IPython Comm through the \"matplotlib\" channel.\n",
       "\n",
       "    var id = msg.content.data.id;\n",
       "    // Get hold of the div created by the display call when the Comm\n",
       "    // socket was opened in Python.\n",
       "    var element = document.getElementById(id);\n",
       "    var ws_proxy = comm_websocket_adapter(comm);\n",
       "\n",
       "    function ondownload(figure, _format) {\n",
       "        window.open(figure.canvas.toDataURL());\n",
       "    }\n",
       "\n",
       "    var fig = new mpl.figure(id, ws_proxy, ondownload, element);\n",
       "\n",
       "    // Call onopen now - mpl needs it, as it is assuming we've passed it a real\n",
       "    // web socket which is closed, not our websocket->open comm proxy.\n",
       "    ws_proxy.onopen();\n",
       "\n",
       "    fig.parent_element = element;\n",
       "    fig.cell_info = mpl.find_output_cell(\"<div id='\" + id + \"'></div>\");\n",
       "    if (!fig.cell_info) {\n",
       "        console.error('Failed to find cell for figure', id, fig);\n",
       "        return;\n",
       "    }\n",
       "    fig.cell_info[0].output_area.element.on(\n",
       "        'cleared',\n",
       "        { fig: fig },\n",
       "        fig._remove_fig_handler\n",
       "    );\n",
       "};\n",
       "\n",
       "mpl.figure.prototype.handle_close = function (fig, msg) {\n",
       "    var width = fig.canvas.width / fig.ratio;\n",
       "    fig.cell_info[0].output_area.element.off(\n",
       "        'cleared',\n",
       "        fig._remove_fig_handler\n",
       "    );\n",
       "    fig.resizeObserverInstance.unobserve(fig.canvas_div);\n",
       "\n",
       "    // Update the output cell to use the data from the current canvas.\n",
       "    fig.push_to_output();\n",
       "    var dataURL = fig.canvas.toDataURL();\n",
       "    // Re-enable the keyboard manager in IPython - without this line, in FF,\n",
       "    // the notebook keyboard shortcuts fail.\n",
       "    IPython.keyboard_manager.enable();\n",
       "    fig.parent_element.innerHTML =\n",
       "        '<img src=\"' + dataURL + '\" width=\"' + width + '\">';\n",
       "    fig.close_ws(fig, msg);\n",
       "};\n",
       "\n",
       "mpl.figure.prototype.close_ws = function (fig, msg) {\n",
       "    fig.send_message('closing', msg);\n",
       "    // fig.ws.close()\n",
       "};\n",
       "\n",
       "mpl.figure.prototype.push_to_output = function (_remove_interactive) {\n",
       "    // Turn the data on the canvas into data in the output cell.\n",
       "    var width = this.canvas.width / this.ratio;\n",
       "    var dataURL = this.canvas.toDataURL();\n",
       "    this.cell_info[1]['text/html'] =\n",
       "        '<img src=\"' + dataURL + '\" width=\"' + width + '\">';\n",
       "};\n",
       "\n",
       "mpl.figure.prototype.updated_canvas_event = function () {\n",
       "    // Tell IPython that the notebook contents must change.\n",
       "    IPython.notebook.set_dirty(true);\n",
       "    this.send_message('ack', {});\n",
       "    var fig = this;\n",
       "    // Wait a second, then push the new image to the DOM so\n",
       "    // that it is saved nicely (might be nice to debounce this).\n",
       "    setTimeout(function () {\n",
       "        fig.push_to_output();\n",
       "    }, 1000);\n",
       "};\n",
       "\n",
       "mpl.figure.prototype._init_toolbar = function () {\n",
       "    var fig = this;\n",
       "\n",
       "    var toolbar = document.createElement('div');\n",
       "    toolbar.classList = 'btn-toolbar';\n",
       "    this.root.appendChild(toolbar);\n",
       "\n",
       "    function on_click_closure(name) {\n",
       "        return function (_event) {\n",
       "            return fig.toolbar_button_onclick(name);\n",
       "        };\n",
       "    }\n",
       "\n",
       "    function on_mouseover_closure(tooltip) {\n",
       "        return function (event) {\n",
       "            if (!event.currentTarget.disabled) {\n",
       "                return fig.toolbar_button_onmouseover(tooltip);\n",
       "            }\n",
       "        };\n",
       "    }\n",
       "\n",
       "    fig.buttons = {};\n",
       "    var buttonGroup = document.createElement('div');\n",
       "    buttonGroup.classList = 'btn-group';\n",
       "    var button;\n",
       "    for (var toolbar_ind in mpl.toolbar_items) {\n",
       "        var name = mpl.toolbar_items[toolbar_ind][0];\n",
       "        var tooltip = mpl.toolbar_items[toolbar_ind][1];\n",
       "        var image = mpl.toolbar_items[toolbar_ind][2];\n",
       "        var method_name = mpl.toolbar_items[toolbar_ind][3];\n",
       "\n",
       "        if (!name) {\n",
       "            /* Instead of a spacer, we start a new button group. */\n",
       "            if (buttonGroup.hasChildNodes()) {\n",
       "                toolbar.appendChild(buttonGroup);\n",
       "            }\n",
       "            buttonGroup = document.createElement('div');\n",
       "            buttonGroup.classList = 'btn-group';\n",
       "            continue;\n",
       "        }\n",
       "\n",
       "        button = fig.buttons[name] = document.createElement('button');\n",
       "        button.classList = 'btn btn-default';\n",
       "        button.href = '#';\n",
       "        button.title = name;\n",
       "        button.innerHTML = '<i class=\"fa ' + image + ' fa-lg\"></i>';\n",
       "        button.addEventListener('click', on_click_closure(method_name));\n",
       "        button.addEventListener('mouseover', on_mouseover_closure(tooltip));\n",
       "        buttonGroup.appendChild(button);\n",
       "    }\n",
       "\n",
       "    if (buttonGroup.hasChildNodes()) {\n",
       "        toolbar.appendChild(buttonGroup);\n",
       "    }\n",
       "\n",
       "    // Add the status bar.\n",
       "    var status_bar = document.createElement('span');\n",
       "    status_bar.classList = 'mpl-message pull-right';\n",
       "    toolbar.appendChild(status_bar);\n",
       "    this.message = status_bar;\n",
       "\n",
       "    // Add the close button to the window.\n",
       "    var buttongrp = document.createElement('div');\n",
       "    buttongrp.classList = 'btn-group inline pull-right';\n",
       "    button = document.createElement('button');\n",
       "    button.classList = 'btn btn-mini btn-primary';\n",
       "    button.href = '#';\n",
       "    button.title = 'Stop Interaction';\n",
       "    button.innerHTML = '<i class=\"fa fa-power-off icon-remove icon-large\"></i>';\n",
       "    button.addEventListener('click', function (_evt) {\n",
       "        fig.handle_close(fig, {});\n",
       "    });\n",
       "    button.addEventListener(\n",
       "        'mouseover',\n",
       "        on_mouseover_closure('Stop Interaction')\n",
       "    );\n",
       "    buttongrp.appendChild(button);\n",
       "    var titlebar = this.root.querySelector('.ui-dialog-titlebar');\n",
       "    titlebar.insertBefore(buttongrp, titlebar.firstChild);\n",
       "};\n",
       "\n",
       "mpl.figure.prototype._remove_fig_handler = function (event) {\n",
       "    var fig = event.data.fig;\n",
       "    if (event.target !== this) {\n",
       "        // Ignore bubbled events from children.\n",
       "        return;\n",
       "    }\n",
       "    fig.close_ws(fig, {});\n",
       "};\n",
       "\n",
       "mpl.figure.prototype._root_extra_style = function (el) {\n",
       "    el.style.boxSizing = 'content-box'; // override notebook setting of border-box.\n",
       "};\n",
       "\n",
       "mpl.figure.prototype._canvas_extra_style = function (el) {\n",
       "    // this is important to make the div 'focusable\n",
       "    el.setAttribute('tabindex', 0);\n",
       "    // reach out to IPython and tell the keyboard manager to turn it's self\n",
       "    // off when our div gets focus\n",
       "\n",
       "    // location in version 3\n",
       "    if (IPython.notebook.keyboard_manager) {\n",
       "        IPython.notebook.keyboard_manager.register_events(el);\n",
       "    } else {\n",
       "        // location in version 2\n",
       "        IPython.keyboard_manager.register_events(el);\n",
       "    }\n",
       "};\n",
       "\n",
       "mpl.figure.prototype._key_event_extra = function (event, _name) {\n",
       "    // Check for shift+enter\n",
       "    if (event.shiftKey && event.which === 13) {\n",
       "        this.canvas_div.blur();\n",
       "        // select the cell after this one\n",
       "        var index = IPython.notebook.find_cell_index(this.cell_info[0]);\n",
       "        IPython.notebook.select(index + 1);\n",
       "    }\n",
       "};\n",
       "\n",
       "mpl.figure.prototype.handle_save = function (fig, _msg) {\n",
       "    fig.ondownload(fig, null);\n",
       "};\n",
       "\n",
       "mpl.find_output_cell = function (html_output) {\n",
       "    // Return the cell and output element which can be found *uniquely* in the notebook.\n",
       "    // Note - this is a bit hacky, but it is done because the \"notebook_saving.Notebook\"\n",
       "    // IPython event is triggered only after the cells have been serialised, which for\n",
       "    // our purposes (turning an active figure into a static one), is too late.\n",
       "    var cells = IPython.notebook.get_cells();\n",
       "    var ncells = cells.length;\n",
       "    for (var i = 0; i < ncells; i++) {\n",
       "        var cell = cells[i];\n",
       "        if (cell.cell_type === 'code') {\n",
       "            for (var j = 0; j < cell.output_area.outputs.length; j++) {\n",
       "                var data = cell.output_area.outputs[j];\n",
       "                if (data.data) {\n",
       "                    // IPython >= 3 moved mimebundle to data attribute of output\n",
       "                    data = data.data;\n",
       "                }\n",
       "                if (data['text/html'] === html_output) {\n",
       "                    return [cell, data, j];\n",
       "                }\n",
       "            }\n",
       "        }\n",
       "    }\n",
       "};\n",
       "\n",
       "// Register the function which deals with the matplotlib target/channel.\n",
       "// The kernel may be null if the page has been refreshed.\n",
       "if (IPython.notebook.kernel !== null) {\n",
       "    IPython.notebook.kernel.comm_manager.register_target(\n",
       "        'matplotlib',\n",
       "        mpl.mpl_figure_comm\n",
       "    );\n",
       "}\n"
      ],
      "text/plain": [
       "<IPython.core.display.Javascript object>"
      ]
     },
     "metadata": {},
     "output_type": "display_data"
    },
    {
     "data": {
      "text/html": [
       "<img src=\"data:image/png;base64,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\" width=\"500\">"
      ],
      "text/plain": [
       "<IPython.core.display.HTML object>"
      ]
     },
     "metadata": {},
     "output_type": "display_data"
    }
   ],
   "source": [
    "%matplotlib notebook\n",
    "fig, ax = plt.subplots(1, 1, figsize=(5, 5))\n",
    "update_map(mer['anio'].min())  # Mostrar el mapa para el año mínimo inicialmente\n",
    "\n",
    "# Agregar un slider\n",
    "axcolor = 'lightgoldenrodyellow'\n",
    "ax_slider = plt.axes([0.25, 0.01, 0.65, 0.03], facecolor=axcolor)\n",
    "slider = Slider(ax_slider, 'Año', mer['anio'].min(), mer['anio'].max(), valinit=mer['anio'].min(), valstep=1)\n",
    "\n",
    "# Función de actualización para el slider\n",
    "def slider_update(val):\n",
    "    update_map(slider.val)\n",
    "\n",
    "slider.on_changed(slider_update)\n",
    "\n",
    "plt.show()"
   ]
  },
  {
   "cell_type": "markdown",
   "id": "f5402f77",
   "metadata": {},
   "source": [
    "Podemos observar que las provincias de Chubut y Buenos Aires son las que han crecido en su producción de energía renovable a lo largo de los años. Esto se debe principalmente a la creación y puesta en producción de parque eólicos. Esto nos da una pauta sobre cómo influye la posición geográfica en la energía renovable que prodomina en la provincia, relacionado al clima y a la geografía de ellas. "
   ]
  },
  {
   "cell_type": "markdown",
   "id": "eb490ac7",
   "metadata": {},
   "source": [
    "## 5. Transformación de variables. "
   ]
  },
  {
   "cell_type": "markdown",
   "id": "c0db5b0c",
   "metadata": {},
   "source": [
    "Convertimos las variables categoricas <b>'fuente_de', 'region' y 'prov'</b> en su representación numerica.\n",
    "A partir del métodod get_dummies se crean nuevas columnas para cada categoría única en la columna 'fuente_de' y asgina 1 o 0 según si la categoría está presente o no en cada fila. Finalmente se actualiza el DataFrame con las columnas creadas."
   ]
  },
  {
   "cell_type": "code",
   "execution_count": 31,
   "id": "6f428094",
   "metadata": {},
   "outputs": [],
   "source": [
    "# Leemos nuevamente los datos de er\n",
    "er_limpio = pd.read_csv('../Datos/er_limpio.csv')\n",
    "er_limpio.drop('Unnamed: 0', axis=1, inplace=True)"
   ]
  },
  {
   "cell_type": "code",
   "execution_count": 32,
   "id": "c2dff70c",
   "metadata": {},
   "outputs": [],
   "source": [
    "categorias = pd.get_dummies(er_limpio['fuente_de'])\n",
    "er_limpio = pd.concat([er_limpio.drop('fuente_de', axis = 1),categorias], axis = 1)"
   ]
  },
  {
   "cell_type": "markdown",
   "id": "48a3d0a0",
   "metadata": {},
   "source": [
    "Veamos las diferencias claves entre **get_dummies** y **LabelEncoder**:\n",
    "\n",
    "\n",
    "- get_dummies realiza one-hot encoding, creando columnas binarias para cada categoría (valores 0 o 1).\n",
    "\n",
    "- LabelEncoder realiza integer encoding, asignando enteros a cada categoría única, comenzando en 0.\n",
    "\n",
    "Bajo este contexto vamos a obtener como salida dos DataFrames por energía. Uno con LabelEncoder y otro sin, para evaluar cómo cambian los modelos según la entrada utilizada."
   ]
  },
  {
   "cell_type": "markdown",
   "id": "870b0c48",
   "metadata": {},
   "source": [
    "### DataFrames sin Label Encoder"
   ]
  },
  {
   "cell_type": "markdown",
   "id": "db0136b8",
   "metadata": {},
   "source": [
    "Se eliminan todas las columnas que no serán usadas en el modelo, sólo se deja una fuente de energía por archivo.\n",
    "Vamos a realizar un proceso iterativo donde se vaya guardando en archivos de salida diferentes cada una de las columnas de la energía con las columnas del año, mes y la cantidad de energía generada en GW."
   ]
  },
  {
   "cell_type": "code",
   "execution_count": 33,
   "id": "f37cf944",
   "metadata": {},
   "outputs": [],
   "source": [
    "col_exit = ['BIODIESEL', 'BIOGAS', 'BIOMASA', 'EOLICO', 'HIDRO <=50MW', 'SOLAR']\n",
    "\n",
    "for columna in col_exit[0:]:\n",
    "    # Seleccionar las columnas relevantes\n",
    "    col_salida = ['anio','mes', 'region', 'prov', columna, 'energia_gen']\n",
    "    df_salida = er_limpio[col_salida]\n",
    "\n",
    "    #Nos quedamos con las filas que solo corresponden a la energía correspondiente.\n",
    "    df_salida= df_salida[df_salida[columna] == 1]\n",
    "\n",
    "    # Generar el nombre del archivo de salida\n",
    "    nombre_archivo = \"../Datos/er_{}.csv\".format(re.sub(r'\\W+', '', columna))\n",
    "    ##Se utiliza la libreria re de expresiones regulares para evitar caracteres no alfanumericos.\n",
    "\n",
    "    # Guardar el nuevo Dataset en un archivo CSV\n",
    "    df_salida.to_csv(nombre_archivo, index=False)"
   ]
  },
  {
   "cell_type": "markdown",
   "id": "237a6af3",
   "metadata": {},
   "source": [
    "### DataFrames con Label Encoder\n",
    "\n",
    "Vamos a asignar enteros a cada categoría única de las columnas correspondiente a las provincias y a la región."
   ]
  },
  {
   "cell_type": "code",
   "execution_count": 34,
   "id": "688fa556",
   "metadata": {},
   "outputs": [],
   "source": [
    "test_encoder = LabelEncoder()"
   ]
  },
  {
   "cell_type": "code",
   "execution_count": 35,
   "id": "962d5f8a",
   "metadata": {},
   "outputs": [],
   "source": [
    "er_limpio['prov'] = test_encoder.fit_transform(er_limpio['prov'])"
   ]
  },
  {
   "cell_type": "code",
   "execution_count": 36,
   "id": "82fafbe9",
   "metadata": {},
   "outputs": [
    {
     "data": {
      "text/plain": [
       "array(['BUENOS AIRES', 'CATAMARCA', 'CHACO', 'CHUBUT', 'CORDOBA',\n",
       "       'CORRIENTES', 'JUJUY', 'LA PAMPA', 'LA RIOJA', 'MENDOZA',\n",
       "       'MISIONES', 'NEUQUÉN', 'RIO NEGRO', 'SALTA', 'SAN JUAN',\n",
       "       'SAN LUIS', 'SANTA CRUZ', 'SANTA FE', 'SANTIAGO DEL ESTERO',\n",
       "       'TUCUMAN'], dtype=object)"
      ]
     },
     "execution_count": 36,
     "metadata": {},
     "output_type": "execute_result"
    }
   ],
   "source": [
    "test_encoder.classes_"
   ]
  },
  {
   "cell_type": "code",
   "execution_count": 37,
   "id": "ffa8bfec",
   "metadata": {},
   "outputs": [],
   "source": [
    "er_limpio['region'] = test_encoder.fit_transform(er_limpio['region'])"
   ]
  },
  {
   "cell_type": "code",
   "execution_count": 38,
   "id": "a84a6ab8",
   "metadata": {},
   "outputs": [
    {
     "data": {
      "text/plain": [
       "array(['BUENOS AIRES', 'CENTRO', 'COMAHUE', 'CUYO', 'GRAN BS.AS.',\n",
       "       'LITORAL', 'NORESTE', 'NOROESTE', 'PATAGONIA'], dtype=object)"
      ]
     },
     "execution_count": 38,
     "metadata": {},
     "output_type": "execute_result"
    }
   ],
   "source": [
    "test_encoder.classes_"
   ]
  },
  {
   "cell_type": "markdown",
   "id": "d35eb520",
   "metadata": {},
   "source": [
    "Vamos a realizar un proceso iterativo donde se vaya guardando en archivos de salida diferentes cada una de las columnas de la energía con las columnas del año, mes y la cantidad de energía generada en GW, en esta oportunidad con LabelEncoder"
   ]
  },
  {
   "cell_type": "code",
   "execution_count": 39,
   "id": "9b94e838",
   "metadata": {},
   "outputs": [],
   "source": [
    "col_exit = ['BIODIESEL', 'BIOGAS', 'BIOMASA', 'EOLICO', 'HIDRO <=50MW', 'SOLAR']\n",
    "\n",
    "for columna in col_exit[0:]:\n",
    "    # Seleccionar las columnas relevantes\n",
    "    col_salida = ['anio','mes', 'region', 'prov', columna, 'energia_gen']\n",
    "    df_salida = er_limpio[col_salida]\n",
    "    # Filtrar las filas con valor 1 en la columna 'f_SOLAR'\n",
    "    df_salida= df_salida[df_salida[columna] == 1]\n",
    "\n",
    "    # Generar el nombre del archivo de salida\n",
    "    nombre_archivo = \"../Datos/er_le_{}.csv\".format(re.sub(r'\\W+', '', columna))\n",
    "\n",
    "    ##Se utiliza la libreria re de expresiones regulares para evitar caracteres no alfanumericos.\n",
    "\n",
    "    # Guardar el nuevo Dataset en un archivo CSV\n",
    "    df_salida.to_csv(nombre_archivo, index=False)"
   ]
  },
  {
   "cell_type": "markdown",
   "id": "52849d60",
   "metadata": {},
   "source": [
    "Vemos el ultimo DataFrame exportado"
   ]
  },
  {
   "cell_type": "code",
   "execution_count": 40,
   "id": "1924e829",
   "metadata": {},
   "outputs": [
    {
     "data": {
      "text/html": [
       "<div>\n",
       "<style scoped>\n",
       "    .dataframe tbody tr th:only-of-type {\n",
       "        vertical-align: middle;\n",
       "    }\n",
       "\n",
       "    .dataframe tbody tr th {\n",
       "        vertical-align: top;\n",
       "    }\n",
       "\n",
       "    .dataframe thead th {\n",
       "        text-align: right;\n",
       "    }\n",
       "</style>\n",
       "<table border=\"1\" class=\"dataframe\">\n",
       "  <thead>\n",
       "    <tr style=\"text-align: right;\">\n",
       "      <th></th>\n",
       "      <th>anio</th>\n",
       "      <th>mes</th>\n",
       "      <th>region</th>\n",
       "      <th>prov</th>\n",
       "      <th>SOLAR</th>\n",
       "      <th>energia_gen</th>\n",
       "    </tr>\n",
       "  </thead>\n",
       "  <tbody>\n",
       "    <tr>\n",
       "      <th>37</th>\n",
       "      <td>2011</td>\n",
       "      <td>1</td>\n",
       "      <td>3</td>\n",
       "      <td>14</td>\n",
       "      <td>True</td>\n",
       "      <td>0.0</td>\n",
       "    </tr>\n",
       "    <tr>\n",
       "      <th>80</th>\n",
       "      <td>2011</td>\n",
       "      <td>2</td>\n",
       "      <td>3</td>\n",
       "      <td>14</td>\n",
       "      <td>True</td>\n",
       "      <td>0.0</td>\n",
       "    </tr>\n",
       "    <tr>\n",
       "      <th>123</th>\n",
       "      <td>2011</td>\n",
       "      <td>3</td>\n",
       "      <td>3</td>\n",
       "      <td>14</td>\n",
       "      <td>True</td>\n",
       "      <td>0.1</td>\n",
       "    </tr>\n",
       "    <tr>\n",
       "      <th>166</th>\n",
       "      <td>2011</td>\n",
       "      <td>4</td>\n",
       "      <td>3</td>\n",
       "      <td>14</td>\n",
       "      <td>True</td>\n",
       "      <td>0.2</td>\n",
       "    </tr>\n",
       "    <tr>\n",
       "      <th>209</th>\n",
       "      <td>2011</td>\n",
       "      <td>5</td>\n",
       "      <td>3</td>\n",
       "      <td>14</td>\n",
       "      <td>True</td>\n",
       "      <td>0.2</td>\n",
       "    </tr>\n",
       "  </tbody>\n",
       "</table>\n",
       "</div>"
      ],
      "text/plain": [
       "     anio  mes  region  prov  SOLAR  energia_gen\n",
       "37   2011    1       3    14   True          0.0\n",
       "80   2011    2       3    14   True          0.0\n",
       "123  2011    3       3    14   True          0.1\n",
       "166  2011    4       3    14   True          0.2\n",
       "209  2011    5       3    14   True          0.2"
      ]
     },
     "execution_count": 40,
     "metadata": {},
     "output_type": "execute_result"
    }
   ],
   "source": [
    "df_salida.head(5)"
   ]
  }
 ],
 "metadata": {
  "colab": {
   "provenance": [
    {
     "file_id": "1_UT-QjQaODRGgnb2rDkw_dX5UUpH_wJS",
     "timestamp": 1699661558813
    }
   ]
  },
  "kernelspec": {
   "display_name": "Python 3 (ipykernel)",
   "language": "python",
   "name": "python3"
  },
  "language_info": {
   "codemirror_mode": {
    "name": "ipython",
    "version": 3
   },
   "file_extension": ".py",
   "mimetype": "text/x-python",
   "name": "python",
   "nbconvert_exporter": "python",
   "pygments_lexer": "ipython3",
   "version": "3.11.4"
  }
 },
 "nbformat": 4,
 "nbformat_minor": 5
}
